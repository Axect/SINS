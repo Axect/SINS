{
 "cells": [
  {
   "cell_type": "markdown",
   "metadata": {
    "id": "8KT-3I3t6TRm"
   },
   "source": [
    "# Discover Invariant in Rotation"
   ]
  },
  {
   "cell_type": "markdown",
   "metadata": {
    "id": "AoGKvRnW6Zdw"
   },
   "source": [
    "## Import Model"
   ]
  },
  {
   "cell_type": "code",
   "execution_count": 1,
   "metadata": {
    "executionInfo": {
     "elapsed": 1211,
     "status": "ok",
     "timestamp": 1629385592488,
     "user": {
      "displayName": "김태근",
      "photoUrl": "https://lh3.googleusercontent.com/a-/AOh14GgsExTKJC9FjM9weqcg4dnEFWwMB2lUdaVJK0UOFXQ=s64",
      "userId": "11162072065237115888"
     },
     "user_tz": -540
    },
    "id": "pfffeXTLnJZS"
   },
   "outputs": [],
   "source": [
    "import torch as tch\n",
    "from torch import nn\n",
    "import matplotlib.pyplot as plt\n",
    "from torch.utils.data import Dataset, DataLoader\n",
    "from torch.utils.tensorboard import SummaryWriter\n",
    "import torch.nn.functional as F\n",
    "from torch.distributions.uniform import Uniform\n",
    "# from google.colab import drive\n",
    "import sys, os\n",
    "import math"
   ]
  },
  {
   "cell_type": "code",
   "execution_count": 2,
   "metadata": {
    "executionInfo": {
     "elapsed": 49,
     "status": "ok",
     "timestamp": 1629385592488,
     "user": {
      "displayName": "김태근",
      "photoUrl": "https://lh3.googleusercontent.com/a-/AOh14GgsExTKJC9FjM9weqcg4dnEFWwMB2lUdaVJK0UOFXQ=s64",
      "userId": "11162072065237115888"
     },
     "user_tz": -540
    },
    "id": "DQTWWXsDoGrv"
   },
   "outputs": [],
   "source": [
    "# drive.mount('/content/mnt')\n",
    "# nb_path = '/content/notebooks'\n",
    "# os.symlink('/content/mnt/My Drive/Colab Notebooks', nb_path)\n",
    "# sys.path.insert(0, nb_path)"
   ]
  },
  {
   "cell_type": "code",
   "execution_count": 3,
   "metadata": {
    "colab": {
     "base_uri": "https://localhost:8080/",
     "height": 35
    },
    "executionInfo": {
     "elapsed": 48,
     "status": "ok",
     "timestamp": 1629385592490,
     "user": {
      "displayName": "김태근",
      "photoUrl": "https://lh3.googleusercontent.com/a-/AOh14GgsExTKJC9FjM9weqcg4dnEFWwMB2lUdaVJK0UOFXQ=s64",
      "userId": "11162072065237115888"
     },
     "user_tz": -540
    },
    "id": "4BZ8yuj6o-Qf",
    "outputId": "41109d2a-3c64-4e0c-feb2-56cf68871d9f"
   },
   "outputs": [
    {
     "data": {
      "text/plain": [
       "'cpu'"
      ]
     },
     "execution_count": 3,
     "metadata": {},
     "output_type": "execute_result"
    }
   ],
   "source": [
    "device = 'cuda' if tch.cuda.is_available() else 'cpu'\n",
    "device"
   ]
  },
  {
   "cell_type": "code",
   "execution_count": 4,
   "metadata": {
    "executionInfo": {
     "elapsed": 45,
     "status": "ok",
     "timestamp": 1629385592491,
     "user": {
      "displayName": "김태근",
      "photoUrl": "https://lh3.googleusercontent.com/a-/AOh14GgsExTKJC9FjM9weqcg4dnEFWwMB2lUdaVJK0UOFXQ=s64",
      "userId": "11162072065237115888"
     },
     "user_tz": -540
    },
    "id": "5SQjBVNrpNyv"
   },
   "outputs": [],
   "source": [
    "# Implement Dataset\n",
    "class RotationDataset(Dataset):\n",
    "    def __init__(self, size):\n",
    "        unif1 = Uniform(0.1, 1)\n",
    "        unif2 = Uniform(0, 2*math.pi)\n",
    "        unif3 = Uniform(0.1, 1)\n",
    "        unif4 = Uniform(0, 2*math.pi)\n",
    "        unif5 = Uniform(0, 2*math.pi)\n",
    "\n",
    "        r1 = unif1.sample([size]).float()\n",
    "        th1 = unif2.sample([size]).float()\n",
    "        r2 = unif3.sample([size]).float()\n",
    "        th2 = unif4.sample([size]).float()\n",
    "        th3 = unif5.sample([size]).float()\n",
    "\n",
    "        self.X = tch.column_stack([r1*tch.cos(th1), r1*tch.sin(th1)])\n",
    "        X_p = tch.column_stack([r1*tch.cos(th1+th3), r1*tch.sin(th1+th3)])\n",
    "        X_n = tch.column_stack([r2*tch.cos(th2), r2*tch.sin(th2)])\n",
    "\n",
    "        self.X = tch.vstack([self.X, self.X])\n",
    "        self.X_pair = tch.vstack([X_p, X_n])\n",
    "\n",
    "        # Labeling\n",
    "        y_p = tch.zeros((X_p.shape[0], 1))\n",
    "        y_n = tch.ones((X_n.shape[0], 1))\n",
    "        self.y = tch.vstack([y_p, y_n])\n",
    "\n",
    "    def __len__(self):\n",
    "        return self.X.shape[0]\n",
    "\n",
    "    def __getitem__(self, idx):\n",
    "        x = tch.Tensor(self.X[idx])\n",
    "        x_pair = tch.Tensor(self.X_pair[idx])\n",
    "        y = tch.Tensor(self.y[idx])\n",
    "        return x, x_pair, y"
   ]
  },
  {
   "cell_type": "code",
   "execution_count": 5,
   "metadata": {
    "executionInfo": {
     "elapsed": 42,
     "status": "ok",
     "timestamp": 1629385592491,
     "user": {
      "displayName": "김태근",
      "photoUrl": "https://lh3.googleusercontent.com/a-/AOh14GgsExTKJC9FjM9weqcg4dnEFWwMB2lUdaVJK0UOFXQ=s64",
      "userId": "11162072065237115888"
     },
     "user_tz": -540
    },
    "id": "LA-5hqR5pQ_R"
   },
   "outputs": [],
   "source": [
    "class SNN(nn.Module):\n",
    "    def __init__(self):\n",
    "        super(SNN, self).__init__()\n",
    "        self.linear_relu = nn.Sequential(\n",
    "            nn.Linear(2,100),\n",
    "            nn.ReLU(),\n",
    "            nn.Linear(100,1),\n",
    "            nn.ReLU()\n",
    "        )\n",
    "\n",
    "    def forward(self, x1, x2):\n",
    "        out1 = self.linear_relu(x1)\n",
    "        out2 = self.linear_relu(x2)\n",
    "        return out1, out2"
   ]
  },
  {
   "cell_type": "code",
   "execution_count": 6,
   "metadata": {
    "executionInfo": {
     "elapsed": 39,
     "status": "ok",
     "timestamp": 1629385592492,
     "user": {
      "displayName": "김태근",
      "photoUrl": "https://lh3.googleusercontent.com/a-/AOh14GgsExTKJC9FjM9weqcg4dnEFWwMB2lUdaVJK0UOFXQ=s64",
      "userId": "11162072065237115888"
     },
     "user_tz": -540
    },
    "id": "YkiveGsApTtC"
   },
   "outputs": [],
   "source": [
    "class ContrastiveLoss(tch.nn.Module):\n",
    "    \"\"\"\n",
    "    Contrastive loss function.\n",
    "    Based on: http://yann.lecun.com/exdb/publis/pdf/hadsell-chopra-lecun-06.pdf\n",
    "    \"\"\"\n",
    "\n",
    "    def __init__(self, margin=2.0):\n",
    "        super(ContrastiveLoss, self).__init__()\n",
    "        self.margin = margin\n",
    "\n",
    "    def forward(self, output1, output2, label):\n",
    "        euclidean_distance = F.pairwise_distance(output1, output2, keepdim = True)\n",
    "        loss_contrastive = tch.mean((1-label) * tch.pow(euclidean_distance, 2) +\n",
    "                                      (label) * tch.pow(tch.clamp(self.margin - euclidean_distance, min=0.0), 2))\n",
    "\n",
    "        return loss_contrastive"
   ]
  },
  {
   "cell_type": "code",
   "execution_count": 7,
   "metadata": {
    "colab": {
     "base_uri": "https://localhost:8080/"
    },
    "executionInfo": {
     "elapsed": 37,
     "status": "ok",
     "timestamp": 1629385592492,
     "user": {
      "displayName": "김태근",
      "photoUrl": "https://lh3.googleusercontent.com/a-/AOh14GgsExTKJC9FjM9weqcg4dnEFWwMB2lUdaVJK0UOFXQ=s64",
      "userId": "11162072065237115888"
     },
     "user_tz": -540
    },
    "id": "SoxsrKRtE_Z5",
    "outputId": "93de94c1-19bc-4ce7-a8d2-cfd3e99afb94"
   },
   "outputs": [],
   "source": [
    "#!ls"
   ]
  },
  {
   "cell_type": "code",
   "execution_count": 8,
   "metadata": {
    "executionInfo": {
     "elapsed": 30,
     "status": "ok",
     "timestamp": 1629385592493,
     "user": {
      "displayName": "김태근",
      "photoUrl": "https://lh3.googleusercontent.com/a-/AOh14GgsExTKJC9FjM9weqcg4dnEFWwMB2lUdaVJK0UOFXQ=s64",
      "userId": "11162072065237115888"
     },
     "user_tz": -540
    },
    "id": "zuTX8sP8tdFv"
   },
   "outputs": [],
   "source": [
    "#drive_path = \"drive/My Drive/Colab Notebooks/\""
   ]
  },
  {
   "cell_type": "code",
   "execution_count": 9,
   "metadata": {
    "executionInfo": {
     "elapsed": 2627,
     "status": "ok",
     "timestamp": 1629385595091,
     "user": {
      "displayName": "김태근",
      "photoUrl": "https://lh3.googleusercontent.com/a-/AOh14GgsExTKJC9FjM9weqcg4dnEFWwMB2lUdaVJK0UOFXQ=s64",
      "userId": "11162072065237115888"
     },
     "user_tz": -540
    },
    "id": "RSgAa0PLovAy"
   },
   "outputs": [],
   "source": [
    "net = tch.load(\"model/snn_rot7.pt\").to(device)"
   ]
  },
  {
   "cell_type": "code",
   "execution_count": 10,
   "metadata": {
    "executionInfo": {
     "elapsed": 10,
     "status": "ok",
     "timestamp": 1629385595093,
     "user": {
      "displayName": "김태근",
      "photoUrl": "https://lh3.googleusercontent.com/a-/AOh14GgsExTKJC9FjM9weqcg4dnEFWwMB2lUdaVJK0UOFXQ=s64",
      "userId": "11162072065237115888"
     },
     "user_tz": -540
    },
    "id": "El02j4jvpsqE"
   },
   "outputs": [],
   "source": [
    "pi = tch.tensor(math.pi).float().to(device)"
   ]
  },
  {
   "cell_type": "code",
   "execution_count": 11,
   "metadata": {
    "executionInfo": {
     "elapsed": 8,
     "status": "ok",
     "timestamp": 1629385595093,
     "user": {
      "displayName": "김태근",
      "photoUrl": "https://lh3.googleusercontent.com/a-/AOh14GgsExTKJC9FjM9weqcg4dnEFWwMB2lUdaVJK0UOFXQ=s64",
      "userId": "11162072065237115888"
     },
     "user_tz": -540
    },
    "id": "IZY5_hjEqYVr"
   },
   "outputs": [],
   "source": [
    "loss_fn = ContrastiveLoss()"
   ]
  },
  {
   "cell_type": "markdown",
   "metadata": {
    "id": "xiMVRWru6g2u"
   },
   "source": [
    "## Test Model"
   ]
  },
  {
   "cell_type": "code",
   "execution_count": 12,
   "metadata": {
    "executionInfo": {
     "elapsed": 542,
     "status": "ok",
     "timestamp": 1629385595628,
     "user": {
      "displayName": "김태근",
      "photoUrl": "https://lh3.googleusercontent.com/a-/AOh14GgsExTKJC9FjM9weqcg4dnEFWwMB2lUdaVJK0UOFXQ=s64",
      "userId": "11162072065237115888"
     },
     "user_tz": -540
    },
    "id": "w4qWkWnxpLEG"
   },
   "outputs": [],
   "source": [
    "test_set = RotationDataset(10000)\n",
    "test_data = DataLoader(test_set, batch_size=100)"
   ]
  },
  {
   "cell_type": "code",
   "execution_count": 13,
   "metadata": {
    "colab": {
     "base_uri": "https://localhost:8080/"
    },
    "executionInfo": {
     "elapsed": 14,
     "status": "ok",
     "timestamp": 1629385595629,
     "user": {
      "displayName": "김태근",
      "photoUrl": "https://lh3.googleusercontent.com/a-/AOh14GgsExTKJC9FjM9weqcg4dnEFWwMB2lUdaVJK0UOFXQ=s64",
      "userId": "11162072065237115888"
     },
     "user_tz": -540
    },
    "id": "qSEjNOdbpq8r",
    "outputId": "20cdd859-e004-4584-e9c1-7f52dac4352f"
   },
   "outputs": [
    {
     "name": "stdout",
     "output_type": "stream",
     "text": [
      "Average Accuracy: 99.87503814697266%\n"
     ]
    }
   ],
   "source": [
    "total_accuracy = 0\n",
    "total_size = len(test_data)\n",
    "for batch, samples in enumerate(test_data):\n",
    "    x, x_p, y = samples\n",
    "    x, x_p, y = x.to(device), x_p.to(device), y.to(device)\n",
    "    with tch.no_grad():\n",
    "        pred1, pred2 = net(x, x_p)\n",
    "        idx = tch.flatten((tch.abs(pred1 - pred2) <= 0.2) == y)\n",
    "        acc = tch.count_nonzero(idx)\n",
    "        # print(f\"Accuracy: {100-acc}%\")\n",
    "        total_accuracy += (1 - acc/100)\n",
    "        # temp = tch.column_stack([pred1, pred2, y])\n",
    "        # temp_val = temp[idx]\n",
    "        # if len(temp_val) != 0:\n",
    "        #     print(f\"{batch} - {temp_val[:].tolist()}\")\n",
    "print(f\"Average Accuracy: {total_accuracy/total_size*100}%\")"
   ]
  },
  {
   "cell_type": "markdown",
   "metadata": {
    "id": "g2LYhmjw6ksI"
   },
   "source": [
    "## OLS with Bottleneck"
   ]
  },
  {
   "cell_type": "code",
   "execution_count": 14,
   "metadata": {
    "executionInfo": {
     "elapsed": 970,
     "status": "ok",
     "timestamp": 1629385596588,
     "user": {
      "displayName": "김태근",
      "photoUrl": "https://lh3.googleusercontent.com/a-/AOh14GgsExTKJC9FjM9weqcg4dnEFWwMB2lUdaVJK0UOFXQ=s64",
      "userId": "11162072065237115888"
     },
     "user_tz": -540
    },
    "id": "I00X-MO_7iyQ"
   },
   "outputs": [],
   "source": [
    "def r2_score(output, target):\n",
    "    target_mean = tch.mean(target)\n",
    "    ss_tot = tch.sum((target - target_mean) ** 2)\n",
    "    ss_res = tch.sum((target - output) ** 2)\n",
    "    r2 = 1 - ss_res / ss_tot\n",
    "    return r2"
   ]
  },
  {
   "cell_type": "markdown",
   "metadata": {
    "id": "8vytc1z17BXQ"
   },
   "source": [
    "### Order 1"
   ]
  },
  {
   "cell_type": "code",
   "execution_count": 15,
   "metadata": {
    "colab": {
     "base_uri": "https://localhost:8080/"
    },
    "executionInfo": {
     "elapsed": 44,
     "status": "ok",
     "timestamp": 1629385596590,
     "user": {
      "displayName": "김태근",
      "photoUrl": "https://lh3.googleusercontent.com/a-/AOh14GgsExTKJC9FjM9weqcg4dnEFWwMB2lUdaVJK0UOFXQ=s64",
      "userId": "11162072065237115888"
     },
     "user_tz": -540
    },
    "id": "Fqj7EtyT7CwD",
    "outputId": "7cd3038a-1f47-4d15-dfda-a1f5e3aed5aa"
   },
   "outputs": [
    {
     "data": {
      "text/plain": [
       "tensor([[109.6123],\n",
       "        [ 48.3894],\n",
       "        [149.0285],\n",
       "        ...,\n",
       "        [ 84.0584],\n",
       "        [ 53.9365],\n",
       "        [109.0517]])"
      ]
     },
     "execution_count": 15,
     "metadata": {},
     "output_type": "execute_result"
    }
   ],
   "source": [
    "X, X_p, Y = test_set[:]\n",
    "X, X_p, Y = X.to(device), X_p.to(device), Y.to(device)\n",
    "\n",
    "x, y = X_p[:, 0], X_p[:,1]\n",
    "x, y = x.to(device), y.to(device)\n",
    "\n",
    "net.eval()\n",
    "with tch.no_grad():\n",
    "    _, Z = net(X, X_p)\n",
    "Z"
   ]
  },
  {
   "cell_type": "code",
   "execution_count": 16,
   "metadata": {
    "executionInfo": {
     "elapsed": 43,
     "status": "ok",
     "timestamp": 1629385596591,
     "user": {
      "displayName": "김태근",
      "photoUrl": "https://lh3.googleusercontent.com/a-/AOh14GgsExTKJC9FjM9weqcg4dnEFWwMB2lUdaVJK0UOFXQ=s64",
      "userId": "11162072065237115888"
     },
     "user_tz": -540
    },
    "id": "2_dFun1n7EXi"
   },
   "outputs": [],
   "source": [
    "X_linear = tch.column_stack([tch.ones((len(x), 1)).float().to(device), x, y])"
   ]
  },
  {
   "cell_type": "code",
   "execution_count": 17,
   "metadata": {
    "colab": {
     "base_uri": "https://localhost:8080/"
    },
    "executionInfo": {
     "elapsed": 43,
     "status": "ok",
     "timestamp": 1629385596591,
     "user": {
      "displayName": "김태근",
      "photoUrl": "https://lh3.googleusercontent.com/a-/AOh14GgsExTKJC9FjM9weqcg4dnEFWwMB2lUdaVJK0UOFXQ=s64",
      "userId": "11162072065237115888"
     },
     "user_tz": -540
    },
    "id": "PwoMdqJN7ali",
    "outputId": "99f37877-269f-4118-9b08-1dff05eaf933"
   },
   "outputs": [
    {
     "data": {
      "text/plain": [
       "tensor([[ 9.7181e+01],\n",
       "        [-6.3210e-01],\n",
       "        [-7.8375e-02]])"
      ]
     },
     "execution_count": 17,
     "metadata": {},
     "output_type": "execute_result"
    }
   ],
   "source": [
    "weight_linear = tch.mm(tch.linalg.pinv(X_linear), Z)\n",
    "weight_linear"
   ]
  },
  {
   "cell_type": "code",
   "execution_count": 18,
   "metadata": {
    "colab": {
     "base_uri": "https://localhost:8080/"
    },
    "executionInfo": {
     "elapsed": 41,
     "status": "ok",
     "timestamp": 1629385596591,
     "user": {
      "displayName": "김태근",
      "photoUrl": "https://lh3.googleusercontent.com/a-/AOh14GgsExTKJC9FjM9weqcg4dnEFWwMB2lUdaVJK0UOFXQ=s64",
      "userId": "11162072065237115888"
     },
     "user_tz": -540
    },
    "id": "LEi8G0Yw7ft_",
    "outputId": "1823b392-3c52-44b4-d7ce-404a19b40315"
   },
   "outputs": [
    {
     "data": {
      "text/plain": [
       "tensor(3.5107e-05)"
      ]
     },
     "execution_count": 18,
     "metadata": {},
     "output_type": "execute_result"
    }
   ],
   "source": [
    "r2_score(tch.mm(X_linear, weight_linear), Z)"
   ]
  },
  {
   "cell_type": "markdown",
   "metadata": {
    "id": "3dvh-rpK6_zZ"
   },
   "source": [
    "### Order 2"
   ]
  },
  {
   "cell_type": "code",
   "execution_count": 19,
   "metadata": {
    "executionInfo": {
     "elapsed": 40,
     "status": "ok",
     "timestamp": 1629385596592,
     "user": {
      "displayName": "김태근",
      "photoUrl": "https://lh3.googleusercontent.com/a-/AOh14GgsExTKJC9FjM9weqcg4dnEFWwMB2lUdaVJK0UOFXQ=s64",
      "userId": "11162072065237115888"
     },
     "user_tz": -540
    },
    "id": "0-520VYokHJC"
   },
   "outputs": [],
   "source": [
    "X_quad = tch.column_stack([tch.ones((len(x), 1)).float().to(device), x, y, x*y, x**2, y**2])"
   ]
  },
  {
   "cell_type": "code",
   "execution_count": 20,
   "metadata": {
    "colab": {
     "base_uri": "https://localhost:8080/"
    },
    "executionInfo": {
     "elapsed": 39,
     "status": "ok",
     "timestamp": 1629385596592,
     "user": {
      "displayName": "김태근",
      "photoUrl": "https://lh3.googleusercontent.com/a-/AOh14GgsExTKJC9FjM9weqcg4dnEFWwMB2lUdaVJK0UOFXQ=s64",
      "userId": "11162072065237115888"
     },
     "user_tz": -540
    },
    "id": "negj2yVDkktL",
    "outputId": "7e3cf694-dabc-4f99-8e4c-3ba89a561a22"
   },
   "outputs": [
    {
     "data": {
      "text/plain": [
       "torch.Size([20000, 6])"
      ]
     },
     "execution_count": 20,
     "metadata": {},
     "output_type": "execute_result"
    }
   ],
   "source": [
    "X_quad.shape"
   ]
  },
  {
   "cell_type": "code",
   "execution_count": 21,
   "metadata": {
    "colab": {
     "base_uri": "https://localhost:8080/"
    },
    "executionInfo": {
     "elapsed": 39,
     "status": "ok",
     "timestamp": 1629385596593,
     "user": {
      "displayName": "김태근",
      "photoUrl": "https://lh3.googleusercontent.com/a-/AOh14GgsExTKJC9FjM9weqcg4dnEFWwMB2lUdaVJK0UOFXQ=s64",
      "userId": "11162072065237115888"
     },
     "user_tz": -540
    },
    "id": "dnZGH6Nq8ZQM",
    "outputId": "159914b5-d860-4f86-cbe2-04361e40e816"
   },
   "outputs": [
    {
     "data": {
      "text/plain": [
       "tensor([[ 4.0347e+01],\n",
       "        [ 4.3484e-02],\n",
       "        [ 1.3030e-01],\n",
       "        [-3.4731e-01],\n",
       "        [ 1.5461e+02],\n",
       "        [ 1.5369e+02]])"
      ]
     },
     "execution_count": 21,
     "metadata": {},
     "output_type": "execute_result"
    }
   ],
   "source": [
    "weight_quad = tch.mm(tch.linalg.pinv(X_quad), Z)\n",
    "weight_quad"
   ]
  },
  {
   "cell_type": "code",
   "execution_count": 22,
   "metadata": {
    "colab": {
     "base_uri": "https://localhost:8080/"
    },
    "executionInfo": {
     "elapsed": 35,
     "status": "ok",
     "timestamp": 1629385596593,
     "user": {
      "displayName": "김태근",
      "photoUrl": "https://lh3.googleusercontent.com/a-/AOh14GgsExTKJC9FjM9weqcg4dnEFWwMB2lUdaVJK0UOFXQ=s64",
      "userId": "11162072065237115888"
     },
     "user_tz": -540
    },
    "id": "oBRC_65q4zJW",
    "outputId": "cc0b7299-8279-435f-fb53-a137ce37a59a"
   },
   "outputs": [
    {
     "data": {
      "text/plain": [
       "tensor(0.9574)"
      ]
     },
     "execution_count": 22,
     "metadata": {},
     "output_type": "execute_result"
    }
   ],
   "source": [
    "r2_score(tch.mm(X_quad, weight_quad), Z)"
   ]
  },
  {
   "cell_type": "markdown",
   "metadata": {
    "id": "9wJBnMZA6vcO"
   },
   "source": [
    "## Polynomial Regression with NeuralNetwork"
   ]
  },
  {
   "cell_type": "code",
   "execution_count": 23,
   "metadata": {
    "executionInfo": {
     "elapsed": 33,
     "status": "ok",
     "timestamp": 1629385596593,
     "user": {
      "displayName": "김태근",
      "photoUrl": "https://lh3.googleusercontent.com/a-/AOh14GgsExTKJC9FjM9weqcg4dnEFWwMB2lUdaVJK0UOFXQ=s64",
      "userId": "11162072065237115888"
     },
     "user_tz": -540
    },
    "id": "QMCUXl_HicNo"
   },
   "outputs": [],
   "source": [
    "class PolyNet(nn.Module):\n",
    "    def __init__(self):\n",
    "        super(PolyNet, self).__init__()\n",
    "        self.model = nn.Sequential(\n",
    "            nn.Linear(6, 1),\n",
    "            nn.ReLU()\n",
    "        )\n",
    "\n",
    "    def forward(self, x):\n",
    "        return self.model(x)"
   ]
  },
  {
   "cell_type": "code",
   "execution_count": 24,
   "metadata": {
    "executionInfo": {
     "elapsed": 33,
     "status": "ok",
     "timestamp": 1629385596593,
     "user": {
      "displayName": "김태근",
      "photoUrl": "https://lh3.googleusercontent.com/a-/AOh14GgsExTKJC9FjM9weqcg4dnEFWwMB2lUdaVJK0UOFXQ=s64",
      "userId": "11162072065237115888"
     },
     "user_tz": -540
    },
    "id": "ZzsTLeGisTUq"
   },
   "outputs": [],
   "source": [
    "net2 = PolyNet().to(device)"
   ]
  },
  {
   "cell_type": "code",
   "execution_count": 25,
   "metadata": {
    "colab": {
     "base_uri": "https://localhost:8080/"
    },
    "executionInfo": {
     "elapsed": 33,
     "status": "ok",
     "timestamp": 1629385596593,
     "user": {
      "displayName": "김태근",
      "photoUrl": "https://lh3.googleusercontent.com/a-/AOh14GgsExTKJC9FjM9weqcg4dnEFWwMB2lUdaVJK0UOFXQ=s64",
      "userId": "11162072065237115888"
     },
     "user_tz": -540
    },
    "id": "-ok89-x-sXQI",
    "outputId": "62fa77df-6987-4ab3-a51e-45b2c1653168"
   },
   "outputs": [
    {
     "name": "stdout",
     "output_type": "stream",
     "text": [
      "PolyNet(\n",
      "  (model): Sequential(\n",
      "    (0): Linear(in_features=6, out_features=1, bias=True)\n",
      "    (1): ReLU()\n",
      "  )\n",
      ")\n"
     ]
    }
   ],
   "source": [
    "print(net2)"
   ]
  },
  {
   "cell_type": "code",
   "execution_count": 26,
   "metadata": {
    "executionInfo": {
     "elapsed": 32,
     "status": "ok",
     "timestamp": 1629385596594,
     "user": {
      "displayName": "김태근",
      "photoUrl": "https://lh3.googleusercontent.com/a-/AOh14GgsExTKJC9FjM9weqcg4dnEFWwMB2lUdaVJK0UOFXQ=s64",
      "userId": "11162072065237115888"
     },
     "user_tz": -540
    },
    "id": "kjhJnEIZsfV1"
   },
   "outputs": [],
   "source": [
    "criterion = nn.MSELoss()\n",
    "optimizer = tch.optim.Adam(net2.parameters(), lr=0.1)"
   ]
  },
  {
   "cell_type": "code",
   "execution_count": 27,
   "metadata": {
    "executionInfo": {
     "elapsed": 5133,
     "status": "ok",
     "timestamp": 1629385601695,
     "user": {
      "displayName": "김태근",
      "photoUrl": "https://lh3.googleusercontent.com/a-/AOh14GgsExTKJC9FjM9weqcg4dnEFWwMB2lUdaVJK0UOFXQ=s64",
      "userId": "11162072065237115888"
     },
     "user_tz": -540
    },
    "id": "4iftREc_uzFv"
   },
   "outputs": [],
   "source": [
    "train_dataset = RotationDataset(100000)\n",
    "train_data = DataLoader(train_dataset, batch_size=1000, shuffle=True)\n",
    "\n",
    "val_dataset = RotationDataset(10000)\n",
    "val_data = DataLoader(val_dataset, batch_size=1000)"
   ]
  },
  {
   "cell_type": "code",
   "execution_count": 28,
   "metadata": {
    "executionInfo": {
     "elapsed": 40,
     "status": "ok",
     "timestamp": 1629385601696,
     "user": {
      "displayName": "김태근",
      "photoUrl": "https://lh3.googleusercontent.com/a-/AOh14GgsExTKJC9FjM9weqcg4dnEFWwMB2lUdaVJK0UOFXQ=s64",
      "userId": "11162072065237115888"
     },
     "user_tz": -540
    },
    "id": "_UhE95RBsX5X"
   },
   "outputs": [],
   "source": [
    "def train(dataloader, net1, net2, criterion, optimizer):\n",
    "    size = len(dataloader.dataset)\n",
    "    train_loss = []\n",
    "    net1.eval()\n",
    "    for batch, sample in enumerate(dataloader):\n",
    "        X, X_p, _ = sample\n",
    "        X, X_p = X.to(device), X_p.to(device)\n",
    "        with tch.no_grad():\n",
    "            _, out = net1(X, X_p)\n",
    "        a, b = X_p[:,0], X_p[:,1]\n",
    "        Y = tch.column_stack([tch.ones((len(a), 1)).float().to(device), a, b, a*b, a**2, b**2])\n",
    "        Z = net2(Y)\n",
    "        loss = criterion(Z, out)\n",
    "\n",
    "        optimizer.zero_grad()\n",
    "        loss.backward()\n",
    "        optimizer.step()\n",
    "\n",
    "        if batch % 50 == 0:\n",
    "            loss, curr = loss.item(), batch * X.shape[0]\n",
    "            print(f\"loss: {loss:>7f}  [{curr:>5d}/{size:>5d}]\")\n",
    "            train_loss.append(loss)\n",
    "    return tch.mean(tch.tensor(train_loss).float().to(device))"
   ]
  },
  {
   "cell_type": "code",
   "execution_count": 29,
   "metadata": {
    "executionInfo": {
     "elapsed": 36,
     "status": "ok",
     "timestamp": 1629385601697,
     "user": {
      "displayName": "김태근",
      "photoUrl": "https://lh3.googleusercontent.com/a-/AOh14GgsExTKJC9FjM9weqcg4dnEFWwMB2lUdaVJK0UOFXQ=s64",
      "userId": "11162072065237115888"
     },
     "user_tz": -540
    },
    "id": "8rnwoh34wlJz"
   },
   "outputs": [],
   "source": [
    "def val_check(dataloader, net1, net2, criterion):\n",
    "    size = len(dataloader.dataset)\n",
    "    num_batches = len(dataloader)\n",
    "    net1.eval()\n",
    "    net2.eval()\n",
    "    test_loss, r2 = 0, 0\n",
    "    with tch.no_grad():\n",
    "        for X, X_p, y in dataloader:\n",
    "            X, X_p, y = X.to(device), X_p.to(device), y.to(device)\n",
    "            _, out = net1(X, X_p)\n",
    "            a, b = X_p[:,0], X_p[:,1]\n",
    "            Y = tch.column_stack([tch.ones((len(a), 1)).float().to(device), a, b, a*b, a**2, b**2])\n",
    "            Z = net2(Y)\n",
    "            test_loss += criterion(Z, out)\n",
    "            r2 += r2_score(out, Z)\n",
    "    test_loss /= num_batches\n",
    "    r2 /= num_batches\n",
    "    print(f\"Validation Error: \\n Score: {r2:>4f}, Avg loss: {test_loss:>8f} \\n\")\n",
    "    # print(f\"Test Error: \\n Avg loss: {test_loss:>8f} \\n\")\n",
    "    return test_loss, r2"
   ]
  },
  {
   "cell_type": "code",
   "execution_count": 30,
   "metadata": {
    "colab": {
     "base_uri": "https://localhost:8080/"
    },
    "executionInfo": {
     "elapsed": 40917,
     "status": "ok",
     "timestamp": 1629385642580,
     "user": {
      "displayName": "김태근",
      "photoUrl": "https://lh3.googleusercontent.com/a-/AOh14GgsExTKJC9FjM9weqcg4dnEFWwMB2lUdaVJK0UOFXQ=s64",
      "userId": "11162072065237115888"
     },
     "user_tz": -540
    },
    "id": "0AY9UkE4wLU8",
    "outputId": "f28394fd-9e52-4afd-d658-d4e29a518348"
   },
   "outputs": [
    {
     "name": "stdout",
     "output_type": "stream",
     "text": [
      "Epoch 1\n",
      "-------------------------------\n",
      "loss: 11628.866211  [    0/200000]\n",
      "loss: 9170.203125  [50000/200000]\n",
      "loss: 7235.727051  [100000/200000]\n",
      "loss: 6153.249023  [150000/200000]\n",
      "Validation Error: \n",
      " Score: -159.860184, Avg loss: 4664.219727 \n",
      "\n",
      "Epoch 2\n",
      "-------------------------------\n",
      "loss: 4688.234863  [    0/200000]\n",
      "loss: 3824.663086  [50000/200000]\n",
      "loss: 3018.923096  [100000/200000]\n",
      "loss: 2419.803467  [150000/200000]\n",
      "Validation Error: \n",
      " Score: -21.060379, Avg loss: 1997.193115 \n",
      "\n",
      "Epoch 3\n",
      "-------------------------------\n",
      "loss: 2016.963379  [    0/200000]\n",
      "loss: 1628.548828  [50000/200000]\n",
      "loss: 1545.297974  [100000/200000]\n",
      "loss: 1374.226685  [150000/200000]\n",
      "Validation Error: \n",
      " Score: -6.587672, Avg loss: 1213.391357 \n",
      "\n",
      "Epoch 4\n",
      "-------------------------------\n",
      "loss: 1203.659424  [    0/200000]\n",
      "loss: 1179.608765  [50000/200000]\n",
      "loss: 1144.120728  [100000/200000]\n",
      "loss: 1018.399902  [150000/200000]\n",
      "Validation Error: \n",
      " Score: -3.294811, Avg loss: 985.400696 \n",
      "\n",
      "Epoch 5\n",
      "-------------------------------\n",
      "loss: 981.520996  [    0/200000]\n",
      "loss: 971.608643  [50000/200000]\n",
      "loss: 899.092285  [100000/200000]\n",
      "loss: 837.914673  [150000/200000]\n",
      "Validation Error: \n",
      " Score: -1.834491, Avg loss: 857.004089 \n",
      "\n",
      "Epoch 6\n",
      "-------------------------------\n",
      "loss: 865.880981  [    0/200000]\n",
      "loss: 884.316650  [50000/200000]\n",
      "loss: 814.721252  [100000/200000]\n",
      "loss: 764.143250  [150000/200000]\n",
      "Validation Error: \n",
      " Score: -0.930892, Avg loss: 741.293579 \n",
      "\n",
      "Epoch 7\n",
      "-------------------------------\n",
      "loss: 757.695679  [    0/200000]\n",
      "loss: 732.873901  [50000/200000]\n",
      "loss: 697.315613  [100000/200000]\n",
      "loss: 643.260559  [150000/200000]\n",
      "Validation Error: \n",
      " Score: -0.324003, Avg loss: 631.617798 \n",
      "\n",
      "Epoch 8\n",
      "-------------------------------\n",
      "loss: 663.479004  [    0/200000]\n",
      "loss: 604.384888  [50000/200000]\n",
      "loss: 586.303589  [100000/200000]\n",
      "loss: 590.031006  [150000/200000]\n",
      "Validation Error: \n",
      " Score: 0.087842, Avg loss: 530.470154 \n",
      "\n",
      "Epoch 9\n",
      "-------------------------------\n",
      "loss: 521.998596  [    0/200000]\n",
      "loss: 509.654144  [50000/200000]\n",
      "loss: 500.366730  [100000/200000]\n",
      "loss: 448.118866  [150000/200000]\n",
      "Validation Error: \n",
      " Score: 0.368214, Avg loss: 439.906097 \n",
      "\n",
      "Epoch 10\n",
      "-------------------------------\n",
      "loss: 418.116394  [    0/200000]\n",
      "loss: 405.392029  [50000/200000]\n",
      "loss: 385.319794  [100000/200000]\n",
      "loss: 389.570374  [150000/200000]\n",
      "Validation Error: \n",
      " Score: 0.559213, Avg loss: 361.023468 \n",
      "\n",
      "Epoch 11\n",
      "-------------------------------\n",
      "loss: 373.043732  [    0/200000]\n",
      "loss: 337.541962  [50000/200000]\n",
      "loss: 331.653412  [100000/200000]\n",
      "loss: 312.278534  [150000/200000]\n",
      "Validation Error: \n",
      " Score: 0.689101, Avg loss: 294.381042 \n",
      "\n",
      "Epoch 12\n",
      "-------------------------------\n",
      "loss: 299.287292  [    0/200000]\n",
      "loss: 260.768860  [50000/200000]\n",
      "loss: 268.439056  [100000/200000]\n",
      "loss: 236.348480  [150000/200000]\n",
      "Validation Error: \n",
      " Score: 0.777549, Avg loss: 239.663910 \n",
      "\n",
      "Epoch 13\n",
      "-------------------------------\n",
      "loss: 237.057144  [    0/200000]\n",
      "loss: 218.541809  [50000/200000]\n",
      "loss: 220.980118  [100000/200000]\n",
      "loss: 195.859665  [150000/200000]\n",
      "Validation Error: \n",
      " Score: 0.837512, Avg loss: 196.170319 \n",
      "\n",
      "Epoch 14\n",
      "-------------------------------\n",
      "loss: 206.944580  [    0/200000]\n",
      "loss: 184.810974  [50000/200000]\n",
      "loss: 181.134491  [100000/200000]\n",
      "loss: 155.651978  [150000/200000]\n",
      "Validation Error: \n",
      " Score: 0.877962, Avg loss: 162.728302 \n",
      "\n",
      "Epoch 15\n",
      "-------------------------------\n",
      "loss: 140.474899  [    0/200000]\n",
      "loss: 155.212494  [50000/200000]\n",
      "loss: 167.343124  [100000/200000]\n",
      "loss: 146.811676  [150000/200000]\n",
      "Validation Error: \n",
      " Score: 0.904986, Avg loss: 138.000580 \n",
      "\n",
      "Epoch 16\n",
      "-------------------------------\n",
      "loss: 130.874542  [    0/200000]\n",
      "loss: 121.730247  [50000/200000]\n",
      "loss: 127.426117  [100000/200000]\n",
      "loss: 132.603882  [150000/200000]\n",
      "Validation Error: \n",
      " Score: 0.922925, Avg loss: 120.396095 \n",
      "\n",
      "Epoch 17\n",
      "-------------------------------\n",
      "loss: 130.133408  [    0/200000]\n",
      "loss: 113.037117  [50000/200000]\n",
      "loss: 111.097183  [100000/200000]\n",
      "loss: 107.959190  [150000/200000]\n",
      "Validation Error: \n",
      " Score: 0.934682, Avg loss: 108.434433 \n",
      "\n",
      "Epoch 18\n",
      "-------------------------------\n",
      "loss: 110.967903  [    0/200000]\n",
      "loss: 99.015877  [50000/200000]\n",
      "loss: 108.531189  [100000/200000]\n",
      "loss: 101.384453  [150000/200000]\n",
      "Validation Error: \n",
      " Score: 0.942320, Avg loss: 100.672997 \n",
      "\n",
      "Epoch 19\n",
      "-------------------------------\n",
      "loss: 100.168236  [    0/200000]\n",
      "loss: 95.626480  [50000/200000]\n",
      "loss: 91.847267  [100000/200000]\n",
      "loss: 101.972450  [150000/200000]\n",
      "Validation Error: \n",
      " Score: 0.947194, Avg loss: 95.915497 \n",
      "\n",
      "Epoch 20\n",
      "-------------------------------\n",
      "loss: 95.483604  [    0/200000]\n",
      "loss: 93.594780  [50000/200000]\n",
      "loss: 92.549309  [100000/200000]\n",
      "loss: 92.910721  [150000/200000]\n",
      "Validation Error: \n",
      " Score: 0.950286, Avg loss: 93.159286 \n",
      "\n",
      "Epoch 21\n",
      "-------------------------------\n",
      "loss: 87.236702  [    0/200000]\n",
      "loss: 88.400299  [50000/200000]\n",
      "loss: 86.728333  [100000/200000]\n",
      "loss: 87.884087  [150000/200000]\n",
      "Validation Error: \n",
      " Score: 0.952227, Avg loss: 91.663643 \n",
      "\n",
      "Epoch 22\n",
      "-------------------------------\n",
      "loss: 92.838821  [    0/200000]\n",
      "loss: 90.706139  [50000/200000]\n",
      "loss: 88.234871  [100000/200000]\n",
      "loss: 87.409477  [150000/200000]\n",
      "Validation Error: \n",
      " Score: 0.953427, Avg loss: 90.894592 \n",
      "\n",
      "Epoch 23\n",
      "-------------------------------\n",
      "loss: 87.027130  [    0/200000]\n",
      "loss: 88.793694  [50000/200000]\n",
      "loss: 85.357826  [100000/200000]\n",
      "loss: 93.040482  [150000/200000]\n",
      "Validation Error: \n",
      " Score: 0.954179, Avg loss: 90.524361 \n",
      "\n",
      "Epoch 24\n",
      "-------------------------------\n",
      "loss: 86.936386  [    0/200000]\n",
      "loss: 88.118828  [50000/200000]\n",
      "loss: 93.848122  [100000/200000]\n",
      "loss: 92.149529  [150000/200000]\n",
      "Validation Error: \n",
      " Score: 0.954629, Avg loss: 90.364120 \n",
      "\n",
      "Epoch 25\n",
      "-------------------------------\n",
      "loss: 92.437737  [    0/200000]\n",
      "loss: 89.495209  [50000/200000]\n",
      "loss: 93.181084  [100000/200000]\n",
      "loss: 83.175491  [150000/200000]\n",
      "Validation Error: \n",
      " Score: 0.954888, Avg loss: 90.286942 \n",
      "\n",
      "Epoch 26\n",
      "-------------------------------\n",
      "loss: 84.779472  [    0/200000]\n",
      "loss: 90.455452  [50000/200000]\n",
      "loss: 89.876282  [100000/200000]\n",
      "loss: 88.676811  [150000/200000]\n",
      "Validation Error: \n",
      " Score: 0.955051, Avg loss: 90.252831 \n",
      "\n",
      "Epoch 27\n",
      "-------------------------------\n",
      "loss: 92.341866  [    0/200000]\n",
      "loss: 88.009064  [50000/200000]\n",
      "loss: 94.345749  [100000/200000]\n",
      "loss: 88.044563  [150000/200000]\n",
      "Validation Error: \n",
      " Score: 0.955141, Avg loss: 90.232246 \n",
      "\n",
      "Epoch 28\n",
      "-------------------------------\n",
      "loss: 85.034164  [    0/200000]\n",
      "loss: 87.278915  [50000/200000]\n",
      "loss: 82.965607  [100000/200000]\n",
      "loss: 88.961746  [150000/200000]\n",
      "Validation Error: \n",
      " Score: 0.955154, Avg loss: 90.245712 \n",
      "\n",
      "Done!\n"
     ]
    }
   ],
   "source": [
    "epochs = 100\n",
    "train_loss= []\n",
    "val_loss = []\n",
    "old_val = 1e+10\n",
    "for t in range(epochs):\n",
    "    print(f\"Epoch {t+1}\\n-------------------------------\")\n",
    "    train_loss.append(train(train_data, net, net2, criterion, optimizer))\n",
    "    val, correct = val_check(val_data, net, net2, criterion)\n",
    "    val_loss.append(val)\n",
    "    if old_val < val:\n",
    "        break\n",
    "    old_val = val\n",
    "print(\"Done!\")"
   ]
  },
  {
   "cell_type": "code",
   "execution_count": 31,
   "metadata": {
    "colab": {
     "base_uri": "https://localhost:8080/"
    },
    "executionInfo": {
     "elapsed": 41,
     "status": "ok",
     "timestamp": 1629385642581,
     "user": {
      "displayName": "김태근",
      "photoUrl": "https://lh3.googleusercontent.com/a-/AOh14GgsExTKJC9FjM9weqcg4dnEFWwMB2lUdaVJK0UOFXQ=s64",
      "userId": "11162072065237115888"
     },
     "user_tz": -540
    },
    "id": "8fkFeF5Mzdyh",
    "outputId": "9db76f16-19dd-4fab-f460-0f0593755ea8"
   },
   "outputs": [
    {
     "name": "stdout",
     "output_type": "stream",
     "text": [
      "tensor([[ 2.0451e+01,  2.5346e-02, -2.3985e-01, -1.2776e-01,  1.5414e+02,\n",
      "          1.5407e+02]])\n"
     ]
    }
   ],
   "source": [
    "for param in net2.parameters():\n",
    "  print(param.data)\n",
    "  break"
   ]
  }
 ],
 "metadata": {
  "accelerator": "GPU",
  "colab": {
   "authorship_tag": "ABX9TyMROtR7ItK92AjDugG4zN6g",
   "collapsed_sections": [],
   "mount_file_id": "1ZyCTLY-j_jtQTq_LjwnoVM-JjTLTzYfS",
   "name": "rotation_load.ipynb",
   "provenance": []
  },
  "kernelspec": {
   "display_name": "Python 3 (ipykernel)",
   "language": "python",
   "name": "python3"
  },
  "language_info": {
   "codemirror_mode": {
    "name": "ipython",
    "version": 3
   },
   "file_extension": ".py",
   "mimetype": "text/x-python",
   "name": "python",
   "nbconvert_exporter": "python",
   "pygments_lexer": "ipython3",
   "version": "3.9.6"
  }
 },
 "nbformat": 4,
 "nbformat_minor": 1
}
