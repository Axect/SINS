{
 "cells": [
  {
   "cell_type": "markdown",
   "metadata": {
    "id": "8KT-3I3t6TRm"
   },
   "source": [
    "# Discover Invariant in Rotation"
   ]
  },
  {
   "cell_type": "markdown",
   "metadata": {
    "id": "AoGKvRnW6Zdw"
   },
   "source": [
    "## Import Model"
   ]
  },
  {
   "cell_type": "code",
   "execution_count": 1,
   "metadata": {
    "executionInfo": {
     "elapsed": 1211,
     "status": "ok",
     "timestamp": 1629385592488,
     "user": {
      "displayName": "김태근",
      "photoUrl": "https://lh3.googleusercontent.com/a-/AOh14GgsExTKJC9FjM9weqcg4dnEFWwMB2lUdaVJK0UOFXQ=s64",
      "userId": "11162072065237115888"
     },
     "user_tz": -540
    },
    "id": "pfffeXTLnJZS"
   },
   "outputs": [],
   "source": [
    "import torch\n",
    "from torch import nn\n",
    "import matplotlib.pyplot as plt\n",
    "from torch.utils.data import Dataset, DataLoader\n",
    "from torch.utils.tensorboard import SummaryWriter\n",
    "import torch.nn.functional as F\n",
    "from torch.distributions.uniform import Uniform\n",
    "import sys, os\n",
    "import math"
   ]
  },
  {
   "cell_type": "code",
   "execution_count": 2,
   "metadata": {},
   "outputs": [
    {
     "data": {
      "text/plain": [
       "<torch._C.Generator at 0x7fb8f7bc82f0>"
      ]
     },
     "execution_count": 2,
     "metadata": {},
     "output_type": "execute_result"
    }
   ],
   "source": [
    "torch.manual_seed(8407)"
   ]
  },
  {
   "cell_type": "code",
   "execution_count": 3,
   "metadata": {
    "colab": {
     "base_uri": "https://localhost:8080/",
     "height": 35
    },
    "executionInfo": {
     "elapsed": 48,
     "status": "ok",
     "timestamp": 1629385592490,
     "user": {
      "displayName": "김태근",
      "photoUrl": "https://lh3.googleusercontent.com/a-/AOh14GgsExTKJC9FjM9weqcg4dnEFWwMB2lUdaVJK0UOFXQ=s64",
      "userId": "11162072065237115888"
     },
     "user_tz": -540
    },
    "id": "4BZ8yuj6o-Qf",
    "outputId": "41109d2a-3c64-4e0c-feb2-56cf68871d9f"
   },
   "outputs": [
    {
     "data": {
      "text/plain": [
       "'cpu'"
      ]
     },
     "execution_count": 3,
     "metadata": {},
     "output_type": "execute_result"
    }
   ],
   "source": [
    "device = 'cuda' if torch.cuda.is_available() else 'cpu'\n",
    "device"
   ]
  },
  {
   "cell_type": "code",
   "execution_count": 4,
   "metadata": {
    "executionInfo": {
     "elapsed": 45,
     "status": "ok",
     "timestamp": 1629385592491,
     "user": {
      "displayName": "김태근",
      "photoUrl": "https://lh3.googleusercontent.com/a-/AOh14GgsExTKJC9FjM9weqcg4dnEFWwMB2lUdaVJK0UOFXQ=s64",
      "userId": "11162072065237115888"
     },
     "user_tz": -540
    },
    "id": "5SQjBVNrpNyv"
   },
   "outputs": [],
   "source": [
    "# Implement Dataset\n",
    "class RotationDataset(Dataset):\n",
    "    def __init__(self, size):\n",
    "        unif1 = Uniform(0.1, 1)\n",
    "        unif2 = Uniform(0, 2*math.pi)\n",
    "        unif3 = Uniform(0.1, 1)\n",
    "        unif4 = Uniform(0, 2*math.pi)\n",
    "        unif5 = Uniform(0, 2*math.pi)\n",
    "\n",
    "        r1 = unif1.sample([size]).float()\n",
    "        th1 = unif2.sample([size]).float()\n",
    "        r2 = unif3.sample([size]).float()\n",
    "        th2 = unif4.sample([size]).float()\n",
    "        th3 = unif5.sample([size]).float()\n",
    "\n",
    "        self.X = torch.column_stack([r1*torch.cos(th1), r1*torch.sin(th1)])\n",
    "        X_p = torch.column_stack([r1*torch.cos(th1+th3), r1*torch.sin(th1+th3)])\n",
    "        X_n = torch.column_stack([r2*torch.cos(th2), r2*torch.sin(th2)])\n",
    "\n",
    "        self.X = torch.vstack([self.X, self.X])\n",
    "        self.X_pair = torch.vstack([X_p, X_n])\n",
    "\n",
    "        # Labeling\n",
    "        y_p = torch.zeros((X_p.shape[0], 1))\n",
    "        y_n = torch.ones((X_n.shape[0], 1))\n",
    "        self.y = torch.vstack([y_p, y_n])\n",
    "\n",
    "    def __len__(self):\n",
    "        return self.X.shape[0]\n",
    "\n",
    "    def __getitem__(self, idx):\n",
    "        x = torch.Tensor(self.X[idx])\n",
    "        x_pair = torch.Tensor(self.X_pair[idx])\n",
    "        y = torch.Tensor(self.y[idx])\n",
    "        return x, x_pair, y"
   ]
  },
  {
   "cell_type": "code",
   "execution_count": 5,
   "metadata": {
    "executionInfo": {
     "elapsed": 42,
     "status": "ok",
     "timestamp": 1629385592491,
     "user": {
      "displayName": "김태근",
      "photoUrl": "https://lh3.googleusercontent.com/a-/AOh14GgsExTKJC9FjM9weqcg4dnEFWwMB2lUdaVJK0UOFXQ=s64",
      "userId": "11162072065237115888"
     },
     "user_tz": -540
    },
    "id": "LA-5hqR5pQ_R"
   },
   "outputs": [],
   "source": [
    "class SNN(nn.Module):\n",
    "    def __init__(self):\n",
    "        super(SNN, self).__init__()\n",
    "        self.linear_relu = nn.Sequential(\n",
    "            nn.Linear(2,100),\n",
    "            nn.ReLU(),\n",
    "            nn.Linear(100,1),\n",
    "            nn.ReLU()\n",
    "        )\n",
    "\n",
    "    def forward(self, x1, x2):\n",
    "        out1 = self.linear_relu(x1)\n",
    "        out2 = self.linear_relu(x2)\n",
    "        return out1, out2"
   ]
  },
  {
   "cell_type": "code",
   "execution_count": 6,
   "metadata": {
    "executionInfo": {
     "elapsed": 39,
     "status": "ok",
     "timestamp": 1629385592492,
     "user": {
      "displayName": "김태근",
      "photoUrl": "https://lh3.googleusercontent.com/a-/AOh14GgsExTKJC9FjM9weqcg4dnEFWwMB2lUdaVJK0UOFXQ=s64",
      "userId": "11162072065237115888"
     },
     "user_tz": -540
    },
    "id": "YkiveGsApTtC"
   },
   "outputs": [],
   "source": [
    "class ContrastiveLoss(torch.nn.Module):\n",
    "    \"\"\"\n",
    "    Contrastive loss function.\n",
    "    Based on: http://yann.lecun.com/exdb/publis/pdf/hadsell-chopra-lecun-06.pdf\n",
    "    \"\"\"\n",
    "\n",
    "    def __init__(self, margin=2.0):\n",
    "        super(ContrastiveLoss, self).__init__()\n",
    "        self.margin = margin\n",
    "\n",
    "    def forward(self, output1, output2, label):\n",
    "        euclidean_distance = F.pairwise_distance(output1, output2, keepdim = True)\n",
    "        loss_contrastive = torch.mean((1-label) * torch.pow(euclidean_distance, 2) +\n",
    "                                      (label) * torch.pow(torch.clamp(self.margin - euclidean_distance, min=0.0), 2))\n",
    "\n",
    "        return loss_contrastive"
   ]
  },
  {
   "cell_type": "code",
   "execution_count": 7,
   "metadata": {
    "colab": {
     "base_uri": "https://localhost:8080/"
    },
    "executionInfo": {
     "elapsed": 37,
     "status": "ok",
     "timestamp": 1629385592492,
     "user": {
      "displayName": "김태근",
      "photoUrl": "https://lh3.googleusercontent.com/a-/AOh14GgsExTKJC9FjM9weqcg4dnEFWwMB2lUdaVJK0UOFXQ=s64",
      "userId": "11162072065237115888"
     },
     "user_tz": -540
    },
    "id": "SoxsrKRtE_Z5",
    "outputId": "93de94c1-19bc-4ce7-a8d2-cfd3e99afb94"
   },
   "outputs": [],
   "source": [
    "#!ls"
   ]
  },
  {
   "cell_type": "code",
   "execution_count": 8,
   "metadata": {
    "executionInfo": {
     "elapsed": 30,
     "status": "ok",
     "timestamp": 1629385592493,
     "user": {
      "displayName": "김태근",
      "photoUrl": "https://lh3.googleusercontent.com/a-/AOh14GgsExTKJC9FjM9weqcg4dnEFWwMB2lUdaVJK0UOFXQ=s64",
      "userId": "11162072065237115888"
     },
     "user_tz": -540
    },
    "id": "zuTX8sP8tdFv"
   },
   "outputs": [],
   "source": [
    "#drive_path = \"drive/My Drive/Colab Notebooks/\""
   ]
  },
  {
   "cell_type": "code",
   "execution_count": 9,
   "metadata": {
    "executionInfo": {
     "elapsed": 2627,
     "status": "ok",
     "timestamp": 1629385595091,
     "user": {
      "displayName": "김태근",
      "photoUrl": "https://lh3.googleusercontent.com/a-/AOh14GgsExTKJC9FjM9weqcg4dnEFWwMB2lUdaVJK0UOFXQ=s64",
      "userId": "11162072065237115888"
     },
     "user_tz": -540
    },
    "id": "RSgAa0PLovAy"
   },
   "outputs": [],
   "source": [
    "net = torch.load(\"model/snn_rot10.pt\").to(device)"
   ]
  },
  {
   "cell_type": "code",
   "execution_count": 10,
   "metadata": {
    "executionInfo": {
     "elapsed": 10,
     "status": "ok",
     "timestamp": 1629385595093,
     "user": {
      "displayName": "김태근",
      "photoUrl": "https://lh3.googleusercontent.com/a-/AOh14GgsExTKJC9FjM9weqcg4dnEFWwMB2lUdaVJK0UOFXQ=s64",
      "userId": "11162072065237115888"
     },
     "user_tz": -540
    },
    "id": "El02j4jvpsqE"
   },
   "outputs": [],
   "source": [
    "pi = torch.tensor(math.pi).float().to(device)"
   ]
  },
  {
   "cell_type": "code",
   "execution_count": 11,
   "metadata": {
    "executionInfo": {
     "elapsed": 8,
     "status": "ok",
     "timestamp": 1629385595093,
     "user": {
      "displayName": "김태근",
      "photoUrl": "https://lh3.googleusercontent.com/a-/AOh14GgsExTKJC9FjM9weqcg4dnEFWwMB2lUdaVJK0UOFXQ=s64",
      "userId": "11162072065237115888"
     },
     "user_tz": -540
    },
    "id": "IZY5_hjEqYVr"
   },
   "outputs": [],
   "source": [
    "criterion = ContrastiveLoss()"
   ]
  },
  {
   "cell_type": "markdown",
   "metadata": {
    "id": "xiMVRWru6g2u"
   },
   "source": [
    "## Test Model"
   ]
  },
  {
   "cell_type": "code",
   "execution_count": 12,
   "metadata": {
    "executionInfo": {
     "elapsed": 542,
     "status": "ok",
     "timestamp": 1629385595628,
     "user": {
      "displayName": "김태근",
      "photoUrl": "https://lh3.googleusercontent.com/a-/AOh14GgsExTKJC9FjM9weqcg4dnEFWwMB2lUdaVJK0UOFXQ=s64",
      "userId": "11162072065237115888"
     },
     "user_tz": -540
    },
    "id": "w4qWkWnxpLEG"
   },
   "outputs": [],
   "source": [
    "test_set = RotationDataset(10000)\n",
    "test_data = DataLoader(test_set, batch_size=100)"
   ]
  },
  {
   "cell_type": "code",
   "execution_count": 13,
   "metadata": {
    "colab": {
     "base_uri": "https://localhost:8080/"
    },
    "executionInfo": {
     "elapsed": 14,
     "status": "ok",
     "timestamp": 1629385595629,
     "user": {
      "displayName": "김태근",
      "photoUrl": "https://lh3.googleusercontent.com/a-/AOh14GgsExTKJC9FjM9weqcg4dnEFWwMB2lUdaVJK0UOFXQ=s64",
      "userId": "11162072065237115888"
     },
     "user_tz": -540
    },
    "id": "qSEjNOdbpq8r",
    "outputId": "20cdd859-e004-4584-e9c1-7f52dac4352f"
   },
   "outputs": [
    {
     "name": "stdout",
     "output_type": "stream",
     "text": [
      "Average Accuracy: 99.34004974365234%\n"
     ]
    }
   ],
   "source": [
    "total_accuracy = 0\n",
    "total_size = len(test_data)\n",
    "for batch, samples in enumerate(test_data):\n",
    "    x, x_p, y = samples\n",
    "    x, x_p, y = x.to(device), x_p.to(device), y.to(device)\n",
    "    with torch.no_grad():\n",
    "        pred1, pred2 = net(x, x_p)\n",
    "        idx = torch.flatten((torch.abs(pred1 - pred2) <= 0.4) == y)\n",
    "        acc = torch.count_nonzero(idx)\n",
    "        # print(f\"Accuracy: {100-acc}%\")\n",
    "        total_accuracy += (1 - acc/100)\n",
    "        # temp = torch.column_stack([pred1, pred2, y])\n",
    "        # temp_val = temp[idx]\n",
    "        # if len(temp_val) != 0:\n",
    "        #     print(f\"{batch} - {temp_val[:].tolist()}\")\n",
    "print(f\"Average Accuracy: {total_accuracy/total_size*100}%\")"
   ]
  },
  {
   "cell_type": "markdown",
   "metadata": {
    "id": "g2LYhmjw6ksI"
   },
   "source": [
    "## OLS with Bottleneck"
   ]
  },
  {
   "cell_type": "code",
   "execution_count": 14,
   "metadata": {
    "executionInfo": {
     "elapsed": 970,
     "status": "ok",
     "timestamp": 1629385596588,
     "user": {
      "displayName": "김태근",
      "photoUrl": "https://lh3.googleusercontent.com/a-/AOh14GgsExTKJC9FjM9weqcg4dnEFWwMB2lUdaVJK0UOFXQ=s64",
      "userId": "11162072065237115888"
     },
     "user_tz": -540
    },
    "id": "I00X-MO_7iyQ"
   },
   "outputs": [],
   "source": [
    "def r2_score(output, target):\n",
    "    target_mean = torch.mean(target)\n",
    "    ss_tot = torch.sum((target - target_mean) ** 2)\n",
    "    ss_res = torch.sum((target - output) ** 2)\n",
    "    r2 = 1 - ss_res / ss_tot\n",
    "    return r2"
   ]
  },
  {
   "cell_type": "markdown",
   "metadata": {
    "id": "8vytc1z17BXQ"
   },
   "source": [
    "### Order 1"
   ]
  },
  {
   "cell_type": "code",
   "execution_count": 15,
   "metadata": {
    "colab": {
     "base_uri": "https://localhost:8080/"
    },
    "executionInfo": {
     "elapsed": 44,
     "status": "ok",
     "timestamp": 1629385596590,
     "user": {
      "displayName": "김태근",
      "photoUrl": "https://lh3.googleusercontent.com/a-/AOh14GgsExTKJC9FjM9weqcg4dnEFWwMB2lUdaVJK0UOFXQ=s64",
      "userId": "11162072065237115888"
     },
     "user_tz": -540
    },
    "id": "Fqj7EtyT7CwD",
    "outputId": "7cd3038a-1f47-4d15-dfda-a1f5e3aed5aa"
   },
   "outputs": [
    {
     "data": {
      "text/plain": [
       "tensor([[49.7309],\n",
       "        [34.1190],\n",
       "        [38.5565],\n",
       "        ...,\n",
       "        [18.2499],\n",
       "        [12.6319],\n",
       "        [30.1858]])"
      ]
     },
     "execution_count": 15,
     "metadata": {},
     "output_type": "execute_result"
    }
   ],
   "source": [
    "X, X_p, Y = test_set[:]\n",
    "X, X_p, Y = X.to(device), X_p.to(device), Y.to(device)\n",
    "\n",
    "x, y = X_p[:, 0], X_p[:,1]\n",
    "x, y = x.to(device), y.to(device)\n",
    "\n",
    "net.eval()\n",
    "with torch.no_grad():\n",
    "    _, Z = net(X, X_p)\n",
    "Z"
   ]
  },
  {
   "cell_type": "code",
   "execution_count": 16,
   "metadata": {
    "executionInfo": {
     "elapsed": 43,
     "status": "ok",
     "timestamp": 1629385596591,
     "user": {
      "displayName": "김태근",
      "photoUrl": "https://lh3.googleusercontent.com/a-/AOh14GgsExTKJC9FjM9weqcg4dnEFWwMB2lUdaVJK0UOFXQ=s64",
      "userId": "11162072065237115888"
     },
     "user_tz": -540
    },
    "id": "2_dFun1n7EXi"
   },
   "outputs": [],
   "source": [
    "X_linear = torch.column_stack([torch.ones((len(x), 1)).float().to(device), x, y])"
   ]
  },
  {
   "cell_type": "code",
   "execution_count": 17,
   "metadata": {
    "colab": {
     "base_uri": "https://localhost:8080/"
    },
    "executionInfo": {
     "elapsed": 43,
     "status": "ok",
     "timestamp": 1629385596591,
     "user": {
      "displayName": "김태근",
      "photoUrl": "https://lh3.googleusercontent.com/a-/AOh14GgsExTKJC9FjM9weqcg4dnEFWwMB2lUdaVJK0UOFXQ=s64",
      "userId": "11162072065237115888"
     },
     "user_tz": -540
    },
    "id": "PwoMdqJN7ali",
    "outputId": "99f37877-269f-4118-9b08-1dff05eaf933"
   },
   "outputs": [
    {
     "data": {
      "text/plain": [
       "tensor([[36.9684],\n",
       "        [ 0.5436],\n",
       "        [-0.0801]])"
      ]
     },
     "execution_count": 17,
     "metadata": {},
     "output_type": "execute_result"
    }
   ],
   "source": [
    "weight_linear = torch.mm(torch.linalg.pinv(X_linear), Z)\n",
    "weight_linear"
   ]
  },
  {
   "cell_type": "code",
   "execution_count": 18,
   "metadata": {
    "colab": {
     "base_uri": "https://localhost:8080/"
    },
    "executionInfo": {
     "elapsed": 41,
     "status": "ok",
     "timestamp": 1629385596591,
     "user": {
      "displayName": "김태근",
      "photoUrl": "https://lh3.googleusercontent.com/a-/AOh14GgsExTKJC9FjM9weqcg4dnEFWwMB2lUdaVJK0UOFXQ=s64",
      "userId": "11162072065237115888"
     },
     "user_tz": -540
    },
    "id": "LEi8G0Yw7ft_",
    "outputId": "1823b392-3c52-44b4-d7ce-404a19b40315"
   },
   "outputs": [
    {
     "data": {
      "text/plain": [
       "tensor(0.0002)"
      ]
     },
     "execution_count": 18,
     "metadata": {},
     "output_type": "execute_result"
    }
   ],
   "source": [
    "r2_score(torch.mm(X_linear, weight_linear), Z)"
   ]
  },
  {
   "cell_type": "markdown",
   "metadata": {
    "id": "3dvh-rpK6_zZ"
   },
   "source": [
    "### Order 2"
   ]
  },
  {
   "cell_type": "code",
   "execution_count": 19,
   "metadata": {
    "executionInfo": {
     "elapsed": 40,
     "status": "ok",
     "timestamp": 1629385596592,
     "user": {
      "displayName": "김태근",
      "photoUrl": "https://lh3.googleusercontent.com/a-/AOh14GgsExTKJC9FjM9weqcg4dnEFWwMB2lUdaVJK0UOFXQ=s64",
      "userId": "11162072065237115888"
     },
     "user_tz": -540
    },
    "id": "0-520VYokHJC"
   },
   "outputs": [],
   "source": [
    "X_quad = torch.column_stack([torch.ones((len(x), 1)).float().to(device), x, y, x*y, x**2, y**2])"
   ]
  },
  {
   "cell_type": "code",
   "execution_count": 20,
   "metadata": {
    "colab": {
     "base_uri": "https://localhost:8080/"
    },
    "executionInfo": {
     "elapsed": 39,
     "status": "ok",
     "timestamp": 1629385596592,
     "user": {
      "displayName": "김태근",
      "photoUrl": "https://lh3.googleusercontent.com/a-/AOh14GgsExTKJC9FjM9weqcg4dnEFWwMB2lUdaVJK0UOFXQ=s64",
      "userId": "11162072065237115888"
     },
     "user_tz": -540
    },
    "id": "negj2yVDkktL",
    "outputId": "7e3cf694-dabc-4f99-8e4c-3ba89a561a22"
   },
   "outputs": [
    {
     "data": {
      "text/plain": [
       "torch.Size([20000, 6])"
      ]
     },
     "execution_count": 20,
     "metadata": {},
     "output_type": "execute_result"
    }
   ],
   "source": [
    "X_quad.shape"
   ]
  },
  {
   "cell_type": "code",
   "execution_count": 21,
   "metadata": {
    "colab": {
     "base_uri": "https://localhost:8080/"
    },
    "executionInfo": {
     "elapsed": 39,
     "status": "ok",
     "timestamp": 1629385596593,
     "user": {
      "displayName": "김태근",
      "photoUrl": "https://lh3.googleusercontent.com/a-/AOh14GgsExTKJC9FjM9weqcg4dnEFWwMB2lUdaVJK0UOFXQ=s64",
      "userId": "11162072065237115888"
     },
     "user_tz": -540
    },
    "id": "dnZGH6Nq8ZQM",
    "outputId": "159914b5-d860-4f86-cbe2-04361e40e816"
   },
   "outputs": [
    {
     "data": {
      "text/plain": [
       "tensor([[ 1.5118e+01],\n",
       "        [ 1.1775e-02],\n",
       "        [-4.0081e-02],\n",
       "        [-2.3643e-01],\n",
       "        [ 5.8643e+01],\n",
       "        [ 5.8760e+01]])"
      ]
     },
     "execution_count": 21,
     "metadata": {},
     "output_type": "execute_result"
    }
   ],
   "source": [
    "weight_quad = torch.mm(torch.linalg.pinv(X_quad), Z)\n",
    "weight_quad"
   ]
  },
  {
   "cell_type": "code",
   "execution_count": 22,
   "metadata": {
    "colab": {
     "base_uri": "https://localhost:8080/"
    },
    "executionInfo": {
     "elapsed": 35,
     "status": "ok",
     "timestamp": 1629385596593,
     "user": {
      "displayName": "김태근",
      "photoUrl": "https://lh3.googleusercontent.com/a-/AOh14GgsExTKJC9FjM9weqcg4dnEFWwMB2lUdaVJK0UOFXQ=s64",
      "userId": "11162072065237115888"
     },
     "user_tz": -540
    },
    "id": "oBRC_65q4zJW",
    "outputId": "cc0b7299-8279-435f-fb53-a137ce37a59a"
   },
   "outputs": [
    {
     "data": {
      "text/plain": [
       "tensor(0.9575)"
      ]
     },
     "execution_count": 22,
     "metadata": {},
     "output_type": "execute_result"
    }
   ],
   "source": [
    "r2_score(torch.mm(X_quad, weight_quad), Z)"
   ]
  },
  {
   "cell_type": "markdown",
   "metadata": {
    "id": "9wJBnMZA6vcO"
   },
   "source": [
    "## Polynomial Regression with NeuralNetwork"
   ]
  },
  {
   "cell_type": "code",
   "execution_count": 23,
   "metadata": {
    "executionInfo": {
     "elapsed": 33,
     "status": "ok",
     "timestamp": 1629385596593,
     "user": {
      "displayName": "김태근",
      "photoUrl": "https://lh3.googleusercontent.com/a-/AOh14GgsExTKJC9FjM9weqcg4dnEFWwMB2lUdaVJK0UOFXQ=s64",
      "userId": "11162072065237115888"
     },
     "user_tz": -540
    },
    "id": "QMCUXl_HicNo"
   },
   "outputs": [],
   "source": [
    "class PolyNet(nn.Module):\n",
    "    def __init__(self):\n",
    "        super(PolyNet, self).__init__()\n",
    "        self.model = nn.Sequential(\n",
    "            nn.Linear(5, 1),\n",
    "            nn.ReLU()\n",
    "        )\n",
    "\n",
    "    def forward(self, x):\n",
    "        return self.model(x)"
   ]
  },
  {
   "cell_type": "code",
   "execution_count": 24,
   "metadata": {
    "executionInfo": {
     "elapsed": 33,
     "status": "ok",
     "timestamp": 1629385596593,
     "user": {
      "displayName": "김태근",
      "photoUrl": "https://lh3.googleusercontent.com/a-/AOh14GgsExTKJC9FjM9weqcg4dnEFWwMB2lUdaVJK0UOFXQ=s64",
      "userId": "11162072065237115888"
     },
     "user_tz": -540
    },
    "id": "ZzsTLeGisTUq"
   },
   "outputs": [],
   "source": [
    "net2 = PolyNet().to(device)"
   ]
  },
  {
   "cell_type": "code",
   "execution_count": 25,
   "metadata": {
    "colab": {
     "base_uri": "https://localhost:8080/"
    },
    "executionInfo": {
     "elapsed": 33,
     "status": "ok",
     "timestamp": 1629385596593,
     "user": {
      "displayName": "김태근",
      "photoUrl": "https://lh3.googleusercontent.com/a-/AOh14GgsExTKJC9FjM9weqcg4dnEFWwMB2lUdaVJK0UOFXQ=s64",
      "userId": "11162072065237115888"
     },
     "user_tz": -540
    },
    "id": "-ok89-x-sXQI",
    "outputId": "62fa77df-6987-4ab3-a51e-45b2c1653168"
   },
   "outputs": [
    {
     "name": "stdout",
     "output_type": "stream",
     "text": [
      "PolyNet(\n",
      "  (model): Sequential(\n",
      "    (0): Linear(in_features=5, out_features=1, bias=True)\n",
      "    (1): ReLU()\n",
      "  )\n",
      ")\n"
     ]
    }
   ],
   "source": [
    "print(net2)"
   ]
  },
  {
   "cell_type": "code",
   "execution_count": 26,
   "metadata": {
    "executionInfo": {
     "elapsed": 32,
     "status": "ok",
     "timestamp": 1629385596594,
     "user": {
      "displayName": "김태근",
      "photoUrl": "https://lh3.googleusercontent.com/a-/AOh14GgsExTKJC9FjM9weqcg4dnEFWwMB2lUdaVJK0UOFXQ=s64",
      "userId": "11162072065237115888"
     },
     "user_tz": -540
    },
    "id": "kjhJnEIZsfV1"
   },
   "outputs": [],
   "source": [
    "criterion = nn.MSELoss()\n",
    "optimizer = torch.optim.Adam(net2.parameters(), lr=1)\n",
    "scheduler = torch.optim.lr_scheduler.ReduceLROnPlateau(optimizer, 'min', patience=3)"
   ]
  },
  {
   "cell_type": "code",
   "execution_count": 27,
   "metadata": {
    "executionInfo": {
     "elapsed": 5133,
     "status": "ok",
     "timestamp": 1629385601695,
     "user": {
      "displayName": "김태근",
      "photoUrl": "https://lh3.googleusercontent.com/a-/AOh14GgsExTKJC9FjM9weqcg4dnEFWwMB2lUdaVJK0UOFXQ=s64",
      "userId": "11162072065237115888"
     },
     "user_tz": -540
    },
    "id": "4iftREc_uzFv"
   },
   "outputs": [],
   "source": [
    "train_dataset = RotationDataset(100000)\n",
    "train_data = DataLoader(train_dataset, batch_size=1000, shuffle=True)\n",
    "\n",
    "val_dataset = RotationDataset(10000)\n",
    "val_data = DataLoader(val_dataset, batch_size=1000)"
   ]
  },
  {
   "cell_type": "code",
   "execution_count": 28,
   "metadata": {
    "executionInfo": {
     "elapsed": 40,
     "status": "ok",
     "timestamp": 1629385601696,
     "user": {
      "displayName": "김태근",
      "photoUrl": "https://lh3.googleusercontent.com/a-/AOh14GgsExTKJC9FjM9weqcg4dnEFWwMB2lUdaVJK0UOFXQ=s64",
      "userId": "11162072065237115888"
     },
     "user_tz": -540
    },
    "id": "_UhE95RBsX5X"
   },
   "outputs": [],
   "source": [
    "def train(dataloader, net1, net2, criterion, optimizer):\n",
    "    size = len(dataloader.dataset)\n",
    "    train_loss = []\n",
    "    net1.eval()\n",
    "    for batch, sample in enumerate(dataloader):\n",
    "        X, X_p, _ = sample\n",
    "        X, X_p = X.to(device), X_p.to(device)\n",
    "        with torch.no_grad():\n",
    "            _, out = net1(X, X_p)\n",
    "        a, b = X_p[:,0], X_p[:,1]\n",
    "        Y = torch.column_stack([a, b, a*b, a**2, b**2])\n",
    "        Z = net2(Y)\n",
    "        loss = criterion(Z, out)\n",
    "\n",
    "        optimizer.zero_grad()\n",
    "        loss.backward()\n",
    "        optimizer.step()\n",
    "\n",
    "        if batch % 50 == 0:\n",
    "            loss, curr = loss.item(), (batch + 50) * X.shape[0]\n",
    "            print(f\"loss: {loss:>7f}  [{curr:>5d}/{size:>5d}]\")\n",
    "            train_loss.append(loss)\n",
    "    return torch.mean(torch.tensor(train_loss).float().to(device))"
   ]
  },
  {
   "cell_type": "code",
   "execution_count": 29,
   "metadata": {
    "executionInfo": {
     "elapsed": 36,
     "status": "ok",
     "timestamp": 1629385601697,
     "user": {
      "displayName": "김태근",
      "photoUrl": "https://lh3.googleusercontent.com/a-/AOh14GgsExTKJC9FjM9weqcg4dnEFWwMB2lUdaVJK0UOFXQ=s64",
      "userId": "11162072065237115888"
     },
     "user_tz": -540
    },
    "id": "8rnwoh34wlJz"
   },
   "outputs": [],
   "source": [
    "def val_check(dataloader, net1, net2, criterion):\n",
    "    size = len(dataloader.dataset)\n",
    "    num_batches = len(dataloader)\n",
    "    net1.eval()\n",
    "    net2.eval()\n",
    "    test_loss, r2 = 0, 0\n",
    "    with torch.no_grad():\n",
    "        for X, X_p, y in dataloader:\n",
    "            X, X_p, y = X.to(device), X_p.to(device), y.to(device)\n",
    "            _, out = net1(X, X_p)\n",
    "            a, b = X_p[:,0], X_p[:,1]\n",
    "            Y = torch.column_stack([a, b, a*b, a**2, b**2])\n",
    "            Z = net2(Y)\n",
    "            test_loss += criterion(Z, out)\n",
    "            r2 += r2_score(out, Z)\n",
    "    test_loss /= num_batches\n",
    "    r2 /= num_batches\n",
    "    print(f\"Validation Error: \\n Score: {r2:>4f}, Avg loss: {test_loss:>8f}\")\n",
    "    # print(f\"Test Error: \\n Avg loss: {test_loss:>8f} \\n\")\n",
    "    return test_loss, r2"
   ]
  },
  {
   "cell_type": "code",
   "execution_count": 30,
   "metadata": {
    "colab": {
     "base_uri": "https://localhost:8080/"
    },
    "executionInfo": {
     "elapsed": 40917,
     "status": "ok",
     "timestamp": 1629385642580,
     "user": {
      "displayName": "김태근",
      "photoUrl": "https://lh3.googleusercontent.com/a-/AOh14GgsExTKJC9FjM9weqcg4dnEFWwMB2lUdaVJK0UOFXQ=s64",
      "userId": "11162072065237115888"
     },
     "user_tz": -540
    },
    "id": "0AY9UkE4wLU8",
    "outputId": "f28394fd-9e52-4afd-d658-d4e29a518348"
   },
   "outputs": [
    {
     "name": "stdout",
     "output_type": "stream",
     "text": [
      "\n",
      "Epoch 1\n",
      "-------------------------------\n",
      "loss: 1685.325806  [50000/200000]\n",
      "loss: 80.809364  [100000/200000]\n",
      "loss: 36.678410  [150000/200000]\n",
      "loss: 19.147598  [200000/200000]\n",
      "Validation Error: \n",
      " Score: 0.947166, Avg loss: 13.994104\n",
      " Learning Rate: 1.000000\n",
      "\n",
      "Epoch 2\n",
      "-------------------------------\n",
      "loss: 14.572407  [50000/200000]\n",
      "loss: 13.772199  [100000/200000]\n",
      "loss: 12.762189  [150000/200000]\n",
      "loss: 14.000259  [200000/200000]\n",
      "Validation Error: \n",
      " Score: 0.955378, Avg loss: 13.182625\n",
      " Learning Rate: 1.000000\n",
      "\n",
      "Epoch 3\n",
      "-------------------------------\n",
      "loss: 12.779139  [50000/200000]\n",
      "loss: 13.724337  [100000/200000]\n",
      "loss: 13.420074  [150000/200000]\n",
      "loss: 13.243056  [200000/200000]\n",
      "Validation Error: \n",
      " Score: 0.955391, Avg loss: 13.188002\n",
      " Learning Rate: 1.000000\n",
      "\n",
      "Epoch 4\n",
      "-------------------------------\n",
      "loss: 12.688666  [50000/200000]\n",
      "loss: 12.779495  [100000/200000]\n",
      "loss: 12.586856  [150000/200000]\n",
      "loss: 13.413507  [200000/200000]\n",
      "Validation Error: \n",
      " Score: 0.955466, Avg loss: 13.181911\n",
      " Learning Rate: 1.000000\n",
      "\n",
      "Epoch 5\n",
      "-------------------------------\n",
      "loss: 13.483496  [50000/200000]\n",
      "loss: 13.171324  [100000/200000]\n",
      "loss: 12.531730  [150000/200000]\n",
      "loss: 12.943206  [200000/200000]\n",
      "Validation Error: \n",
      " Score: 0.955449, Avg loss: 13.194510\n",
      " Learning Rate: 1.000000\n",
      "\n",
      "Epoch 6\n",
      "-------------------------------\n",
      "loss: 13.233712  [50000/200000]\n",
      "loss: 14.023447  [100000/200000]\n",
      "loss: 13.375732  [150000/200000]\n",
      "loss: 14.066076  [200000/200000]\n",
      "Validation Error: \n",
      " Score: 0.955376, Avg loss: 13.208855\n",
      " Learning Rate: 0.100000\n",
      "\n",
      "Epoch 7\n",
      "-------------------------------\n",
      "loss: 13.279183  [50000/200000]\n",
      "loss: 13.141392  [100000/200000]\n",
      "loss: 13.258904  [150000/200000]\n",
      "loss: 13.689098  [200000/200000]\n",
      "Validation Error: \n",
      " Score: 0.955453, Avg loss: 13.183846\n",
      " Learning Rate: 0.100000\n",
      "\n",
      "Epoch 8\n",
      "-------------------------------\n",
      "loss: 13.368111  [50000/200000]\n",
      "loss: 13.519812  [100000/200000]\n",
      "loss: 13.272688  [150000/200000]\n",
      "loss: 12.738034  [200000/200000]\n",
      "Validation Error: \n",
      " Score: 0.955439, Avg loss: 13.194855\n",
      " Learning Rate: 0.100000\n",
      "\n",
      "Epoch 9\n",
      "-------------------------------\n",
      "loss: 12.972064  [50000/200000]\n",
      "loss: 12.762538  [100000/200000]\n",
      "loss: 11.762977  [150000/200000]\n",
      "loss: 14.049414  [200000/200000]\n",
      "Validation Error: \n",
      " Score: 0.955474, Avg loss: 13.181808\n",
      " Learning Rate: 0.100000\n",
      "\n",
      "Epoch 10\n",
      "-------------------------------\n",
      "loss: 13.233111  [50000/200000]\n",
      "loss: 12.581587  [100000/200000]\n",
      "loss: 13.624332  [150000/200000]\n",
      "loss: 13.784364  [200000/200000]\n",
      "Validation Error: \n",
      " Score: 0.955443, Avg loss: 13.178467\n",
      " Learning Rate: 0.100000\n",
      "\n",
      "Epoch 11\n",
      "-------------------------------\n",
      "loss: 13.455898  [50000/200000]\n",
      "loss: 12.767951  [100000/200000]\n",
      "loss: 14.073875  [150000/200000]\n",
      "loss: 12.538777  [200000/200000]\n",
      "Validation Error: \n",
      " Score: 0.955452, Avg loss: 13.181046\n",
      " Learning Rate: 0.100000\n",
      "\n",
      "Epoch 12\n",
      "-------------------------------\n",
      "loss: 13.064949  [50000/200000]\n",
      "loss: 14.338741  [100000/200000]\n",
      "loss: 12.865428  [150000/200000]\n",
      "loss: 12.631963  [200000/200000]\n",
      "Validation Error: \n",
      " Score: 0.955433, Avg loss: 13.180716\n",
      " Learning Rate: 0.100000\n",
      "\n",
      "Epoch 13\n",
      "-------------------------------\n",
      "loss: 11.255716  [50000/200000]\n",
      "loss: 12.888986  [100000/200000]\n",
      "loss: 12.462092  [150000/200000]\n",
      "loss: 13.883590  [200000/200000]\n",
      "Validation Error: \n",
      " Score: 0.955438, Avg loss: 13.179739\n",
      " Learning Rate: 0.100000\n",
      "\n",
      "Epoch 14\n",
      "-------------------------------\n",
      "loss: 13.016376  [50000/200000]\n",
      "loss: 13.063074  [100000/200000]\n",
      "loss: 13.368731  [150000/200000]\n",
      "loss: 12.801891  [200000/200000]\n",
      "Validation Error: \n",
      " Score: 0.955396, Avg loss: 13.179003\n",
      " Learning Rate: 0.010000\n",
      "\n",
      "Epoch 15\n",
      "-------------------------------\n",
      "loss: 12.980578  [50000/200000]\n",
      "loss: 13.306936  [100000/200000]\n",
      "loss: 13.331545  [150000/200000]\n",
      "loss: 12.808398  [200000/200000]\n",
      "Validation Error: \n",
      " Score: 0.955441, Avg loss: 13.180263\n",
      " Learning Rate: 0.010000\n",
      "\n",
      "Epoch 16\n",
      "-------------------------------\n",
      "loss: 13.974748  [50000/200000]\n",
      "loss: 13.208759  [100000/200000]\n",
      "loss: 14.030675  [150000/200000]\n",
      "loss: 12.589344  [200000/200000]\n",
      "Validation Error: \n",
      " Score: 0.955451, Avg loss: 13.182251\n",
      " Learning Rate: 0.010000\n",
      "\n",
      "Epoch 17\n",
      "-------------------------------\n",
      "loss: 13.690972  [50000/200000]\n",
      "loss: 13.445732  [100000/200000]\n",
      "loss: 13.258604  [150000/200000]\n",
      "loss: 12.623578  [200000/200000]\n",
      "Validation Error: \n",
      " Score: 0.955453, Avg loss: 13.180188\n",
      " Learning Rate: 0.010000\n",
      "\n",
      "Epoch 18\n",
      "-------------------------------\n",
      "loss: 13.469872  [50000/200000]\n",
      "loss: 12.953229  [100000/200000]\n",
      "loss: 13.428103  [150000/200000]\n",
      "loss: 12.208071  [200000/200000]\n",
      "Validation Error: \n",
      " Score: 0.955459, Avg loss: 13.182431\n",
      " Learning Rate: 0.001000\n",
      "\n",
      "Epoch 19\n",
      "-------------------------------\n",
      "loss: 12.969395  [50000/200000]\n",
      "loss: 12.703485  [100000/200000]\n",
      "loss: 13.165693  [150000/200000]\n",
      "loss: 13.313543  [200000/200000]\n",
      "Validation Error: \n",
      " Score: 0.955461, Avg loss: 13.181897\n",
      " Learning Rate: 0.001000\n",
      "\n",
      "Epoch 20\n",
      "-------------------------------\n",
      "loss: 13.402985  [50000/200000]\n",
      "loss: 12.916497  [100000/200000]\n",
      "loss: 12.847192  [150000/200000]\n",
      "loss: 13.664627  [200000/200000]\n",
      "Validation Error: \n",
      " Score: 0.955461, Avg loss: 13.181524\n",
      " Learning Rate: 0.001000\n",
      "\n",
      "Epoch 21\n",
      "-------------------------------\n",
      "loss: 13.344281  [50000/200000]\n",
      "loss: 12.849166  [100000/200000]\n",
      "loss: 12.567614  [150000/200000]\n",
      "loss: 12.913502  [200000/200000]\n",
      "Validation Error: \n",
      " Score: 0.955462, Avg loss: 13.181539\n",
      " Learning Rate: 0.001000\n",
      "\n",
      "Epoch 22\n",
      "-------------------------------\n",
      "loss: 13.870696  [50000/200000]\n",
      "loss: 12.872827  [100000/200000]\n",
      "loss: 12.336691  [150000/200000]\n",
      "loss: 13.617669  [200000/200000]\n",
      "Validation Error: \n",
      " Score: 0.955462, Avg loss: 13.181401\n",
      " Learning Rate: 0.000100\n",
      "\n",
      "Epoch 23\n",
      "-------------------------------\n",
      "loss: 14.104543  [50000/200000]\n",
      "loss: 13.892859  [100000/200000]\n",
      "loss: 12.195218  [150000/200000]\n",
      "loss: 12.631234  [200000/200000]\n",
      "Validation Error: \n",
      " Score: 0.955462, Avg loss: 13.181401\n",
      " Learning Rate: 0.000100\n",
      "\n",
      "Epoch 24\n",
      "-------------------------------\n",
      "loss: 13.832206  [50000/200000]\n",
      "loss: 13.417087  [100000/200000]\n",
      "loss: 13.316721  [150000/200000]\n",
      "loss: 13.572197  [200000/200000]\n",
      "Validation Error: \n",
      " Score: 0.955462, Avg loss: 13.181402\n",
      " Learning Rate: 0.000100\n",
      "\n",
      "Epoch 25\n",
      "-------------------------------\n",
      "loss: 13.153257  [50000/200000]\n",
      "loss: 13.249531  [100000/200000]\n",
      "loss: 13.422281  [150000/200000]\n",
      "loss: 12.969337  [200000/200000]\n",
      "Validation Error: \n",
      " Score: 0.955462, Avg loss: 13.181384\n",
      " Learning Rate: 0.000100\n",
      "\n",
      "Epoch 26\n",
      "-------------------------------\n",
      "loss: 13.227555  [50000/200000]\n",
      "loss: 13.669091  [100000/200000]\n",
      "loss: 13.378449  [150000/200000]\n",
      "loss: 13.765242  [200000/200000]\n",
      "Validation Error: \n",
      " Score: 0.955462, Avg loss: 13.181395\n",
      " Learning Rate: 0.000010\n",
      "\n",
      "Epoch 27\n",
      "-------------------------------\n",
      "loss: 13.229771  [50000/200000]\n",
      "loss: 13.035275  [100000/200000]\n",
      "loss: 12.988051  [150000/200000]\n",
      "loss: 13.407395  [200000/200000]\n",
      "Validation Error: \n",
      " Score: 0.955462, Avg loss: 13.181394\n",
      " Learning Rate: 0.000010\n",
      "\n",
      "Epoch 28\n",
      "-------------------------------\n",
      "loss: 12.760839  [50000/200000]\n",
      "loss: 13.486447  [100000/200000]\n",
      "loss: 12.123813  [150000/200000]\n",
      "loss: 13.513578  [200000/200000]\n",
      "Validation Error: \n",
      " Score: 0.955462, Avg loss: 13.181394\n",
      " Learning Rate: 0.000010\n",
      "\n",
      "Epoch 29\n",
      "-------------------------------\n",
      "loss: 12.960471  [50000/200000]\n",
      "loss: 13.133661  [100000/200000]\n",
      "loss: 12.505347  [150000/200000]\n",
      "loss: 13.348364  [200000/200000]\n",
      "Validation Error: \n",
      " Score: 0.955462, Avg loss: 13.181394\n",
      " Learning Rate: 0.000010\n",
      "\n",
      "Epoch 30\n",
      "-------------------------------\n",
      "loss: 13.052129  [50000/200000]\n",
      "loss: 13.106565  [100000/200000]\n",
      "loss: 13.132893  [150000/200000]\n",
      "loss: 13.553396  [200000/200000]\n",
      "Validation Error: \n",
      " Score: 0.955462, Avg loss: 13.181394\n",
      " Learning Rate: 0.000001\n",
      "\n",
      "Epoch 31\n",
      "-------------------------------\n",
      "loss: 14.411459  [50000/200000]\n",
      "loss: 13.562637  [100000/200000]\n",
      "loss: 14.079799  [150000/200000]\n",
      "loss: 13.464945  [200000/200000]\n",
      "Validation Error: \n",
      " Score: 0.955462, Avg loss: 13.181394\n",
      " Learning Rate: 0.000001\n",
      "\n",
      "Epoch 32\n",
      "-------------------------------\n",
      "loss: 13.751214  [50000/200000]\n",
      "loss: 13.469751  [100000/200000]\n",
      "loss: 13.222904  [150000/200000]\n",
      "loss: 13.185875  [200000/200000]\n",
      "Validation Error: \n",
      " Score: 0.955462, Avg loss: 13.181394\n",
      " Learning Rate: 0.000001\n",
      "\n",
      "Epoch 33\n",
      "-------------------------------\n",
      "loss: 13.444427  [50000/200000]\n"
     ]
    },
    {
     "name": "stdout",
     "output_type": "stream",
     "text": [
      "loss: 12.545209  [100000/200000]\n",
      "loss: 13.696540  [150000/200000]\n",
      "loss: 13.480545  [200000/200000]\n",
      "Validation Error: \n",
      " Score: 0.955462, Avg loss: 13.181395\n",
      " Learning Rate: 0.000001\n",
      "\n",
      "Epoch 34\n",
      "-------------------------------\n",
      "loss: 13.227079  [50000/200000]\n",
      "loss: 13.563957  [100000/200000]\n",
      "loss: 13.926167  [150000/200000]\n",
      "loss: 12.899968  [200000/200000]\n",
      "Validation Error: \n",
      " Score: 0.955462, Avg loss: 13.181394\n",
      " Learning Rate: 0.000000\n",
      "Done!\n"
     ]
    }
   ],
   "source": [
    "epochs = 100\n",
    "train_loss= []\n",
    "val_loss = []\n",
    "old_val = 1e+10\n",
    "for t in range(epochs):\n",
    "    print(f\"\\nEpoch {t+1}\\n-------------------------------\")\n",
    "    train_loss.append(train(train_data, net, net2, criterion, optimizer))\n",
    "    val, correct = val_check(val_data, net, net2, criterion)\n",
    "    val_loss.append(val)\n",
    "    scheduler.step(val)\n",
    "    for param_group in optimizer.param_groups:\n",
    "        lr = param_group['lr']\n",
    "        print(f\" Learning Rate: {lr:>8f}\")\n",
    "    if lr < 1e-6:\n",
    "        break\n",
    "    old_val = val\n",
    "print(\"Done!\")"
   ]
  },
  {
   "cell_type": "code",
   "execution_count": 31,
   "metadata": {
    "colab": {
     "base_uri": "https://localhost:8080/"
    },
    "executionInfo": {
     "elapsed": 41,
     "status": "ok",
     "timestamp": 1629385642581,
     "user": {
      "displayName": "김태근",
      "photoUrl": "https://lh3.googleusercontent.com/a-/AOh14GgsExTKJC9FjM9weqcg4dnEFWwMB2lUdaVJK0UOFXQ=s64",
      "userId": "11162072065237115888"
     },
     "user_tz": -540
    },
    "id": "8fkFeF5Mzdyh",
    "outputId": "9db76f16-19dd-4fab-f460-0f0593755ea8"
   },
   "outputs": [
    {
     "name": "stdout",
     "output_type": "stream",
     "text": [
      "tensor([[ 2.9125e-02,  8.3266e-03, -1.6554e-02,  5.8654e+01,  5.8737e+01]])\n",
      "tensor([15.1005])\n"
     ]
    }
   ],
   "source": [
    "for param in net2.parameters():\n",
    "  print(param.data)"
   ]
  },
  {
   "cell_type": "code",
   "execution_count": 32,
   "metadata": {},
   "outputs": [
    {
     "data": {
      "text/plain": [
       "[<matplotlib.lines.Line2D at 0x7fb8cee50820>]"
      ]
     },
     "execution_count": 32,
     "metadata": {},
     "output_type": "execute_result"
    },
    {
     "data": {
      "image/png": "[encoded data removed]",
      "text/plain": [
       "<Figure size 432x288 with 1 Axes>"
      ]
     },
     "metadata": {
      "needs_background": "light"
     },
     "output_type": "display_data"
    }
   ],
   "source": [
    "plt.plot(train_loss)"
   ]
  },
  {
   "cell_type": "code",
   "execution_count": 33,
   "metadata": {},
   "outputs": [
    {
     "data": {
      "text/plain": [
       "[<matplotlib.lines.Line2D at 0x7fb8cefa15e0>]"
      ]
     },
     "execution_count": 33,
     "metadata": {},
     "output_type": "execute_result"
    },
    {
     "data": {
      "image/png": "[encoded data removed]",
      "text/plain": [
       "<Figure size 432x288 with 1 Axes>"
      ]
     },
     "metadata": {
      "needs_background": "light"
     },
     "output_type": "display_data"
    }
   ],
   "source": [
    "plt.plot(val_loss)"
   ]
  }
 ],
 "metadata": {
  "accelerator": "GPU",
  "colab": {
   "authorship_tag": "ABX9TyMROtR7ItK92AjDugG4zN6g",
   "collapsed_sections": [],
   "mount_file_id": "1ZyCTLY-j_jtQTq_LjwnoVM-JjTLTzYfS",
   "name": "rotation_load.ipynb",
   "provenance": []
  },
  "kernelspec": {
   "display_name": "Python 3",
   "language": "python",
   "name": "python3"
  },
  "language_info": {
   "codemirror_mode": {
    "name": "ipython",
    "version": 3
   },
   "file_extension": ".py",
   "mimetype": "text/x-python",
   "name": "python",
   "nbconvert_exporter": "python",
   "pygments_lexer": "ipython3",
   "version": "3.9.6"
  }
 },
 "nbformat": 4,
 "nbformat_minor": 1
}
