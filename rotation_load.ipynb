{
 "cells": [
  {
   "cell_type": "markdown",
   "metadata": {
    "id": "8KT-3I3t6TRm"
   },
   "source": [
    "# Discover Invariant in Rotation"
   ]
  },
  {
   "cell_type": "markdown",
   "metadata": {
    "id": "AoGKvRnW6Zdw"
   },
   "source": [
    "## Import Model"
   ]
  },
  {
   "cell_type": "code",
   "execution_count": 1,
   "metadata": {
    "executionInfo": {
     "elapsed": 1211,
     "status": "ok",
     "timestamp": 1629385592488,
     "user": {
      "displayName": "김태근",
      "photoUrl": "https://lh3.googleusercontent.com/a-/AOh14GgsExTKJC9FjM9weqcg4dnEFWwMB2lUdaVJK0UOFXQ=s64",
      "userId": "11162072065237115888"
     },
     "user_tz": -540
    },
    "id": "pfffeXTLnJZS"
   },
   "outputs": [],
   "source": [
    "import torch as tch\n",
    "from torch import nn\n",
    "import matplotlib.pyplot as plt\n",
    "from torch.utils.data import Dataset, DataLoader\n",
    "from torch.utils.tensorboard import SummaryWriter\n",
    "import torch.nn.functional as F\n",
    "from torch.distributions.uniform import Uniform\n",
    "# from google.colab import drive\n",
    "import sys, os\n",
    "import math"
   ]
  },
  {
   "cell_type": "code",
   "execution_count": 2,
   "metadata": {
    "executionInfo": {
     "elapsed": 49,
     "status": "ok",
     "timestamp": 1629385592488,
     "user": {
      "displayName": "김태근",
      "photoUrl": "https://lh3.googleusercontent.com/a-/AOh14GgsExTKJC9FjM9weqcg4dnEFWwMB2lUdaVJK0UOFXQ=s64",
      "userId": "11162072065237115888"
     },
     "user_tz": -540
    },
    "id": "DQTWWXsDoGrv"
   },
   "outputs": [],
   "source": [
    "# drive.mount('/content/mnt')\n",
    "# nb_path = '/content/notebooks'\n",
    "# os.symlink('/content/mnt/My Drive/Colab Notebooks', nb_path)\n",
    "# sys.path.insert(0, nb_path)"
   ]
  },
  {
   "cell_type": "code",
   "execution_count": 3,
   "metadata": {
    "colab": {
     "base_uri": "https://localhost:8080/",
     "height": 35
    },
    "executionInfo": {
     "elapsed": 48,
     "status": "ok",
     "timestamp": 1629385592490,
     "user": {
      "displayName": "김태근",
      "photoUrl": "https://lh3.googleusercontent.com/a-/AOh14GgsExTKJC9FjM9weqcg4dnEFWwMB2lUdaVJK0UOFXQ=s64",
      "userId": "11162072065237115888"
     },
     "user_tz": -540
    },
    "id": "4BZ8yuj6o-Qf",
    "outputId": "41109d2a-3c64-4e0c-feb2-56cf68871d9f"
   },
   "outputs": [
    {
     "data": {
      "text/plain": [
       "'cpu'"
      ]
     },
     "execution_count": 3,
     "metadata": {},
     "output_type": "execute_result"
    }
   ],
   "source": [
    "device = 'cuda' if tch.cuda.is_available() else 'cpu'\n",
    "device"
   ]
  },
  {
   "cell_type": "code",
   "execution_count": 4,
   "metadata": {
    "executionInfo": {
     "elapsed": 45,
     "status": "ok",
     "timestamp": 1629385592491,
     "user": {
      "displayName": "김태근",
      "photoUrl": "https://lh3.googleusercontent.com/a-/AOh14GgsExTKJC9FjM9weqcg4dnEFWwMB2lUdaVJK0UOFXQ=s64",
      "userId": "11162072065237115888"
     },
     "user_tz": -540
    },
    "id": "5SQjBVNrpNyv"
   },
   "outputs": [],
   "source": [
    "# Implement Dataset\n",
    "class RotationDataset(Dataset):\n",
    "    def __init__(self, size):\n",
    "        unif1 = Uniform(0.1, 1)\n",
    "        unif2 = Uniform(0, 2*math.pi)\n",
    "        unif3 = Uniform(0.1, 1)\n",
    "        unif4 = Uniform(0, 2*math.pi)\n",
    "        unif5 = Uniform(0, 2*math.pi)\n",
    "\n",
    "        r1 = unif1.sample([size]).float()\n",
    "        th1 = unif2.sample([size]).float()\n",
    "        r2 = unif3.sample([size]).float()\n",
    "        th2 = unif4.sample([size]).float()\n",
    "        th3 = unif5.sample([size]).float()\n",
    "\n",
    "        self.X = tch.column_stack([r1*tch.cos(th1), r1*tch.sin(th1)])\n",
    "        X_p = tch.column_stack([r1*tch.cos(th1+th3), r1*tch.sin(th1+th3)])\n",
    "        X_n = tch.column_stack([r2*tch.cos(th2), r2*tch.sin(th2)])\n",
    "\n",
    "        self.X = tch.vstack([self.X, self.X])\n",
    "        self.X_pair = tch.vstack([X_p, X_n])\n",
    "\n",
    "        # Labeling\n",
    "        y_p = tch.zeros((X_p.shape[0], 1))\n",
    "        y_n = tch.ones((X_n.shape[0], 1))\n",
    "        self.y = tch.vstack([y_p, y_n])\n",
    "\n",
    "    def __len__(self):\n",
    "        return self.X.shape[0]\n",
    "\n",
    "    def __getitem__(self, idx):\n",
    "        x = tch.Tensor(self.X[idx])\n",
    "        x_pair = tch.Tensor(self.X_pair[idx])\n",
    "        y = tch.Tensor(self.y[idx])\n",
    "        return x, x_pair, y"
   ]
  },
  {
   "cell_type": "code",
   "execution_count": 5,
   "metadata": {
    "executionInfo": {
     "elapsed": 42,
     "status": "ok",
     "timestamp": 1629385592491,
     "user": {
      "displayName": "김태근",
      "photoUrl": "https://lh3.googleusercontent.com/a-/AOh14GgsExTKJC9FjM9weqcg4dnEFWwMB2lUdaVJK0UOFXQ=s64",
      "userId": "11162072065237115888"
     },
     "user_tz": -540
    },
    "id": "LA-5hqR5pQ_R"
   },
   "outputs": [],
   "source": [
    "class SNN(nn.Module):\n",
    "    def __init__(self):\n",
    "        super(SNN, self).__init__()\n",
    "        self.linear_relu = nn.Sequential(\n",
    "            nn.Linear(2,100),\n",
    "            nn.ReLU(),\n",
    "            nn.Linear(100,1),\n",
    "            nn.ReLU()\n",
    "        )\n",
    "\n",
    "    def forward(self, x1, x2):\n",
    "        out1 = self.linear_relu(x1)\n",
    "        out2 = self.linear_relu(x2)\n",
    "        return out1, out2"
   ]
  },
  {
   "cell_type": "code",
   "execution_count": 6,
   "metadata": {
    "executionInfo": {
     "elapsed": 39,
     "status": "ok",
     "timestamp": 1629385592492,
     "user": {
      "displayName": "김태근",
      "photoUrl": "https://lh3.googleusercontent.com/a-/AOh14GgsExTKJC9FjM9weqcg4dnEFWwMB2lUdaVJK0UOFXQ=s64",
      "userId": "11162072065237115888"
     },
     "user_tz": -540
    },
    "id": "YkiveGsApTtC"
   },
   "outputs": [],
   "source": [
    "class ContrastiveLoss(tch.nn.Module):\n",
    "    \"\"\"\n",
    "    Contrastive loss function.\n",
    "    Based on: http://yann.lecun.com/exdb/publis/pdf/hadsell-chopra-lecun-06.pdf\n",
    "    \"\"\"\n",
    "\n",
    "    def __init__(self, margin=2.0):\n",
    "        super(ContrastiveLoss, self).__init__()\n",
    "        self.margin = margin\n",
    "\n",
    "    def forward(self, output1, output2, label):\n",
    "        euclidean_distance = F.pairwise_distance(output1, output2, keepdim = True)\n",
    "        loss_contrastive = tch.mean((1-label) * tch.pow(euclidean_distance, 2) +\n",
    "                                      (label) * tch.pow(tch.clamp(self.margin - euclidean_distance, min=0.0), 2))\n",
    "\n",
    "        return loss_contrastive"
   ]
  },
  {
   "cell_type": "code",
   "execution_count": 7,
   "metadata": {
    "colab": {
     "base_uri": "https://localhost:8080/"
    },
    "executionInfo": {
     "elapsed": 37,
     "status": "ok",
     "timestamp": 1629385592492,
     "user": {
      "displayName": "김태근",
      "photoUrl": "https://lh3.googleusercontent.com/a-/AOh14GgsExTKJC9FjM9weqcg4dnEFWwMB2lUdaVJK0UOFXQ=s64",
      "userId": "11162072065237115888"
     },
     "user_tz": -540
    },
    "id": "SoxsrKRtE_Z5",
    "outputId": "93de94c1-19bc-4ce7-a8d2-cfd3e99afb94"
   },
   "outputs": [],
   "source": [
    "#!ls"
   ]
  },
  {
   "cell_type": "code",
   "execution_count": 8,
   "metadata": {
    "executionInfo": {
     "elapsed": 30,
     "status": "ok",
     "timestamp": 1629385592493,
     "user": {
      "displayName": "김태근",
      "photoUrl": "https://lh3.googleusercontent.com/a-/AOh14GgsExTKJC9FjM9weqcg4dnEFWwMB2lUdaVJK0UOFXQ=s64",
      "userId": "11162072065237115888"
     },
     "user_tz": -540
    },
    "id": "zuTX8sP8tdFv"
   },
   "outputs": [],
   "source": [
    "#drive_path = \"drive/My Drive/Colab Notebooks/\""
   ]
  },
  {
   "cell_type": "code",
   "execution_count": 9,
   "metadata": {
    "executionInfo": {
     "elapsed": 2627,
     "status": "ok",
     "timestamp": 1629385595091,
     "user": {
      "displayName": "김태근",
      "photoUrl": "https://lh3.googleusercontent.com/a-/AOh14GgsExTKJC9FjM9weqcg4dnEFWwMB2lUdaVJK0UOFXQ=s64",
      "userId": "11162072065237115888"
     },
     "user_tz": -540
    },
    "id": "RSgAa0PLovAy"
   },
   "outputs": [],
   "source": [
    "net = tch.load(\"model/snn_rot8.pt\").to(device)"
   ]
  },
  {
   "cell_type": "code",
   "execution_count": 10,
   "metadata": {
    "executionInfo": {
     "elapsed": 10,
     "status": "ok",
     "timestamp": 1629385595093,
     "user": {
      "displayName": "김태근",
      "photoUrl": "https://lh3.googleusercontent.com/a-/AOh14GgsExTKJC9FjM9weqcg4dnEFWwMB2lUdaVJK0UOFXQ=s64",
      "userId": "11162072065237115888"
     },
     "user_tz": -540
    },
    "id": "El02j4jvpsqE"
   },
   "outputs": [],
   "source": [
    "pi = tch.tensor(math.pi).float().to(device)"
   ]
  },
  {
   "cell_type": "code",
   "execution_count": 11,
   "metadata": {
    "executionInfo": {
     "elapsed": 8,
     "status": "ok",
     "timestamp": 1629385595093,
     "user": {
      "displayName": "김태근",
      "photoUrl": "https://lh3.googleusercontent.com/a-/AOh14GgsExTKJC9FjM9weqcg4dnEFWwMB2lUdaVJK0UOFXQ=s64",
      "userId": "11162072065237115888"
     },
     "user_tz": -540
    },
    "id": "IZY5_hjEqYVr"
   },
   "outputs": [],
   "source": [
    "loss_fn = ContrastiveLoss()"
   ]
  },
  {
   "cell_type": "markdown",
   "metadata": {
    "id": "xiMVRWru6g2u"
   },
   "source": [
    "## Test Model"
   ]
  },
  {
   "cell_type": "code",
   "execution_count": 12,
   "metadata": {
    "executionInfo": {
     "elapsed": 542,
     "status": "ok",
     "timestamp": 1629385595628,
     "user": {
      "displayName": "김태근",
      "photoUrl": "https://lh3.googleusercontent.com/a-/AOh14GgsExTKJC9FjM9weqcg4dnEFWwMB2lUdaVJK0UOFXQ=s64",
      "userId": "11162072065237115888"
     },
     "user_tz": -540
    },
    "id": "w4qWkWnxpLEG"
   },
   "outputs": [],
   "source": [
    "test_set = RotationDataset(10000)\n",
    "test_data = DataLoader(test_set, batch_size=100)"
   ]
  },
  {
   "cell_type": "code",
   "execution_count": 13,
   "metadata": {
    "colab": {
     "base_uri": "https://localhost:8080/"
    },
    "executionInfo": {
     "elapsed": 14,
     "status": "ok",
     "timestamp": 1629385595629,
     "user": {
      "displayName": "김태근",
      "photoUrl": "https://lh3.googleusercontent.com/a-/AOh14GgsExTKJC9FjM9weqcg4dnEFWwMB2lUdaVJK0UOFXQ=s64",
      "userId": "11162072065237115888"
     },
     "user_tz": -540
    },
    "id": "qSEjNOdbpq8r",
    "outputId": "20cdd859-e004-4584-e9c1-7f52dac4352f"
   },
   "outputs": [
    {
     "name": "stdout",
     "output_type": "stream",
     "text": [
      "Average Accuracy: 99.82501983642578%\n"
     ]
    }
   ],
   "source": [
    "total_accuracy = 0\n",
    "total_size = len(test_data)\n",
    "for batch, samples in enumerate(test_data):\n",
    "    x, x_p, y = samples\n",
    "    x, x_p, y = x.to(device), x_p.to(device), y.to(device)\n",
    "    with tch.no_grad():\n",
    "        pred1, pred2 = net(x, x_p)\n",
    "        idx = tch.flatten((tch.abs(pred1 - pred2) <= 0.2) == y)\n",
    "        acc = tch.count_nonzero(idx)\n",
    "        # print(f\"Accuracy: {100-acc}%\")\n",
    "        total_accuracy += (1 - acc/100)\n",
    "        # temp = tch.column_stack([pred1, pred2, y])\n",
    "        # temp_val = temp[idx]\n",
    "        # if len(temp_val) != 0:\n",
    "        #     print(f\"{batch} - {temp_val[:].tolist()}\")\n",
    "print(f\"Average Accuracy: {total_accuracy/total_size*100}%\")"
   ]
  },
  {
   "cell_type": "markdown",
   "metadata": {
    "id": "g2LYhmjw6ksI"
   },
   "source": [
    "## OLS with Bottleneck"
   ]
  },
  {
   "cell_type": "code",
   "execution_count": 14,
   "metadata": {
    "executionInfo": {
     "elapsed": 970,
     "status": "ok",
     "timestamp": 1629385596588,
     "user": {
      "displayName": "김태근",
      "photoUrl": "https://lh3.googleusercontent.com/a-/AOh14GgsExTKJC9FjM9weqcg4dnEFWwMB2lUdaVJK0UOFXQ=s64",
      "userId": "11162072065237115888"
     },
     "user_tz": -540
    },
    "id": "I00X-MO_7iyQ"
   },
   "outputs": [],
   "source": [
    "def r2_score(output, target):\n",
    "    target_mean = tch.mean(target)\n",
    "    ss_tot = tch.sum((target - target_mean) ** 2)\n",
    "    ss_res = tch.sum((target - output) ** 2)\n",
    "    r2 = 1 - ss_res / ss_tot\n",
    "    return r2"
   ]
  },
  {
   "cell_type": "markdown",
   "metadata": {
    "id": "8vytc1z17BXQ"
   },
   "source": [
    "### Order 1"
   ]
  },
  {
   "cell_type": "code",
   "execution_count": 15,
   "metadata": {
    "colab": {
     "base_uri": "https://localhost:8080/"
    },
    "executionInfo": {
     "elapsed": 44,
     "status": "ok",
     "timestamp": 1629385596590,
     "user": {
      "displayName": "김태근",
      "photoUrl": "https://lh3.googleusercontent.com/a-/AOh14GgsExTKJC9FjM9weqcg4dnEFWwMB2lUdaVJK0UOFXQ=s64",
      "userId": "11162072065237115888"
     },
     "user_tz": -540
    },
    "id": "Fqj7EtyT7CwD",
    "outputId": "7cd3038a-1f47-4d15-dfda-a1f5e3aed5aa"
   },
   "outputs": [
    {
     "data": {
      "text/plain": [
       "tensor([[140.5728],\n",
       "        [113.1597],\n",
       "        [136.9590],\n",
       "        ...,\n",
       "        [104.1717],\n",
       "        [133.9889],\n",
       "        [ 95.6149]])"
      ]
     },
     "execution_count": 15,
     "metadata": {},
     "output_type": "execute_result"
    }
   ],
   "source": [
    "X, X_p, Y = test_set[:]\n",
    "X, X_p, Y = X.to(device), X_p.to(device), Y.to(device)\n",
    "\n",
    "x, y = X_p[:, 0], X_p[:,1]\n",
    "x, y = x.to(device), y.to(device)\n",
    "\n",
    "net.eval()\n",
    "with tch.no_grad():\n",
    "    _, Z = net(X, X_p)\n",
    "Z"
   ]
  },
  {
   "cell_type": "code",
   "execution_count": 16,
   "metadata": {
    "executionInfo": {
     "elapsed": 43,
     "status": "ok",
     "timestamp": 1629385596591,
     "user": {
      "displayName": "김태근",
      "photoUrl": "https://lh3.googleusercontent.com/a-/AOh14GgsExTKJC9FjM9weqcg4dnEFWwMB2lUdaVJK0UOFXQ=s64",
      "userId": "11162072065237115888"
     },
     "user_tz": -540
    },
    "id": "2_dFun1n7EXi"
   },
   "outputs": [],
   "source": [
    "X_linear = tch.column_stack([tch.ones((len(x), 1)).float().to(device), x, y])"
   ]
  },
  {
   "cell_type": "code",
   "execution_count": 17,
   "metadata": {
    "colab": {
     "base_uri": "https://localhost:8080/"
    },
    "executionInfo": {
     "elapsed": 43,
     "status": "ok",
     "timestamp": 1629385596591,
     "user": {
      "displayName": "김태근",
      "photoUrl": "https://lh3.googleusercontent.com/a-/AOh14GgsExTKJC9FjM9weqcg4dnEFWwMB2lUdaVJK0UOFXQ=s64",
      "userId": "11162072065237115888"
     },
     "user_tz": -540
    },
    "id": "PwoMdqJN7ali",
    "outputId": "99f37877-269f-4118-9b08-1dff05eaf933"
   },
   "outputs": [
    {
     "data": {
      "text/plain": [
       "tensor([[ 7.8032e+01],\n",
       "        [ 7.0057e-02],\n",
       "        [-2.4682e-01]])"
      ]
     },
     "execution_count": 17,
     "metadata": {},
     "output_type": "execute_result"
    }
   ],
   "source": [
    "weight_linear = tch.mm(tch.linalg.pinv(X_linear), Z)\n",
    "weight_linear"
   ]
  },
  {
   "cell_type": "code",
   "execution_count": 18,
   "metadata": {
    "colab": {
     "base_uri": "https://localhost:8080/"
    },
    "executionInfo": {
     "elapsed": 41,
     "status": "ok",
     "timestamp": 1629385596591,
     "user": {
      "displayName": "김태근",
      "photoUrl": "https://lh3.googleusercontent.com/a-/AOh14GgsExTKJC9FjM9weqcg4dnEFWwMB2lUdaVJK0UOFXQ=s64",
      "userId": "11162072065237115888"
     },
     "user_tz": -540
    },
    "id": "LEi8G0Yw7ft_",
    "outputId": "1823b392-3c52-44b4-d7ce-404a19b40315"
   },
   "outputs": [
    {
     "data": {
      "text/plain": [
       "tensor(8.8215e-06)"
      ]
     },
     "execution_count": 18,
     "metadata": {},
     "output_type": "execute_result"
    }
   ],
   "source": [
    "r2_score(tch.mm(X_linear, weight_linear), Z)"
   ]
  },
  {
   "cell_type": "markdown",
   "metadata": {
    "id": "3dvh-rpK6_zZ"
   },
   "source": [
    "### Order 2"
   ]
  },
  {
   "cell_type": "code",
   "execution_count": 19,
   "metadata": {
    "executionInfo": {
     "elapsed": 40,
     "status": "ok",
     "timestamp": 1629385596592,
     "user": {
      "displayName": "김태근",
      "photoUrl": "https://lh3.googleusercontent.com/a-/AOh14GgsExTKJC9FjM9weqcg4dnEFWwMB2lUdaVJK0UOFXQ=s64",
      "userId": "11162072065237115888"
     },
     "user_tz": -540
    },
    "id": "0-520VYokHJC"
   },
   "outputs": [],
   "source": [
    "X_quad = tch.column_stack([tch.ones((len(x), 1)).float().to(device), x, y, x*y, x**2, y**2])"
   ]
  },
  {
   "cell_type": "code",
   "execution_count": 20,
   "metadata": {
    "colab": {
     "base_uri": "https://localhost:8080/"
    },
    "executionInfo": {
     "elapsed": 39,
     "status": "ok",
     "timestamp": 1629385596592,
     "user": {
      "displayName": "김태근",
      "photoUrl": "https://lh3.googleusercontent.com/a-/AOh14GgsExTKJC9FjM9weqcg4dnEFWwMB2lUdaVJK0UOFXQ=s64",
      "userId": "11162072065237115888"
     },
     "user_tz": -540
    },
    "id": "negj2yVDkktL",
    "outputId": "7e3cf694-dabc-4f99-8e4c-3ba89a561a22"
   },
   "outputs": [
    {
     "data": {
      "text/plain": [
       "torch.Size([20000, 6])"
      ]
     },
     "execution_count": 20,
     "metadata": {},
     "output_type": "execute_result"
    }
   ],
   "source": [
    "X_quad.shape"
   ]
  },
  {
   "cell_type": "code",
   "execution_count": 21,
   "metadata": {
    "colab": {
     "base_uri": "https://localhost:8080/"
    },
    "executionInfo": {
     "elapsed": 39,
     "status": "ok",
     "timestamp": 1629385596593,
     "user": {
      "displayName": "김태근",
      "photoUrl": "https://lh3.googleusercontent.com/a-/AOh14GgsExTKJC9FjM9weqcg4dnEFWwMB2lUdaVJK0UOFXQ=s64",
      "userId": "11162072065237115888"
     },
     "user_tz": -540
    },
    "id": "dnZGH6Nq8ZQM",
    "outputId": "159914b5-d860-4f86-cbe2-04361e40e816"
   },
   "outputs": [
    {
     "data": {
      "text/plain": [
       "tensor([[ 3.2186e+01],\n",
       "        [ 1.4698e-01],\n",
       "        [ 8.4214e-02],\n",
       "        [-7.2476e-02],\n",
       "        [ 1.2344e+02],\n",
       "        [ 1.2314e+02]])"
      ]
     },
     "execution_count": 21,
     "metadata": {},
     "output_type": "execute_result"
    }
   ],
   "source": [
    "weight_quad = tch.mm(tch.linalg.pinv(X_quad), Z)\n",
    "weight_quad"
   ]
  },
  {
   "cell_type": "code",
   "execution_count": 22,
   "metadata": {
    "colab": {
     "base_uri": "https://localhost:8080/"
    },
    "executionInfo": {
     "elapsed": 35,
     "status": "ok",
     "timestamp": 1629385596593,
     "user": {
      "displayName": "김태근",
      "photoUrl": "https://lh3.googleusercontent.com/a-/AOh14GgsExTKJC9FjM9weqcg4dnEFWwMB2lUdaVJK0UOFXQ=s64",
      "userId": "11162072065237115888"
     },
     "user_tz": -540
    },
    "id": "oBRC_65q4zJW",
    "outputId": "cc0b7299-8279-435f-fb53-a137ce37a59a"
   },
   "outputs": [
    {
     "data": {
      "text/plain": [
       "tensor(0.9577)"
      ]
     },
     "execution_count": 22,
     "metadata": {},
     "output_type": "execute_result"
    }
   ],
   "source": [
    "r2_score(tch.mm(X_quad, weight_quad), Z)"
   ]
  },
  {
   "cell_type": "markdown",
   "metadata": {
    "id": "9wJBnMZA6vcO"
   },
   "source": [
    "## Polynomial Regression with NeuralNetwork"
   ]
  },
  {
   "cell_type": "code",
   "execution_count": 23,
   "metadata": {
    "executionInfo": {
     "elapsed": 33,
     "status": "ok",
     "timestamp": 1629385596593,
     "user": {
      "displayName": "김태근",
      "photoUrl": "https://lh3.googleusercontent.com/a-/AOh14GgsExTKJC9FjM9weqcg4dnEFWwMB2lUdaVJK0UOFXQ=s64",
      "userId": "11162072065237115888"
     },
     "user_tz": -540
    },
    "id": "QMCUXl_HicNo"
   },
   "outputs": [],
   "source": [
    "class PolyNet(nn.Module):\n",
    "    def __init__(self):\n",
    "        super(PolyNet, self).__init__()\n",
    "        self.model = nn.Sequential(\n",
    "            nn.Linear(6, 1),\n",
    "            nn.ReLU()\n",
    "        )\n",
    "\n",
    "    def forward(self, x):\n",
    "        return self.model(x)"
   ]
  },
  {
   "cell_type": "code",
   "execution_count": 24,
   "metadata": {
    "executionInfo": {
     "elapsed": 33,
     "status": "ok",
     "timestamp": 1629385596593,
     "user": {
      "displayName": "김태근",
      "photoUrl": "https://lh3.googleusercontent.com/a-/AOh14GgsExTKJC9FjM9weqcg4dnEFWwMB2lUdaVJK0UOFXQ=s64",
      "userId": "11162072065237115888"
     },
     "user_tz": -540
    },
    "id": "ZzsTLeGisTUq"
   },
   "outputs": [],
   "source": [
    "net2 = PolyNet().to(device)"
   ]
  },
  {
   "cell_type": "code",
   "execution_count": 25,
   "metadata": {
    "colab": {
     "base_uri": "https://localhost:8080/"
    },
    "executionInfo": {
     "elapsed": 33,
     "status": "ok",
     "timestamp": 1629385596593,
     "user": {
      "displayName": "김태근",
      "photoUrl": "https://lh3.googleusercontent.com/a-/AOh14GgsExTKJC9FjM9weqcg4dnEFWwMB2lUdaVJK0UOFXQ=s64",
      "userId": "11162072065237115888"
     },
     "user_tz": -540
    },
    "id": "-ok89-x-sXQI",
    "outputId": "62fa77df-6987-4ab3-a51e-45b2c1653168"
   },
   "outputs": [
    {
     "name": "stdout",
     "output_type": "stream",
     "text": [
      "PolyNet(\n",
      "  (model): Sequential(\n",
      "    (0): Linear(in_features=6, out_features=1, bias=True)\n",
      "    (1): ReLU()\n",
      "  )\n",
      ")\n"
     ]
    }
   ],
   "source": [
    "print(net2)"
   ]
  },
  {
   "cell_type": "code",
   "execution_count": 26,
   "metadata": {
    "executionInfo": {
     "elapsed": 32,
     "status": "ok",
     "timestamp": 1629385596594,
     "user": {
      "displayName": "김태근",
      "photoUrl": "https://lh3.googleusercontent.com/a-/AOh14GgsExTKJC9FjM9weqcg4dnEFWwMB2lUdaVJK0UOFXQ=s64",
      "userId": "11162072065237115888"
     },
     "user_tz": -540
    },
    "id": "kjhJnEIZsfV1"
   },
   "outputs": [],
   "source": [
    "criterion = nn.MSELoss()\n",
    "optimizer = tch.optim.Adam(net2.parameters(), lr=1)\n",
    "scheduler = tch.optim.lr_scheduler.ReduceLROnPlateau(optimizer, 'min', patience=3)"
   ]
  },
  {
   "cell_type": "code",
   "execution_count": 27,
   "metadata": {
    "executionInfo": {
     "elapsed": 5133,
     "status": "ok",
     "timestamp": 1629385601695,
     "user": {
      "displayName": "김태근",
      "photoUrl": "https://lh3.googleusercontent.com/a-/AOh14GgsExTKJC9FjM9weqcg4dnEFWwMB2lUdaVJK0UOFXQ=s64",
      "userId": "11162072065237115888"
     },
     "user_tz": -540
    },
    "id": "4iftREc_uzFv"
   },
   "outputs": [],
   "source": [
    "train_dataset = RotationDataset(100000)\n",
    "train_data = DataLoader(train_dataset, batch_size=1000, shuffle=True)\n",
    "\n",
    "val_dataset = RotationDataset(10000)\n",
    "val_data = DataLoader(val_dataset, batch_size=1000)"
   ]
  },
  {
   "cell_type": "code",
   "execution_count": 28,
   "metadata": {
    "executionInfo": {
     "elapsed": 40,
     "status": "ok",
     "timestamp": 1629385601696,
     "user": {
      "displayName": "김태근",
      "photoUrl": "https://lh3.googleusercontent.com/a-/AOh14GgsExTKJC9FjM9weqcg4dnEFWwMB2lUdaVJK0UOFXQ=s64",
      "userId": "11162072065237115888"
     },
     "user_tz": -540
    },
    "id": "_UhE95RBsX5X"
   },
   "outputs": [],
   "source": [
    "def train(dataloader, net1, net2, criterion, optimizer):\n",
    "    size = len(dataloader.dataset)\n",
    "    train_loss = []\n",
    "    net1.eval()\n",
    "    for batch, sample in enumerate(dataloader):\n",
    "        X, X_p, _ = sample\n",
    "        X, X_p = X.to(device), X_p.to(device)\n",
    "        with tch.no_grad():\n",
    "            _, out = net1(X, X_p)\n",
    "        a, b = X_p[:,0], X_p[:,1]\n",
    "        Y = tch.column_stack([tch.ones((len(a), 1)).float().to(device), a, b, a*b, a**2, b**2])\n",
    "        Z = net2(Y)\n",
    "        loss = criterion(Z, out)\n",
    "\n",
    "        optimizer.zero_grad()\n",
    "        loss.backward()\n",
    "        optimizer.step()\n",
    "\n",
    "        if batch % 50 == 0:\n",
    "            loss, curr = loss.item(), (batch + 50) * X.shape[0]\n",
    "            print(f\"loss: {loss:>7f}  [{curr:>5d}/{size:>5d}]\")\n",
    "            train_loss.append(loss)\n",
    "    return tch.mean(tch.tensor(train_loss).float().to(device))"
   ]
  },
  {
   "cell_type": "code",
   "execution_count": 29,
   "metadata": {
    "executionInfo": {
     "elapsed": 36,
     "status": "ok",
     "timestamp": 1629385601697,
     "user": {
      "displayName": "김태근",
      "photoUrl": "https://lh3.googleusercontent.com/a-/AOh14GgsExTKJC9FjM9weqcg4dnEFWwMB2lUdaVJK0UOFXQ=s64",
      "userId": "11162072065237115888"
     },
     "user_tz": -540
    },
    "id": "8rnwoh34wlJz"
   },
   "outputs": [],
   "source": [
    "def val_check(dataloader, net1, net2, criterion):\n",
    "    size = len(dataloader.dataset)\n",
    "    num_batches = len(dataloader)\n",
    "    net1.eval()\n",
    "    net2.eval()\n",
    "    test_loss, r2 = 0, 0\n",
    "    with tch.no_grad():\n",
    "        for X, X_p, y in dataloader:\n",
    "            X, X_p, y = X.to(device), X_p.to(device), y.to(device)\n",
    "            _, out = net1(X, X_p)\n",
    "            a, b = X_p[:,0], X_p[:,1]\n",
    "            Y = tch.column_stack([tch.ones((len(a), 1)).float().to(device), a, b, a*b, a**2, b**2])\n",
    "            Z = net2(Y)\n",
    "            test_loss += criterion(Z, out)\n",
    "            r2 += r2_score(out, Z)\n",
    "    test_loss /= num_batches\n",
    "    r2 /= num_batches\n",
    "    print(f\"Validation Error: \\n Score: {r2:>4f}, Avg loss: {test_loss:>8f}\")\n",
    "    # print(f\"Test Error: \\n Avg loss: {test_loss:>8f} \\n\")\n",
    "    return test_loss, r2"
   ]
  },
  {
   "cell_type": "code",
   "execution_count": 30,
   "metadata": {
    "colab": {
     "base_uri": "https://localhost:8080/"
    },
    "executionInfo": {
     "elapsed": 40917,
     "status": "ok",
     "timestamp": 1629385642580,
     "user": {
      "displayName": "김태근",
      "photoUrl": "https://lh3.googleusercontent.com/a-/AOh14GgsExTKJC9FjM9weqcg4dnEFWwMB2lUdaVJK0UOFXQ=s64",
      "userId": "11162072065237115888"
     },
     "user_tz": -540
    },
    "id": "0AY9UkE4wLU8",
    "outputId": "f28394fd-9e52-4afd-d658-d4e29a518348"
   },
   "outputs": [
    {
     "name": "stdout",
     "output_type": "stream",
     "text": [
      "\n",
      "Epoch 1\n",
      "-------------------------------\n",
      "loss: 7310.331543  [50000/200000]\n",
      "loss: 671.797607  [100000/200000]\n",
      "loss: 444.796509  [150000/200000]\n",
      "loss: 278.500458  [200000/200000]\n",
      "Validation Error: \n",
      " Score: 0.748264, Avg loss: 166.745026\n",
      " Learning Rate: 1.000000\n",
      "\n",
      "Epoch 2\n",
      "-------------------------------\n",
      "loss: 175.612000  [50000/200000]\n",
      "loss: 102.642357  [100000/200000]\n",
      "loss: 70.365822  [150000/200000]\n",
      "loss: 68.607529  [200000/200000]\n",
      "Validation Error: \n",
      " Score: 0.949279, Avg loss: 60.698341\n",
      " Learning Rate: 1.000000\n",
      "\n",
      "Epoch 3\n",
      "-------------------------------\n",
      "loss: 59.391590  [50000/200000]\n",
      "loss: 53.415001  [100000/200000]\n",
      "loss: 58.222393  [150000/200000]\n",
      "loss: 55.656448  [200000/200000]\n",
      "Validation Error: \n",
      " Score: 0.955007, Avg loss: 58.427177\n",
      " Learning Rate: 1.000000\n",
      "\n",
      "Epoch 4\n",
      "-------------------------------\n",
      "loss: 58.198696  [50000/200000]\n",
      "loss: 58.646221  [100000/200000]\n",
      "loss: 59.957634  [150000/200000]\n",
      "loss: 56.446407  [200000/200000]\n",
      "Validation Error: \n",
      " Score: 0.955200, Avg loss: 58.474754\n",
      " Learning Rate: 1.000000\n",
      "\n",
      "Epoch 5\n",
      "-------------------------------\n",
      "loss: 52.475815  [50000/200000]\n",
      "loss: 55.033607  [100000/200000]\n",
      "loss: 59.261696  [150000/200000]\n",
      "loss: 58.064018  [200000/200000]\n",
      "Validation Error: \n",
      " Score: 0.955122, Avg loss: 58.513214\n",
      " Learning Rate: 1.000000\n",
      "\n",
      "Epoch 6\n",
      "-------------------------------\n",
      "loss: 57.923843  [50000/200000]\n",
      "loss: 59.175022  [100000/200000]\n",
      "loss: 56.648674  [150000/200000]\n",
      "loss: 59.452663  [200000/200000]\n",
      "Validation Error: \n",
      " Score: 0.955259, Avg loss: 58.450523\n",
      " Learning Rate: 1.000000\n",
      "\n",
      "Epoch 7\n",
      "-------------------------------\n",
      "loss: 58.620213  [50000/200000]\n",
      "loss: 58.879040  [100000/200000]\n",
      "loss: 59.108513  [150000/200000]\n",
      "loss: 56.240887  [200000/200000]\n",
      "Validation Error: \n",
      " Score: 0.955212, Avg loss: 58.527679\n",
      " Learning Rate: 0.100000\n",
      "\n",
      "Epoch 8\n",
      "-------------------------------\n",
      "loss: 57.595192  [50000/200000]\n",
      "loss: 58.759808  [100000/200000]\n",
      "loss: 57.255993  [150000/200000]\n",
      "loss: 62.758141  [200000/200000]\n",
      "Validation Error: \n",
      " Score: 0.955242, Avg loss: 58.414265\n",
      " Learning Rate: 0.100000\n",
      "\n",
      "Epoch 9\n",
      "-------------------------------\n",
      "loss: 60.207722  [50000/200000]\n",
      "loss: 57.924568  [100000/200000]\n",
      "loss: 61.040257  [150000/200000]\n",
      "loss: 61.183601  [200000/200000]\n",
      "Validation Error: \n",
      " Score: 0.955256, Avg loss: 58.414558\n",
      " Learning Rate: 0.100000\n",
      "\n",
      "Epoch 10\n",
      "-------------------------------\n",
      "loss: 56.040382  [50000/200000]\n",
      "loss: 56.870163  [100000/200000]\n",
      "loss: 58.050056  [150000/200000]\n",
      "loss: 54.729328  [200000/200000]\n",
      "Validation Error: \n",
      " Score: 0.955257, Avg loss: 58.421581\n",
      " Learning Rate: 0.100000\n",
      "\n",
      "Epoch 11\n",
      "-------------------------------\n",
      "loss: 57.649632  [50000/200000]\n",
      "loss: 55.862808  [100000/200000]\n",
      "loss: 57.161724  [150000/200000]\n",
      "loss: 55.181389  [200000/200000]\n",
      "Validation Error: \n",
      " Score: 0.955263, Avg loss: 58.431263\n",
      " Learning Rate: 0.100000\n",
      "\n",
      "Epoch 12\n",
      "-------------------------------\n",
      "loss: 61.111687  [50000/200000]\n",
      "loss: 57.983749  [100000/200000]\n",
      "loss: 58.678593  [150000/200000]\n",
      "loss: 60.988396  [200000/200000]\n",
      "Validation Error: \n",
      " Score: 0.955257, Avg loss: 58.415916\n",
      " Learning Rate: 0.010000\n",
      "\n",
      "Epoch 13\n",
      "-------------------------------\n",
      "loss: 59.267590  [50000/200000]\n",
      "loss: 54.689545  [100000/200000]\n",
      "loss: 59.851460  [150000/200000]\n",
      "loss: 54.571465  [200000/200000]\n",
      "Validation Error: \n",
      " Score: 0.955261, Avg loss: 58.410198\n",
      " Learning Rate: 0.010000\n",
      "\n",
      "Epoch 14\n",
      "-------------------------------\n",
      "loss: 58.859905  [50000/200000]\n",
      "loss: 59.270802  [100000/200000]\n",
      "loss: 56.377224  [150000/200000]\n",
      "loss: 57.921448  [200000/200000]\n",
      "Validation Error: \n",
      " Score: 0.955259, Avg loss: 58.412010\n",
      " Learning Rate: 0.010000\n",
      "\n",
      "Epoch 15\n",
      "-------------------------------\n",
      "loss: 55.389408  [50000/200000]\n",
      "loss: 60.941452  [100000/200000]\n",
      "loss: 55.712688  [150000/200000]\n",
      "loss: 58.351910  [200000/200000]\n",
      "Validation Error: \n",
      " Score: 0.955262, Avg loss: 58.416710\n",
      " Learning Rate: 0.010000\n",
      "\n",
      "Epoch 16\n",
      "-------------------------------\n",
      "loss: 59.627865  [50000/200000]\n",
      "loss: 60.428459  [100000/200000]\n",
      "loss: 55.245960  [150000/200000]\n",
      "loss: 56.857941  [200000/200000]\n",
      "Validation Error: \n",
      " Score: 0.955260, Avg loss: 58.416374\n",
      " Learning Rate: 0.001000\n",
      "\n",
      "Epoch 17\n",
      "-------------------------------\n",
      "loss: 60.132095  [50000/200000]\n",
      "loss: 59.230537  [100000/200000]\n",
      "loss: 54.388081  [150000/200000]\n",
      "loss: 58.443298  [200000/200000]\n",
      "Validation Error: \n",
      " Score: 0.955260, Avg loss: 58.415535\n",
      " Learning Rate: 0.001000\n",
      "\n",
      "Epoch 18\n",
      "-------------------------------\n",
      "loss: 56.848061  [50000/200000]\n",
      "loss: 56.453896  [100000/200000]\n",
      "loss: 61.395718  [150000/200000]\n",
      "loss: 58.568363  [200000/200000]\n",
      "Validation Error: \n",
      " Score: 0.955260, Avg loss: 58.415283\n",
      " Learning Rate: 0.001000\n",
      "\n",
      "Epoch 19\n",
      "-------------------------------\n",
      "loss: 57.681141  [50000/200000]\n",
      "loss: 55.100338  [100000/200000]\n",
      "loss: 57.816692  [150000/200000]\n",
      "loss: 56.919796  [200000/200000]\n",
      "Validation Error: \n",
      " Score: 0.955259, Avg loss: 58.414551\n",
      " Learning Rate: 0.001000\n",
      "\n",
      "Epoch 20\n",
      "-------------------------------\n",
      "loss: 54.805531  [50000/200000]\n",
      "loss: 59.169849  [100000/200000]\n",
      "loss: 57.778572  [150000/200000]\n",
      "loss: 60.672230  [200000/200000]\n",
      "Validation Error: \n",
      " Score: 0.955259, Avg loss: 58.414257\n",
      " Learning Rate: 0.000100\n",
      "\n",
      "Epoch 21\n",
      "-------------------------------\n",
      "loss: 56.044125  [50000/200000]\n",
      "loss: 55.300678  [100000/200000]\n",
      "loss: 59.706818  [150000/200000]\n",
      "loss: 58.873501  [200000/200000]\n",
      "Validation Error: \n",
      " Score: 0.955259, Avg loss: 58.414192\n",
      " Learning Rate: 0.000100\n",
      "\n",
      "Epoch 22\n",
      "-------------------------------\n",
      "loss: 57.257889  [50000/200000]\n",
      "loss: 59.554703  [100000/200000]\n",
      "loss: 60.741531  [150000/200000]\n",
      "loss: 57.009205  [200000/200000]\n",
      "Validation Error: \n",
      " Score: 0.955259, Avg loss: 58.414143\n",
      " Learning Rate: 0.000100\n",
      "\n",
      "Epoch 23\n",
      "-------------------------------\n",
      "loss: 56.639599  [50000/200000]\n",
      "loss: 61.147392  [100000/200000]\n",
      "loss: 58.759979  [150000/200000]\n",
      "loss: 56.450260  [200000/200000]\n",
      "Validation Error: \n",
      " Score: 0.955259, Avg loss: 58.414131\n",
      " Learning Rate: 0.000100\n",
      "\n",
      "Epoch 24\n",
      "-------------------------------\n",
      "loss: 57.999775  [50000/200000]\n",
      "loss: 61.318592  [100000/200000]\n",
      "loss: 54.482285  [150000/200000]\n",
      "loss: 58.258438  [200000/200000]\n",
      "Validation Error: \n",
      " Score: 0.955259, Avg loss: 58.414162\n",
      " Learning Rate: 0.000010\n",
      "\n",
      "Epoch 25\n",
      "-------------------------------\n",
      "loss: 55.662449  [50000/200000]\n",
      "loss: 60.402157  [100000/200000]\n",
      "loss: 55.578773  [150000/200000]\n",
      "loss: 58.467335  [200000/200000]\n",
      "Validation Error: \n",
      " Score: 0.955259, Avg loss: 58.414165\n",
      " Learning Rate: 0.000010\n",
      "\n",
      "Epoch 26\n",
      "-------------------------------\n",
      "loss: 58.949711  [50000/200000]\n",
      "loss: 57.511047  [100000/200000]\n",
      "loss: 56.777157  [150000/200000]\n",
      "loss: 52.915806  [200000/200000]\n",
      "Validation Error: \n",
      " Score: 0.955259, Avg loss: 58.414165\n",
      " Learning Rate: 0.000010\n",
      "\n",
      "Epoch 27\n",
      "-------------------------------\n",
      "loss: 57.603844  [50000/200000]\n",
      "loss: 56.065720  [100000/200000]\n",
      "loss: 59.663700  [150000/200000]\n",
      "loss: 57.419121  [200000/200000]\n",
      "Validation Error: \n",
      " Score: 0.955259, Avg loss: 58.414165\n",
      " Learning Rate: 0.000010\n",
      "\n",
      "Epoch 28\n",
      "-------------------------------\n",
      "loss: 58.122555  [50000/200000]\n",
      "loss: 58.734200  [100000/200000]\n",
      "loss: 54.014606  [150000/200000]\n",
      "loss: 61.390064  [200000/200000]\n",
      "Validation Error: \n",
      " Score: 0.955259, Avg loss: 58.414165\n",
      " Learning Rate: 0.000001\n",
      "\n",
      "Epoch 29\n",
      "-------------------------------\n",
      "loss: 64.576462  [50000/200000]\n",
      "loss: 59.704201  [100000/200000]\n",
      "loss: 58.971054  [150000/200000]\n",
      "loss: 55.223434  [200000/200000]\n",
      "Validation Error: \n",
      " Score: 0.955259, Avg loss: 58.414165\n",
      " Learning Rate: 0.000001\n",
      "\n",
      "Epoch 30\n",
      "-------------------------------\n",
      "loss: 58.651237  [50000/200000]\n",
      "loss: 62.490498  [100000/200000]\n",
      "loss: 57.907574  [150000/200000]\n",
      "loss: 56.284420  [200000/200000]\n",
      "Validation Error: \n",
      " Score: 0.955259, Avg loss: 58.414165\n",
      " Learning Rate: 0.000001\n",
      "\n",
      "Epoch 31\n",
      "-------------------------------\n",
      "loss: 59.084557  [50000/200000]\n",
      "loss: 58.270947  [100000/200000]\n",
      "loss: 63.031044  [150000/200000]\n",
      "loss: 57.628792  [200000/200000]\n",
      "Validation Error: \n",
      " Score: 0.955259, Avg loss: 58.414165\n",
      " Learning Rate: 0.000001\n",
      "\n",
      "Epoch 32\n",
      "-------------------------------\n",
      "loss: 57.954094  [50000/200000]\n",
      "loss: 58.353142  [100000/200000]\n",
      "loss: 57.474236  [150000/200000]\n",
      "loss: 58.543346  [200000/200000]\n",
      "Validation Error: \n",
      " Score: 0.955259, Avg loss: 58.414165\n",
      " Learning Rate: 0.000000\n",
      "Done!\n"
     ]
    }
   ],
   "source": [
    "epochs = 100\n",
    "train_loss= []\n",
    "val_loss = []\n",
    "old_val = 1e+10\n",
    "for t in range(epochs):\n",
    "    print(f\"\\nEpoch {t+1}\\n-------------------------------\")\n",
    "    train_loss.append(train(train_data, net, net2, criterion, optimizer))\n",
    "    val, correct = val_check(val_data, net, net2, criterion)\n",
    "    val_loss.append(val)\n",
    "    scheduler.step(val)\n",
    "    for param_group in optimizer.param_groups:\n",
    "        lr = param_group['lr']\n",
    "        print(f\" Learning Rate: {lr:>8f}\")\n",
    "    if lr < 1e-6:\n",
    "        break\n",
    "    old_val = val\n",
    "print(\"Done!\")"
   ]
  },
  {
   "cell_type": "code",
   "execution_count": 31,
   "metadata": {
    "colab": {
     "base_uri": "https://localhost:8080/"
    },
    "executionInfo": {
     "elapsed": 41,
     "status": "ok",
     "timestamp": 1629385642581,
     "user": {
      "displayName": "김태근",
      "photoUrl": "https://lh3.googleusercontent.com/a-/AOh14GgsExTKJC9FjM9weqcg4dnEFWwMB2lUdaVJK0UOFXQ=s64",
      "userId": "11162072065237115888"
     },
     "user_tz": -540
    },
    "id": "8fkFeF5Mzdyh",
    "outputId": "9db76f16-19dd-4fab-f460-0f0593755ea8"
   },
   "outputs": [
    {
     "name": "stdout",
     "output_type": "stream",
     "text": [
      "tensor([[ 1.6315e+01, -4.9054e-02,  2.5672e-02,  3.8535e-02,  1.2341e+02,\n",
      "          1.2344e+02]])\n"
     ]
    }
   ],
   "source": [
    "for param in net2.parameters():\n",
    "  print(param.data)\n",
    "  break"
   ]
  },
  {
   "cell_type": "code",
   "execution_count": 33,
   "metadata": {},
   "outputs": [
    {
     "data": {
      "text/plain": [
       "[<matplotlib.lines.Line2D at 0x7f62a17517c0>]"
      ]
     },
     "execution_count": 33,
     "metadata": {},
     "output_type": "execute_result"
    },
    {
     "data": {
      "image/png": "[encoded data removed]",
      "text/plain": [
       "<Figure size 432x288 with 1 Axes>"
      ]
     },
     "metadata": {
      "needs_background": "light"
     },
     "output_type": "display_data"
    }
   ],
   "source": [
    "plt.plot(train_loss)"
   ]
  },
  {
   "cell_type": "code",
   "execution_count": 34,
   "metadata": {},
   "outputs": [
    {
     "data": {
      "text/plain": [
       "[<matplotlib.lines.Line2D at 0x7f629f1c8640>]"
      ]
     },
     "execution_count": 34,
     "metadata": {},
     "output_type": "execute_result"
    },
    {
     "data": {
      "image/png": "[encoded data removed]",
      "text/plain": [
       "<Figure size 432x288 with 1 Axes>"
      ]
     },
     "metadata": {
      "needs_background": "light"
     },
     "output_type": "display_data"
    }
   ],
   "source": [
    "plt.plot(val_loss)"
   ]
  },
  {
   "cell_type": "code",
   "execution_count": null,
   "metadata": {},
   "outputs": [],
   "source": []
  }
 ],
 "metadata": {
  "accelerator": "GPU",
  "colab": {
   "authorship_tag": "ABX9TyMROtR7ItK92AjDugG4zN6g",
   "collapsed_sections": [],
   "mount_file_id": "1ZyCTLY-j_jtQTq_LjwnoVM-JjTLTzYfS",
   "name": "rotation_load.ipynb",
   "provenance": []
  },
  "kernelspec": {
   "display_name": "Python 3 (ipykernel)",
   "language": "python",
   "name": "python3"
  },
  "language_info": {
   "codemirror_mode": {
    "name": "ipython",
    "version": 3
   },
   "file_extension": ".py",
   "mimetype": "text/x-python",
   "name": "python",
   "nbconvert_exporter": "python",
   "pygments_lexer": "ipython3",
   "version": "3.9.6"
  }
 },
 "nbformat": 4,
 "nbformat_minor": 1
}
