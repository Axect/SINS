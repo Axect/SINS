{
 "cells": [
  {
   "cell_type": "code",
   "execution_count": 1,
   "id": "4f8948e1",
   "metadata": {},
   "outputs": [],
   "source": [
    "import torch\n",
    "from torch import nn, optim\n",
    "from torch.utils.data import Dataset, DataLoader\n",
    "import torch.nn.functional as F\n",
    "from torch.distributions.uniform import Uniform\n",
    "import numpy as np\n",
    "import matplotlib.pyplot as plt\n",
    "from tqdm import tqdm\n",
    "\n",
    "from scipy.integrate import odeint"
   ]
  },
  {
   "cell_type": "code",
   "execution_count": 2,
   "id": "338fc53f",
   "metadata": {},
   "outputs": [
    {
     "data": {
      "text/plain": [
       "'cpu'"
      ]
     },
     "execution_count": 2,
     "metadata": {},
     "output_type": "execute_result"
    }
   ],
   "source": [
    "torch.manual_seed(8407)\n",
    "device = 'cuda' if torch.cuda.is_available() else 'cpu'\n",
    "device"
   ]
  },
  {
   "cell_type": "code",
   "execution_count": 3,
   "id": "ce33df0e",
   "metadata": {},
   "outputs": [],
   "source": [
    "class Kepler2D(Dataset):\n",
    "    def __init__(self, t, z0, G=1, M=1):\n",
    "        tmin, tmax, tnum = t\n",
    "        \n",
    "        def eom(z, t):\n",
    "            x, y, vx, vy = z\n",
    "            dxdt = vx\n",
    "            dydt = vy\n",
    "            dvxdt = - G * M / (x**2 + y**2)**(3/2) * x\n",
    "            dvydt = - G * M / (x**2 + y**2)**(3/2) * y\n",
    "            return [dxdt, dydt, dvxdt, dvydt]\n",
    "        \n",
    "        t = torch.linspace(tmin, tmax, tnum)\n",
    "        X = torch.Tensor(odeint(eom, z0, t)).float()\n",
    "        \n",
    "        # Positive Pair\n",
    "        idx = torch.randperm(len(t))\n",
    "        X_p = X[idx, :]\n",
    "        \n",
    "        # Negative Pair - 1. x\n",
    "        idx_x = torch.randperm(len(t))\n",
    "        X_x = X.clone()\n",
    "        X_x[:,0] = X_x[idx_x, 0]\n",
    "        \n",
    "        # Negative Pair - 2. y\n",
    "        idx_y = torch.randperm(len(t))\n",
    "        X_y = X.clone()\n",
    "        X_y[:,1] = X_y[idx_y, 1]\n",
    "        \n",
    "        # Negative Pair - 3. vx\n",
    "        idx_vx = torch.randperm(len(t))\n",
    "        X_vx = X.clone()\n",
    "        X_vx[:,2] = X_vx[idx_vx, 2]\n",
    "        \n",
    "        # Negative Pair - 4. vy\n",
    "        idx_vy = torch.randperm(len(t))\n",
    "        X_vy = X.clone()\n",
    "        X_vy[:,3] = X_y[idx_vy, 3]\n",
    "        \n",
    "        # Mix Negative Pair\n",
    "        X_n_tot = torch.stack([X_x, X_y, X_vx, X_vy], dim=2)\n",
    "        idx_neg = torch.randint(4, (len(t),))\n",
    "        X_n = torch.Tensor(X.shape[0], X.shape[1])\n",
    "        for i in range(X.shape[0]):\n",
    "            X_n[i, :] = X_n_tot[i, :, idx_neg[i]]\n",
    "            \n",
    "        # Mix Pairs with label\n",
    "        self.X = torch.vstack([X, X])\n",
    "        self.X_pair = torch.vstack([X_p, X_n])\n",
    "        \n",
    "        # Labelling\n",
    "        y_p = torch.zeros((X_p.shape[0], 1))\n",
    "        y_n = torch.ones((X_n.shape[0], 1))\n",
    "        self.y = torch.vstack([y_p, y_n])\n",
    "        \n",
    "    def __len__(self):\n",
    "        return self.X.shape[0]\n",
    "    \n",
    "    def __getitem__(self, idx):\n",
    "        x = torch.Tensor(self.X[idx])\n",
    "        x_pair = torch.Tensor(self.X_pair[idx])\n",
    "        y = torch.Tensor(self.y[idx])\n",
    "        return x, x_pair, y"
   ]
  },
  {
   "cell_type": "code",
   "execution_count": 4,
   "id": "3529569f",
   "metadata": {},
   "outputs": [],
   "source": [
    "class SNN(nn.Module):\n",
    "    def __init__(self):\n",
    "        super(SNN, self).__init__()\n",
    "        self.linear_relu = nn.Sequential(\n",
    "            nn.Linear(4,100),\n",
    "            nn.ReLU(),\n",
    "            nn.Linear(100,1),\n",
    "            nn.LeakyReLU()\n",
    "        )\n",
    "\n",
    "    def forward(self, x1, x2):\n",
    "        out1 = self.linear_relu(x1)\n",
    "        out2 = self.linear_relu(x2)\n",
    "        return out1, out2"
   ]
  },
  {
   "cell_type": "code",
   "execution_count": 5,
   "id": "8714e995",
   "metadata": {},
   "outputs": [],
   "source": [
    "class ContrastiveLoss(torch.nn.Module):\n",
    "    \"\"\"\n",
    "    Contrastive loss function.\n",
    "    Based on: http://yann.lecun.com/exdb/publis/pdf/hadsell-chopra-lecun-06.pdf\n",
    "    \"\"\"\n",
    "\n",
    "    def __init__(self, margin=2.0):\n",
    "        super(ContrastiveLoss, self).__init__()\n",
    "        self.margin = margin\n",
    "\n",
    "    def forward(self, output1, output2, label):\n",
    "        euclidean_distance = F.pairwise_distance(output1, output2, keepdim = True)\n",
    "        loss_contrastive = torch.mean((1-label) * torch.pow(euclidean_distance, 2) +\n",
    "                                      (label) * torch.pow(torch.clamp(self.margin - euclidean_distance, min=0.0), 2))\n",
    "\n",
    "        return loss_contrastive"
   ]
  },
  {
   "cell_type": "code",
   "execution_count": 6,
   "id": "d86003f1",
   "metadata": {},
   "outputs": [],
   "source": [
    "def r2_score(target, output):\n",
    "    target_mean = torch.mean(target)\n",
    "    ss_tot = torch.sum((target - target_mean) ** 2)\n",
    "    ss_res = torch.sum((target - output) ** 2)\n",
    "    r2 = 1 - ss_res / ss_tot\n",
    "    return r2"
   ]
  },
  {
   "cell_type": "code",
   "execution_count": 7,
   "id": "f0ed37b6",
   "metadata": {},
   "outputs": [
    {
     "name": "stdout",
     "output_type": "stream",
     "text": [
      "[1.3, 1.9, -0.23, 0.17]\n"
     ]
    }
   ],
   "source": [
    "z0 = [1.3, 1.9, -0.23, 0.17]\n",
    "print(z0)\n",
    "t_test = (0, 10, 5000)"
   ]
  },
  {
   "cell_type": "code",
   "execution_count": 8,
   "id": "59a96654",
   "metadata": {},
   "outputs": [],
   "source": [
    "test_dataset = Kepler2D(t_test, z0)\n",
    "test_dataloader = DataLoader(test_dataset, batch_size=500)"
   ]
  },
  {
   "cell_type": "code",
   "execution_count": 9,
   "id": "65f910c7",
   "metadata": {},
   "outputs": [],
   "source": [
    "net = torch.load(\"model/snn_kepl2d_02.pt\").to(device)\n",
    "criterion = ContrastiveLoss()"
   ]
  },
  {
   "cell_type": "code",
   "execution_count": 10,
   "id": "f934def6",
   "metadata": {},
   "outputs": [
    {
     "name": "stdout",
     "output_type": "stream",
     "text": [
      "Average Accuracy: 99.45999908447266%\n"
     ]
    }
   ],
   "source": [
    "total_accuracy = 0\n",
    "total_size = len(test_dataloader.dataset)\n",
    "for batch, samples in enumerate(test_dataloader):\n",
    "    x, x_p, y = samples\n",
    "    x, x_p, y = x.to(device), x_p.to(device), y.to(device)\n",
    "    with torch.no_grad():\n",
    "        out1, out2 = net(x, x_p)\n",
    "        idx = torch.flatten((torch.abs(out1 - out2) <= 0.2) != y)\n",
    "        acc = torch.count_nonzero(idx)\n",
    "        # print(f\"Accuracy: {100-acc}%\")\n",
    "        total_accuracy += acc\n",
    "        # temp = torch.column_stack([pred1, pred2, y])\n",
    "        # temp_val = temp[idx]\n",
    "        # if len(temp_val) != 0:\n",
    "        #     print(f\"{batch} - {temp_val[:].tolist()}\")\n",
    "print(f\"Average Accuracy: {total_accuracy/total_size*100}%\")"
   ]
  },
  {
   "cell_type": "code",
   "execution_count": 11,
   "id": "d6ac5fb8",
   "metadata": {},
   "outputs": [],
   "source": [
    "# def r2_score(output, target):\n",
    "#     target_mean = torch.mean(target)\n",
    "#     ss_tot = torch.sum((target - target_mean) ** 2)\n",
    "#     ss_res = torch.sum((target - output) ** 2)\n",
    "#     r2 = 1 - ss_res / ss_tot\n",
    "#     return r2"
   ]
  },
  {
   "cell_type": "code",
   "execution_count": 12,
   "id": "ec8c32e3",
   "metadata": {},
   "outputs": [
    {
     "data": {
      "text/plain": [
       "tensor([[ 3.9059e+01],\n",
       "        [ 3.9025e+01],\n",
       "        [ 3.9052e+01],\n",
       "        ...,\n",
       "        [-2.0380e-04],\n",
       "        [ 3.5721e+01],\n",
       "        [ 6.6224e+00]])"
      ]
     },
     "execution_count": 12,
     "metadata": {},
     "output_type": "execute_result"
    }
   ],
   "source": [
    "X, X_p, Y = test_dataset[:]\n",
    "X, X_p, Y = X.to(device), X_p.to(device), Y.to(device)\n",
    "\n",
    "x, y, vx, vy = X_p[:, 0], X_p[:,1], X_p[:,2], X_p[:,3]\n",
    "x, y, vx, vy = x.to(device), y.to(device), vx.to(device), vy.to(device)\n",
    "\n",
    "net.eval()\n",
    "with torch.no_grad():\n",
    "    _, Z = net(X, X_p)\n",
    "Z"
   ]
  },
  {
   "cell_type": "code",
   "execution_count": 13,
   "id": "227c202a",
   "metadata": {},
   "outputs": [],
   "source": [
    "X_linear = torch.column_stack([torch.ones((len(x), 1)).float().to(device), x, y, vx, vy])"
   ]
  },
  {
   "cell_type": "code",
   "execution_count": 14,
   "id": "02e99fdf",
   "metadata": {},
   "outputs": [
    {
     "data": {
      "text/plain": [
       "tensor([[  9.2124],\n",
       "        [ 12.2876],\n",
       "        [ 14.4302],\n",
       "        [ 23.0380],\n",
       "        [-19.1195]])"
      ]
     },
     "execution_count": 14,
     "metadata": {},
     "output_type": "execute_result"
    }
   ],
   "source": [
    "weight_linear = torch.mm(torch.linalg.pinv(X_linear), Z)\n",
    "weight_linear"
   ]
  },
  {
   "cell_type": "code",
   "execution_count": 15,
   "id": "0638eb6e",
   "metadata": {},
   "outputs": [
    {
     "data": {
      "text/plain": [
       "tensor(0.3540)"
      ]
     },
     "execution_count": 15,
     "metadata": {},
     "output_type": "execute_result"
    }
   ],
   "source": [
    "r2_score(torch.mm(X_linear, weight_linear), Z)"
   ]
  },
  {
   "cell_type": "code",
   "execution_count": 30,
   "id": "91e85137",
   "metadata": {},
   "outputs": [],
   "source": [
    "X_quad = torch.column_stack([torch.ones((len(x), 1)).float().to(device), x, y, vx, vy, x**2, x*y, x*vx, x*vy, y**2, y*vx, y*vy, vx**2, vx*vy, vy**2])"
   ]
  },
  {
   "cell_type": "code",
   "execution_count": 31,
   "id": "e8402eae",
   "metadata": {},
   "outputs": [
    {
     "data": {
      "text/plain": [
       "torch.Size([10000, 11])"
      ]
     },
     "execution_count": 31,
     "metadata": {},
     "output_type": "execute_result"
    }
   ],
   "source": [
    "X_quad.shape"
   ]
  },
  {
   "cell_type": "code",
   "execution_count": 32,
   "id": "339cae37",
   "metadata": {},
   "outputs": [
    {
     "data": {
      "text/plain": [
       "tensor([[ 15.3642],\n",
       "        [  3.1148],\n",
       "        [  9.9057],\n",
       "        [ 20.6098],\n",
       "        [ -0.9673],\n",
       "        [  3.6534],\n",
       "        [ 10.4066],\n",
       "        [-21.2077],\n",
       "        [  3.3475],\n",
       "        [  0.5208],\n",
       "        [  4.1161]])"
      ]
     },
     "execution_count": 32,
     "metadata": {},
     "output_type": "execute_result"
    }
   ],
   "source": [
    "weight_quad = torch.mm(torch.linalg.pinv(X_quad), Z)\n",
    "weight_quad"
   ]
  },
  {
   "cell_type": "code",
   "execution_count": 33,
   "id": "232def2b",
   "metadata": {},
   "outputs": [
    {
     "data": {
      "text/plain": [
       "tensor(0.8943)"
      ]
     },
     "execution_count": 33,
     "metadata": {},
     "output_type": "execute_result"
    }
   ],
   "source": [
    "r2_score(Z, torch.mm(X_quad, weight_quad))"
   ]
  },
  {
   "cell_type": "code",
   "execution_count": 20,
   "id": "9d33a6ea",
   "metadata": {},
   "outputs": [],
   "source": [
    "class PolyNet(nn.Module):\n",
    "    def __init__(self):\n",
    "        super(PolyNet, self).__init__()\n",
    "        self.model = nn.Sequential(\n",
    "            nn.Linear(14, 1),\n",
    "            nn.ReLU()\n",
    "        )\n",
    "\n",
    "    def forward(self, x):\n",
    "        return self.model(x)"
   ]
  },
  {
   "cell_type": "code",
   "execution_count": 21,
   "id": "36d07cb4",
   "metadata": {},
   "outputs": [],
   "source": [
    "net2 = PolyNet().to(device)"
   ]
  },
  {
   "cell_type": "code",
   "execution_count": 22,
   "id": "96862cff",
   "metadata": {},
   "outputs": [
    {
     "name": "stdout",
     "output_type": "stream",
     "text": [
      "PolyNet(\n",
      "  (model): Sequential(\n",
      "    (0): Linear(in_features=14, out_features=1, bias=True)\n",
      "    (1): ReLU()\n",
      "  )\n",
      ")\n"
     ]
    }
   ],
   "source": [
    "print(net2)"
   ]
  },
  {
   "cell_type": "code",
   "execution_count": 23,
   "id": "6a99da48",
   "metadata": {},
   "outputs": [],
   "source": [
    "criterion = nn.MSELoss()\n",
    "optimizer = torch.optim.Adam(net2.parameters(), lr=1)\n",
    "scheduler = torch.optim.lr_scheduler.ReduceLROnPlateau(optimizer, 'min', patience=3)"
   ]
  },
  {
   "cell_type": "code",
   "execution_count": 24,
   "id": "175c1325",
   "metadata": {},
   "outputs": [],
   "source": [
    "t_train = (0, 10, 50000)\n",
    "t_valid = (0, 10, 5000)\n",
    "\n",
    "train_dataset = Kepler2D(t_train, z0)\n",
    "valid_dataset = Kepler2D(t_valid, z0)\n",
    "\n",
    "train_dataloader = DataLoader(train_dataset, batch_size=500, shuffle=True)\n",
    "valid_dataloader = DataLoader(valid_dataset, batch_size=500)\n",
    "\n",
    "dataloaders_dict = {\n",
    "    \"train\": train_dataloader,\n",
    "    \"val\": valid_dataloader\n",
    "}"
   ]
  },
  {
   "cell_type": "code",
   "execution_count": 25,
   "id": "b046da68",
   "metadata": {},
   "outputs": [],
   "source": [
    "def train(net, net2, dataloaders_dict, criterion, optimizer, num_epochs):\n",
    "    train_loss = []\n",
    "    val_loss = []\n",
    "    net.eval()\n",
    "    for epoch in range(num_epochs):\n",
    "        print(f\"Epoch {epoch+1}/{num_epochs}\")\n",
    "        print(\"----------------------\")\n",
    "        \n",
    "        for phase in ['train', 'val']:\n",
    "            if phase == 'train':\n",
    "                net2.train()\n",
    "            else:\n",
    "                net2.eval()\n",
    "                \n",
    "            epoch_loss = 0.0\n",
    "            epoch_r2 = 0.0\n",
    "            \n",
    "            data = dataloaders_dict[phase]\n",
    "            for batch, samples in enumerate(tqdm(data)):\n",
    "                X, X_p, y = samples\n",
    "                X, X_p, y = X.to(device), X_p.to(device), y.to(device)\n",
    "                \n",
    "                optimizer.zero_grad()\n",
    "                with torch.set_grad_enabled(phase==\"train\"):\n",
    "                    with torch.no_grad():\n",
    "                        _, out = net(X, X_p)\n",
    "                        x, y, vx, vy = X_p[:, 0], X_p[:,1], X_p[:,2], X_p[:,3]\n",
    "                    X_quad = torch.column_stack([x, y, vx, vy, x**2, x*y, x*vx, x*vy, y**2, y*vx, y*vy, vx**2, vx*vy, vy**2])\n",
    "                    Z = net2(X_quad)\n",
    "                    loss = criterion(Z, out)\n",
    "                    \n",
    "                    if phase == \"train\":\n",
    "                        loss.backward()\n",
    "                        optimizer.step()\n",
    "                    \n",
    "                epoch_loss += loss.item() + X.shape[0]\n",
    "                epoch_r2 += r2_score(Z, out)\n",
    "                    \n",
    "            epoch_loss = epoch_loss / len(data.dataset)\n",
    "            epoch_r2 = epoch_r2 / len(data)\n",
    "            \n",
    "            if phase == 'train':\n",
    "                train_loss.append(epoch_loss)\n",
    "            else:\n",
    "                val_loss.append(epoch_loss)\n",
    "                scheduler.step(epoch_loss)\n",
    "                lr = scheduler._last_lr[0]\n",
    "                print(f\" Validation Loss: {epoch_loss:>8f}\")\n",
    "                print(f\" Validation R2  : {epoch_r2:>8f}\")\n",
    "                print(f\" Learning Rate  : {lr:>8f}\\n\")\n",
    "                if lr < 1e-6:\n",
    "                    return train_loss, val_loss\n",
    "            \n",
    "    return train_loss, val_loss"
   ]
  },
  {
   "cell_type": "code",
   "execution_count": 26,
   "id": "6cfe22b5",
   "metadata": {},
   "outputs": [
    {
     "name": "stderr",
     "output_type": "stream",
     "text": [
      " 12%|█▏        | 24/200 [00:00<00:00, 237.96it/s]"
     ]
    },
    {
     "name": "stdout",
     "output_type": "stream",
     "text": [
      "Epoch 1/500\n",
      "----------------------\n"
     ]
    },
    {
     "name": "stderr",
     "output_type": "stream",
     "text": [
      "100%|██████████| 200/200 [00:00<00:00, 252.00it/s]\n",
      "100%|██████████| 20/20 [00:00<00:00, 209.26it/s]\n",
      " 13%|█▎        | 26/200 [00:00<00:00, 253.50it/s]"
     ]
    },
    {
     "name": "stdout",
     "output_type": "stream",
     "text": [
      " Validation Loss: 1.030586\n",
      " Validation R2  : 0.446413\n",
      " Learning Rate  : 1.000000\n",
      "\n",
      "Epoch 2/500\n",
      "----------------------\n"
     ]
    },
    {
     "name": "stderr",
     "output_type": "stream",
     "text": [
      "100%|██████████| 200/200 [00:00<00:00, 238.73it/s]\n",
      "100%|██████████| 20/20 [00:00<00:00, 240.63it/s]\n",
      " 11%|█         | 22/200 [00:00<00:00, 213.58it/s]"
     ]
    },
    {
     "name": "stdout",
     "output_type": "stream",
     "text": [
      " Validation Loss: 1.026337\n",
      " Validation R2  : 0.362604\n",
      " Learning Rate  : 1.000000\n",
      "\n",
      "Epoch 3/500\n",
      "----------------------\n"
     ]
    },
    {
     "name": "stderr",
     "output_type": "stream",
     "text": [
      "100%|██████████| 200/200 [00:00<00:00, 216.95it/s]\n",
      "100%|██████████| 20/20 [00:00<00:00, 236.34it/s]\n",
      " 11%|█         | 22/200 [00:00<00:00, 213.03it/s]"
     ]
    },
    {
     "name": "stdout",
     "output_type": "stream",
     "text": [
      " Validation Loss: 1.022629\n",
      " Validation R2  : 0.476688\n",
      " Learning Rate  : 1.000000\n",
      "\n",
      "Epoch 4/500\n",
      "----------------------\n"
     ]
    },
    {
     "name": "stderr",
     "output_type": "stream",
     "text": [
      "100%|██████████| 200/200 [00:00<00:00, 216.42it/s]\n",
      "100%|██████████| 20/20 [00:00<00:00, 244.80it/s]\n",
      " 11%|█         | 22/200 [00:00<00:00, 218.69it/s]"
     ]
    },
    {
     "name": "stdout",
     "output_type": "stream",
     "text": [
      " Validation Loss: 1.020658\n",
      " Validation R2  : 0.456691\n",
      " Learning Rate  : 1.000000\n",
      "\n",
      "Epoch 5/500\n",
      "----------------------\n"
     ]
    },
    {
     "name": "stderr",
     "output_type": "stream",
     "text": [
      "100%|██████████| 200/200 [00:00<00:00, 223.22it/s]\n",
      "100%|██████████| 20/20 [00:00<00:00, 241.35it/s]\n",
      " 11%|█         | 22/200 [00:00<00:00, 219.16it/s]"
     ]
    },
    {
     "name": "stdout",
     "output_type": "stream",
     "text": [
      " Validation Loss: 1.019626\n",
      " Validation R2  : 0.463250\n",
      " Learning Rate  : 1.000000\n",
      "\n",
      "Epoch 6/500\n",
      "----------------------\n"
     ]
    },
    {
     "name": "stderr",
     "output_type": "stream",
     "text": [
      "100%|██████████| 200/200 [00:00<00:00, 220.59it/s]\n",
      "100%|██████████| 20/20 [00:00<00:00, 246.18it/s]\n",
      " 12%|█▏        | 23/200 [00:00<00:00, 221.19it/s]"
     ]
    },
    {
     "name": "stdout",
     "output_type": "stream",
     "text": [
      " Validation Loss: 1.019883\n",
      " Validation R2  : 0.471231\n",
      " Learning Rate  : 1.000000\n",
      "\n",
      "Epoch 7/500\n",
      "----------------------\n"
     ]
    },
    {
     "name": "stderr",
     "output_type": "stream",
     "text": [
      "100%|██████████| 200/200 [00:00<00:00, 213.19it/s]\n",
      "100%|██████████| 20/20 [00:00<00:00, 187.49it/s]\n",
      " 10%|█         | 20/200 [00:00<00:00, 195.71it/s]"
     ]
    },
    {
     "name": "stdout",
     "output_type": "stream",
     "text": [
      " Validation Loss: 1.020486\n",
      " Validation R2  : 0.457781\n",
      " Learning Rate  : 1.000000\n",
      "\n",
      "Epoch 8/500\n",
      "----------------------\n"
     ]
    },
    {
     "name": "stderr",
     "output_type": "stream",
     "text": [
      "100%|██████████| 200/200 [00:00<00:00, 210.03it/s]\n",
      "100%|██████████| 20/20 [00:00<00:00, 230.24it/s]\n",
      " 11%|█         | 22/200 [00:00<00:00, 215.00it/s]"
     ]
    },
    {
     "name": "stdout",
     "output_type": "stream",
     "text": [
      " Validation Loss: 1.020197\n",
      " Validation R2  : 0.417696\n",
      " Learning Rate  : 1.000000\n",
      "\n",
      "Epoch 9/500\n",
      "----------------------\n"
     ]
    },
    {
     "name": "stderr",
     "output_type": "stream",
     "text": [
      "100%|██████████| 200/200 [00:00<00:00, 208.17it/s]\n",
      "100%|██████████| 20/20 [00:00<00:00, 236.61it/s]\n",
      " 11%|█         | 22/200 [00:00<00:00, 214.73it/s]"
     ]
    },
    {
     "name": "stdout",
     "output_type": "stream",
     "text": [
      " Validation Loss: 1.019577\n",
      " Validation R2  : 0.438360\n",
      " Learning Rate  : 0.100000\n",
      "\n",
      "Epoch 10/500\n",
      "----------------------\n"
     ]
    },
    {
     "name": "stderr",
     "output_type": "stream",
     "text": [
      "100%|██████████| 200/200 [00:00<00:00, 211.57it/s]\n",
      "100%|██████████| 20/20 [00:00<00:00, 234.74it/s]\n",
      " 11%|█         | 22/200 [00:00<00:00, 212.88it/s]"
     ]
    },
    {
     "name": "stdout",
     "output_type": "stream",
     "text": [
      " Validation Loss: 1.018831\n",
      " Validation R2  : 0.463925\n",
      " Learning Rate  : 0.100000\n",
      "\n",
      "Epoch 11/500\n",
      "----------------------\n"
     ]
    },
    {
     "name": "stderr",
     "output_type": "stream",
     "text": [
      "100%|██████████| 200/200 [00:00<00:00, 208.53it/s]\n",
      "100%|██████████| 20/20 [00:00<00:00, 229.42it/s]\n",
      " 10%|█         | 21/200 [00:00<00:00, 201.65it/s]"
     ]
    },
    {
     "name": "stdout",
     "output_type": "stream",
     "text": [
      " Validation Loss: 1.018849\n",
      " Validation R2  : 0.457615\n",
      " Learning Rate  : 0.100000\n",
      "\n",
      "Epoch 12/500\n",
      "----------------------\n"
     ]
    },
    {
     "name": "stderr",
     "output_type": "stream",
     "text": [
      "100%|██████████| 200/200 [00:00<00:00, 204.75it/s]\n",
      "100%|██████████| 20/20 [00:00<00:00, 230.96it/s]\n",
      " 11%|█         | 22/200 [00:00<00:00, 213.13it/s]"
     ]
    },
    {
     "name": "stdout",
     "output_type": "stream",
     "text": [
      " Validation Loss: 1.018839\n",
      " Validation R2  : 0.461760\n",
      " Learning Rate  : 0.100000\n",
      "\n",
      "Epoch 13/500\n",
      "----------------------\n"
     ]
    },
    {
     "name": "stderr",
     "output_type": "stream",
     "text": [
      "100%|██████████| 200/200 [00:00<00:00, 205.95it/s]\n",
      "100%|██████████| 20/20 [00:00<00:00, 228.94it/s]\n",
      " 10%|█         | 21/200 [00:00<00:00, 205.62it/s]"
     ]
    },
    {
     "name": "stdout",
     "output_type": "stream",
     "text": [
      " Validation Loss: 1.018884\n",
      " Validation R2  : 0.439862\n",
      " Learning Rate  : 0.100000\n",
      "\n",
      "Epoch 14/500\n",
      "----------------------\n"
     ]
    },
    {
     "name": "stderr",
     "output_type": "stream",
     "text": [
      "100%|██████████| 200/200 [00:00<00:00, 207.62it/s]\n",
      "100%|██████████| 20/20 [00:00<00:00, 230.70it/s]\n",
      " 10%|█         | 21/200 [00:00<00:00, 207.80it/s]"
     ]
    },
    {
     "name": "stdout",
     "output_type": "stream",
     "text": [
      " Validation Loss: 1.019113\n",
      " Validation R2  : 0.469332\n",
      " Learning Rate  : 0.010000\n",
      "\n",
      "Epoch 15/500\n",
      "----------------------\n"
     ]
    },
    {
     "name": "stderr",
     "output_type": "stream",
     "text": [
      "100%|██████████| 200/200 [00:00<00:00, 206.54it/s]\n",
      "100%|██████████| 20/20 [00:00<00:00, 230.29it/s]\n",
      "  9%|▉         | 18/200 [00:00<00:01, 175.68it/s]"
     ]
    },
    {
     "name": "stdout",
     "output_type": "stream",
     "text": [
      " Validation Loss: 1.018795\n",
      " Validation R2  : 0.464581\n",
      " Learning Rate  : 0.010000\n",
      "\n",
      "Epoch 16/500\n",
      "----------------------\n"
     ]
    },
    {
     "name": "stderr",
     "output_type": "stream",
     "text": [
      "100%|██████████| 200/200 [00:00<00:00, 218.71it/s]\n",
      "100%|██████████| 20/20 [00:00<00:00, 251.47it/s]\n",
      " 10%|█         | 21/200 [00:00<00:00, 182.21it/s]"
     ]
    },
    {
     "name": "stdout",
     "output_type": "stream",
     "text": [
      " Validation Loss: 1.018818\n",
      " Validation R2  : 0.461336\n",
      " Learning Rate  : 0.010000\n",
      "\n",
      "Epoch 17/500\n",
      "----------------------\n"
     ]
    },
    {
     "name": "stderr",
     "output_type": "stream",
     "text": [
      "100%|██████████| 200/200 [00:00<00:00, 221.61it/s]\n",
      "100%|██████████| 20/20 [00:00<00:00, 241.81it/s]\n",
      "  9%|▉         | 18/200 [00:00<00:01, 173.56it/s]"
     ]
    },
    {
     "name": "stdout",
     "output_type": "stream",
     "text": [
      " Validation Loss: 1.018805\n",
      " Validation R2  : 0.463198\n",
      " Learning Rate  : 0.010000\n",
      "\n",
      "Epoch 18/500\n",
      "----------------------\n"
     ]
    },
    {
     "name": "stderr",
     "output_type": "stream",
     "text": [
      "100%|██████████| 200/200 [00:00<00:00, 218.17it/s]\n",
      "100%|██████████| 20/20 [00:00<00:00, 248.34it/s]\n",
      "  8%|▊         | 16/200 [00:00<00:01, 156.85it/s]"
     ]
    },
    {
     "name": "stdout",
     "output_type": "stream",
     "text": [
      " Validation Loss: 1.018824\n",
      " Validation R2  : 0.459518\n",
      " Learning Rate  : 0.001000\n",
      "\n",
      "Epoch 19/500\n",
      "----------------------\n"
     ]
    },
    {
     "name": "stderr",
     "output_type": "stream",
     "text": [
      "100%|██████████| 200/200 [00:00<00:00, 215.21it/s]\n",
      "100%|██████████| 20/20 [00:00<00:00, 245.70it/s]\n",
      "  9%|▉         | 18/200 [00:00<00:01, 173.19it/s]"
     ]
    },
    {
     "name": "stdout",
     "output_type": "stream",
     "text": [
      " Validation Loss: 1.018818\n",
      " Validation R2  : 0.460640\n",
      " Learning Rate  : 0.001000\n",
      "\n",
      "Epoch 20/500\n",
      "----------------------\n"
     ]
    },
    {
     "name": "stderr",
     "output_type": "stream",
     "text": [
      "100%|██████████| 200/200 [00:00<00:00, 217.51it/s]\n",
      "100%|██████████| 20/20 [00:00<00:00, 242.42it/s]\n",
      "  8%|▊         | 17/200 [00:00<00:01, 165.19it/s]"
     ]
    },
    {
     "name": "stdout",
     "output_type": "stream",
     "text": [
      " Validation Loss: 1.018824\n",
      " Validation R2  : 0.457478\n",
      " Learning Rate  : 0.001000\n",
      "\n",
      "Epoch 21/500\n",
      "----------------------\n"
     ]
    },
    {
     "name": "stderr",
     "output_type": "stream",
     "text": [
      "100%|██████████| 200/200 [00:00<00:00, 215.43it/s]\n",
      "100%|██████████| 20/20 [00:00<00:00, 241.36it/s]\n",
      "  8%|▊         | 17/200 [00:00<00:01, 166.40it/s]"
     ]
    },
    {
     "name": "stdout",
     "output_type": "stream",
     "text": [
      " Validation Loss: 1.018815\n",
      " Validation R2  : 0.460830\n",
      " Learning Rate  : 0.001000\n",
      "\n",
      "Epoch 22/500\n",
      "----------------------\n"
     ]
    },
    {
     "name": "stderr",
     "output_type": "stream",
     "text": [
      "100%|██████████| 200/200 [00:00<00:00, 215.06it/s]\n",
      "100%|██████████| 20/20 [00:00<00:00, 181.14it/s]\n",
      " 11%|█         | 22/200 [00:00<00:00, 216.60it/s]"
     ]
    },
    {
     "name": "stdout",
     "output_type": "stream",
     "text": [
      " Validation Loss: 1.018819\n",
      " Validation R2  : 0.458516\n",
      " Learning Rate  : 0.000100\n",
      "\n",
      "Epoch 23/500\n",
      "----------------------\n"
     ]
    },
    {
     "name": "stderr",
     "output_type": "stream",
     "text": [
      "100%|██████████| 200/200 [00:00<00:00, 217.75it/s]\n",
      "100%|██████████| 20/20 [00:00<00:00, 182.78it/s]\n",
      " 10%|█         | 20/200 [00:00<00:00, 198.16it/s]"
     ]
    },
    {
     "name": "stdout",
     "output_type": "stream",
     "text": [
      " Validation Loss: 1.018819\n",
      " Validation R2  : 0.458501\n",
      " Learning Rate  : 0.000100\n",
      "\n",
      "Epoch 24/500\n",
      "----------------------\n"
     ]
    },
    {
     "name": "stderr",
     "output_type": "stream",
     "text": [
      "100%|██████████| 200/200 [00:01<00:00, 198.51it/s]\n",
      "100%|██████████| 20/20 [00:00<00:00, 183.47it/s]\n",
      " 11%|█         | 22/200 [00:00<00:00, 217.66it/s]"
     ]
    },
    {
     "name": "stdout",
     "output_type": "stream",
     "text": [
      " Validation Loss: 1.018818\n",
      " Validation R2  : 0.458613\n",
      " Learning Rate  : 0.000100\n",
      "\n",
      "Epoch 25/500\n",
      "----------------------\n"
     ]
    },
    {
     "name": "stderr",
     "output_type": "stream",
     "text": [
      "100%|██████████| 200/200 [00:00<00:00, 216.91it/s]\n",
      "100%|██████████| 20/20 [00:00<00:00, 176.55it/s]\n",
      " 11%|█         | 22/200 [00:00<00:00, 212.32it/s]"
     ]
    },
    {
     "name": "stdout",
     "output_type": "stream",
     "text": [
      " Validation Loss: 1.018817\n",
      " Validation R2  : 0.458943\n",
      " Learning Rate  : 0.000100\n",
      "\n",
      "Epoch 26/500\n",
      "----------------------\n"
     ]
    },
    {
     "name": "stderr",
     "output_type": "stream",
     "text": [
      "100%|██████████| 200/200 [00:00<00:00, 216.71it/s]\n",
      "100%|██████████| 20/20 [00:00<00:00, 187.93it/s]\n",
      " 10%|█         | 21/200 [00:00<00:00, 205.28it/s]"
     ]
    },
    {
     "name": "stdout",
     "output_type": "stream",
     "text": [
      " Validation Loss: 1.018818\n",
      " Validation R2  : 0.458775\n",
      " Learning Rate  : 0.000010\n",
      "\n",
      "Epoch 27/500\n",
      "----------------------\n"
     ]
    },
    {
     "name": "stderr",
     "output_type": "stream",
     "text": [
      "100%|██████████| 200/200 [00:00<00:00, 206.31it/s]\n",
      "100%|██████████| 20/20 [00:00<00:00, 224.87it/s]\n",
      " 10%|█         | 21/200 [00:00<00:00, 205.15it/s]"
     ]
    },
    {
     "name": "stdout",
     "output_type": "stream",
     "text": [
      " Validation Loss: 1.018818\n",
      " Validation R2  : 0.458779\n",
      " Learning Rate  : 0.000010\n",
      "\n",
      "Epoch 28/500\n",
      "----------------------\n"
     ]
    },
    {
     "name": "stderr",
     "output_type": "stream",
     "text": [
      "100%|██████████| 200/200 [00:00<00:00, 207.64it/s]\n",
      "100%|██████████| 20/20 [00:00<00:00, 227.62it/s]\n",
      " 10%|█         | 21/200 [00:00<00:00, 206.06it/s]"
     ]
    },
    {
     "name": "stdout",
     "output_type": "stream",
     "text": [
      " Validation Loss: 1.018818\n",
      " Validation R2  : 0.458745\n",
      " Learning Rate  : 0.000010\n",
      "\n",
      "Epoch 29/500\n",
      "----------------------\n"
     ]
    },
    {
     "name": "stderr",
     "output_type": "stream",
     "text": [
      "100%|██████████| 200/200 [00:00<00:00, 206.00it/s]\n",
      "100%|██████████| 20/20 [00:00<00:00, 230.78it/s]\n",
      " 11%|█         | 22/200 [00:00<00:00, 212.77it/s]"
     ]
    },
    {
     "name": "stdout",
     "output_type": "stream",
     "text": [
      " Validation Loss: 1.018818\n",
      " Validation R2  : 0.458800\n",
      " Learning Rate  : 0.000010\n",
      "\n",
      "Epoch 30/500\n",
      "----------------------\n"
     ]
    },
    {
     "name": "stderr",
     "output_type": "stream",
     "text": [
      "100%|██████████| 200/200 [00:00<00:00, 204.85it/s]\n",
      "100%|██████████| 20/20 [00:00<00:00, 243.39it/s]\n",
      " 11%|█         | 22/200 [00:00<00:00, 216.14it/s]"
     ]
    },
    {
     "name": "stdout",
     "output_type": "stream",
     "text": [
      " Validation Loss: 1.018818\n",
      " Validation R2  : 0.458752\n",
      " Learning Rate  : 0.000001\n",
      "\n",
      "Epoch 31/500\n",
      "----------------------\n"
     ]
    },
    {
     "name": "stderr",
     "output_type": "stream",
     "text": [
      "100%|██████████| 200/200 [00:00<00:00, 214.22it/s]\n",
      "100%|██████████| 20/20 [00:00<00:00, 232.86it/s]\n",
      " 11%|█         | 22/200 [00:00<00:00, 212.73it/s]"
     ]
    },
    {
     "name": "stdout",
     "output_type": "stream",
     "text": [
      " Validation Loss: 1.018818\n",
      " Validation R2  : 0.458752\n",
      " Learning Rate  : 0.000001\n",
      "\n",
      "Epoch 32/500\n",
      "----------------------\n"
     ]
    },
    {
     "name": "stderr",
     "output_type": "stream",
     "text": [
      "100%|██████████| 200/200 [00:00<00:00, 212.51it/s]\n",
      "100%|██████████| 20/20 [00:00<00:00, 230.41it/s]\n",
      " 10%|█         | 21/200 [00:00<00:00, 208.61it/s]"
     ]
    },
    {
     "name": "stdout",
     "output_type": "stream",
     "text": [
      " Validation Loss: 1.018818\n",
      " Validation R2  : 0.458750\n",
      " Learning Rate  : 0.000001\n",
      "\n",
      "Epoch 33/500\n",
      "----------------------\n"
     ]
    },
    {
     "name": "stderr",
     "output_type": "stream",
     "text": [
      "100%|██████████| 200/200 [00:00<00:00, 210.39it/s]\n",
      "100%|██████████| 20/20 [00:00<00:00, 237.27it/s]\n",
      " 11%|█         | 22/200 [00:00<00:00, 216.64it/s]"
     ]
    },
    {
     "name": "stdout",
     "output_type": "stream",
     "text": [
      " Validation Loss: 1.018818\n",
      " Validation R2  : 0.458749\n",
      " Learning Rate  : 0.000001\n",
      "\n",
      "Epoch 34/500\n",
      "----------------------\n"
     ]
    },
    {
     "name": "stderr",
     "output_type": "stream",
     "text": [
      "100%|██████████| 200/200 [00:00<00:00, 212.62it/s]\n",
      "100%|██████████| 20/20 [00:00<00:00, 234.99it/s]"
     ]
    },
    {
     "name": "stdout",
     "output_type": "stream",
     "text": [
      " Validation Loss: 1.018818\n",
      " Validation R2  : 0.458748\n",
      " Learning Rate  : 0.000000\n",
      "\n"
     ]
    },
    {
     "name": "stderr",
     "output_type": "stream",
     "text": [
      "\n"
     ]
    }
   ],
   "source": [
    "train_loss, val_loss = train(net, net2, dataloaders_dict, criterion, optimizer, 500)"
   ]
  },
  {
   "cell_type": "code",
   "execution_count": 27,
   "id": "0c52b4cd",
   "metadata": {},
   "outputs": [
    {
     "name": "stdout",
     "output_type": "stream",
     "text": [
      "tensor([[ 21.6549,  32.9074,  36.7539, -24.0399,  -0.9112,  -2.2625,   6.9332,\n",
      "           4.2189,  -4.7150,   2.2581, -11.9745,  -5.7231,  10.5579,  -1.8493]])\n",
      "tensor([-7.5295])\n"
     ]
    }
   ],
   "source": [
    "for param in net2.parameters():\n",
    "  print(param.data)"
   ]
  },
  {
   "cell_type": "code",
   "execution_count": 28,
   "id": "6edfd8d0",
   "metadata": {},
   "outputs": [
    {
     "data": {
      "text/plain": [
       "[<matplotlib.lines.Line2D at 0x7f7cd5b98910>]"
      ]
     },
     "execution_count": 28,
     "metadata": {},
     "output_type": "execute_result"
    },
    {
     "data": {
      "image/png": "[encoded data removed]",
      "text/plain": [
       "<Figure size 432x288 with 1 Axes>"
      ]
     },
     "metadata": {
      "needs_background": "light"
     },
     "output_type": "display_data"
    }
   ],
   "source": [
    "plt.plot(train_loss)"
   ]
  },
  {
   "cell_type": "code",
   "execution_count": 29,
   "id": "c8fa3c1f",
   "metadata": {},
   "outputs": [
    {
     "data": {
      "text/plain": [
       "[<matplotlib.lines.Line2D at 0x7f7cd5bd2280>]"
      ]
     },
     "execution_count": 29,
     "metadata": {},
     "output_type": "execute_result"
    },
    {
     "data": {
      "image/png": "[encoded data removed]",
      "text/plain": [
       "<Figure size 432x288 with 1 Axes>"
      ]
     },
     "metadata": {
      "needs_background": "light"
     },
     "output_type": "display_data"
    }
   ],
   "source": [
    "plt.plot(val_loss)"
   ]
  },
  {
   "cell_type": "code",
   "execution_count": 36,
   "id": "fae006a2",
   "metadata": {},
   "outputs": [
    {
     "data": {
      "text/plain": [
       "tensor([[ 1.3000,  1.9000, -0.2300,  0.1700],\n",
       "        [ 1.2995,  1.9003, -0.2302,  0.1697],\n",
       "        [ 1.2991,  1.9007, -0.2304,  0.1694],\n",
       "        ...,\n",
       "        [ 1.0211,  1.9893, -0.3278,  0.0058],\n",
       "        [ 1.0204,  1.9893, -0.3280,  0.0055],\n",
       "        [ 1.0198,  1.9894, -0.3281,  0.0051]])"
      ]
     },
     "execution_count": 36,
     "metadata": {},
     "output_type": "execute_result"
    }
   ],
   "source": [
    "X[:5000]"
   ]
  },
  {
   "cell_type": "code",
   "execution_count": 37,
   "id": "b2a287fa",
   "metadata": {},
   "outputs": [
    {
     "data": {
      "text/plain": [
       "tensor([[ 0.2548,  1.6208, -0.4771, -0.4522],\n",
       "        [ 0.9297,  0.1247,  0.8222,  0.8181],\n",
       "        [ 1.4712,  1.6576, -0.1124,  0.3206],\n",
       "        ...,\n",
       "        [ 0.4253, -0.2186,  1.7190,  0.6635],\n",
       "        [ 1.1737,  1.9647, -0.2804,  0.0912],\n",
       "        [ 1.2480,  1.9330, -0.2525,  0.1362]])"
      ]
     },
     "execution_count": 37,
     "metadata": {},
     "output_type": "execute_result"
    }
   ],
   "source": [
    "X_p[:5000]"
   ]
  },
  {
   "cell_type": "code",
   "execution_count": 38,
   "id": "3a267b2d",
   "metadata": {},
   "outputs": [
    {
     "data": {
      "text/plain": [
       "tensor([[ 1.3000,  1.9000, -0.2300,  0.1700],\n",
       "        [ 1.2995,  1.9003, -0.2302,  0.1697],\n",
       "        [ 1.2991,  1.9007, -0.2304,  0.1694],\n",
       "        ...,\n",
       "        [ 1.0211,  1.9893, -0.3278,  0.0058],\n",
       "        [ 1.0204,  1.9893, -0.3280,  0.0055],\n",
       "        [ 1.0198,  1.9894, -0.3281,  0.0051]])"
      ]
     },
     "execution_count": 38,
     "metadata": {},
     "output_type": "execute_result"
    }
   ],
   "source": [
    "X[5000:]"
   ]
  },
  {
   "cell_type": "code",
   "execution_count": 39,
   "id": "39a10a97",
   "metadata": {},
   "outputs": [
    {
     "data": {
      "text/plain": [
       "tensor([[ 1.3000,  1.9000,  0.1328,  0.1700],\n",
       "        [ 1.2995,  1.9003, -0.2302, -0.0258],\n",
       "        [ 1.1915,  1.9007, -0.2304,  0.1694],\n",
       "        ...,\n",
       "        [ 1.0211,  1.9893, -0.3278,  0.7712],\n",
       "        [ 0.8104,  1.9893, -0.3280,  0.0055],\n",
       "        [ 1.0198,  1.9894, -0.3281,  0.5927]])"
      ]
     },
     "execution_count": 39,
     "metadata": {},
     "output_type": "execute_result"
    }
   ],
   "source": [
    "X_p[5000:]"
   ]
  },
  {
   "cell_type": "code",
   "execution_count": null,
   "id": "8bdd658b",
   "metadata": {},
   "outputs": [],
   "source": []
  }
 ],
 "metadata": {
  "kernelspec": {
   "display_name": "Python 3",
   "language": "python",
   "name": "python3"
  },
  "language_info": {
   "codemirror_mode": {
    "name": "ipython",
    "version": 3
   },
   "file_extension": ".py",
   "mimetype": "text/x-python",
   "name": "python",
   "nbconvert_exporter": "python",
   "pygments_lexer": "ipython3",
   "version": "3.9.6"
  }
 },
 "nbformat": 4,
 "nbformat_minor": 5
}
