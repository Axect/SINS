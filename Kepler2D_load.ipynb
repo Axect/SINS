{
 "cells": [
  {
   "cell_type": "code",
   "execution_count": 1,
   "id": "4f8948e1",
   "metadata": {},
   "outputs": [],
   "source": [
    "import torch\n",
    "from torch import nn, optim\n",
    "from torch.utils.data import Dataset, DataLoader\n",
    "import torch.nn.functional as F\n",
    "from torch.distributions.uniform import Uniform\n",
    "import numpy as np\n",
    "import matplotlib.pyplot as plt\n",
    "from tqdm import tqdm\n",
    "\n",
    "from scipy.integrate import odeint"
   ]
  },
  {
   "cell_type": "code",
   "execution_count": 2,
   "id": "338fc53f",
   "metadata": {},
   "outputs": [
    {
     "data": {
      "text/plain": [
       "'cpu'"
      ]
     },
     "execution_count": 2,
     "metadata": {},
     "output_type": "execute_result"
    }
   ],
   "source": [
    "torch.manual_seed(8407)\n",
    "device = 'cuda' if torch.cuda.is_available() else 'cpu'\n",
    "device"
   ]
  },
  {
   "cell_type": "code",
   "execution_count": 3,
   "id": "ce33df0e",
   "metadata": {},
   "outputs": [],
   "source": [
    "class Kepler2D(Dataset):\n",
    "    def __init__(self, t, z0, G=1, M=1):\n",
    "        tmin, tmax, tnum = t\n",
    "        \n",
    "        def eom(z, t):\n",
    "            x, y, vx, vy = z\n",
    "            dxdt = vx\n",
    "            dydt = vy\n",
    "            dvxdt = - G * M / (x**2 + y**2)**(3/2) * x\n",
    "            dvydt = - G * M / (x**2 + y**2)**(3/2) * y\n",
    "            return [dxdt, dydt, dvxdt, dvydt]\n",
    "        \n",
    "        t = torch.linspace(tmin, tmax, tnum)\n",
    "        X = torch.Tensor(odeint(eom, z0, t)).float()\n",
    "        \n",
    "        # Positive Pair\n",
    "        idx = torch.randperm(len(t))\n",
    "        X_p = X[idx, :]\n",
    "        \n",
    "        # Negative Pair - 1. x\n",
    "        idx_x = torch.randperm(len(t))\n",
    "        X_x = X.clone()\n",
    "        X_x[:,0] = X_x[idx_x, 0]\n",
    "        \n",
    "        # Negative Pair - 2. y\n",
    "        idx_y = torch.randperm(len(t))\n",
    "        X_y = X.clone()\n",
    "        X_y[:,1] = X_y[idx_y, 1]\n",
    "        \n",
    "        # Negative Pair - 3. vx\n",
    "        idx_vx = torch.randperm(len(t))\n",
    "        X_vx = X.clone()\n",
    "        X_vx[:,2] = X_vx[idx_vx, 2]\n",
    "        \n",
    "        # Negative Pair - 4. vy\n",
    "        idx_vy = torch.randperm(len(t))\n",
    "        X_vy = X.clone()\n",
    "        X_vy[:,3] = X_y[idx_vy, 3]\n",
    "        \n",
    "        # Mix Negative Pair\n",
    "        X_n_tot = torch.stack([X_x, X_y, X_vx, X_vy], dim=2)\n",
    "        idx_neg = torch.randint(4, (len(t),))\n",
    "        X_n = torch.Tensor(X.shape[0], X.shape[1])\n",
    "        for i in range(X.shape[0]):\n",
    "            X_n[i, :] = X_n_tot[i, :, idx_neg[i]]\n",
    "            \n",
    "        # Mix Pairs with label\n",
    "        self.X = torch.vstack([X, X])\n",
    "        self.X_pair = torch.vstack([X_p, X_n])\n",
    "        \n",
    "        # Labelling\n",
    "        y_p = torch.zeros((X_p.shape[0], 1))\n",
    "        y_n = torch.ones((X_n.shape[0], 1))\n",
    "        self.y = torch.vstack([y_p, y_n])\n",
    "        \n",
    "    def __len__(self):\n",
    "        return self.X.shape[0]\n",
    "    \n",
    "    def __getitem__(self, idx):\n",
    "        x = torch.Tensor(self.X[idx])\n",
    "        x_pair = torch.Tensor(self.X_pair[idx])\n",
    "        y = torch.Tensor(self.y[idx])\n",
    "        return x, x_pair, y"
   ]
  },
  {
   "cell_type": "code",
   "execution_count": 4,
   "id": "3529569f",
   "metadata": {},
   "outputs": [],
   "source": [
    "class SNN(nn.Module):\n",
    "    def __init__(self):\n",
    "        super(SNN, self).__init__()\n",
    "        self.linear_relu = nn.Sequential(\n",
    "            nn.Linear(4,100),\n",
    "            nn.ReLU(),\n",
    "            nn.Linear(100,1),\n",
    "            nn.LeakyReLU()\n",
    "        )\n",
    "\n",
    "    def forward(self, x1, x2):\n",
    "        out1 = self.linear_relu(x1)\n",
    "        out2 = self.linear_relu(x2)\n",
    "        return out1, out2"
   ]
  },
  {
   "cell_type": "code",
   "execution_count": 5,
   "id": "8714e995",
   "metadata": {},
   "outputs": [],
   "source": [
    "class ContrastiveLoss(torch.nn.Module):\n",
    "    \"\"\"\n",
    "    Contrastive loss function.\n",
    "    Based on: http://yann.lecun.com/exdb/publis/pdf/hadsell-chopra-lecun-06.pdf\n",
    "    \"\"\"\n",
    "\n",
    "    def __init__(self, margin=2.0):\n",
    "        super(ContrastiveLoss, self).__init__()\n",
    "        self.margin = margin\n",
    "\n",
    "    def forward(self, output1, output2, label):\n",
    "        euclidean_distance = F.pairwise_distance(output1, output2, keepdim = True)\n",
    "        loss_contrastive = torch.mean((1-label) * torch.pow(euclidean_distance, 2) +\n",
    "                                      (label) * torch.pow(torch.clamp(self.margin - euclidean_distance, min=0.0), 2))\n",
    "\n",
    "        return loss_contrastive"
   ]
  },
  {
   "cell_type": "code",
   "execution_count": 6,
   "id": "d86003f1",
   "metadata": {},
   "outputs": [],
   "source": [
    "def r2_score(target, output):\n",
    "    target_mean = torch.mean(target)\n",
    "    ss_tot = torch.sum((target - target_mean) ** 2)\n",
    "    ss_res = torch.sum((target - output) ** 2)\n",
    "    r2 = 1 - ss_res / ss_tot\n",
    "    return r2"
   ]
  },
  {
   "cell_type": "code",
   "execution_count": 7,
   "id": "f0ed37b6",
   "metadata": {},
   "outputs": [
    {
     "name": "stdout",
     "output_type": "stream",
     "text": [
      "[1, 1, -0.3, 0.3]\n"
     ]
    }
   ],
   "source": [
    "z0 = [1, 1, -0.3, 0.3]\n",
    "print(z0)\n",
    "t_test = (0, 5, 5000)"
   ]
  },
  {
   "cell_type": "code",
   "execution_count": 8,
   "id": "59a96654",
   "metadata": {},
   "outputs": [],
   "source": [
    "test_dataset = Kepler2D(t_test, z0)\n",
    "test_dataloader = DataLoader(test_dataset, batch_size=500)"
   ]
  },
  {
   "cell_type": "code",
   "execution_count": 9,
   "id": "65f910c7",
   "metadata": {},
   "outputs": [],
   "source": [
    "net = torch.load(\"model/snn_kepl2d_03.pt\").to(device)\n",
    "criterion = ContrastiveLoss()"
   ]
  },
  {
   "cell_type": "code",
   "execution_count": 10,
   "id": "f934def6",
   "metadata": {},
   "outputs": [
    {
     "name": "stdout",
     "output_type": "stream",
     "text": [
      "Average Accuracy: 99.52999877929688%\n"
     ]
    }
   ],
   "source": [
    "total_accuracy = 0\n",
    "total_size = len(test_dataloader.dataset)\n",
    "for batch, samples in enumerate(test_dataloader):\n",
    "    x, x_p, y = samples\n",
    "    x, x_p, y = x.to(device), x_p.to(device), y.to(device)\n",
    "    with torch.no_grad():\n",
    "        out1, out2 = net(x, x_p)\n",
    "        idx = torch.flatten((torch.abs(out1 - out2) <= 0.2) != y)\n",
    "        acc = torch.count_nonzero(idx)\n",
    "        # print(f\"Accuracy: {100-acc}%\")\n",
    "        total_accuracy += acc\n",
    "        # temp = torch.column_stack([pred1, pred2, y])\n",
    "        # temp_val = temp[idx]\n",
    "        # if len(temp_val) != 0:\n",
    "        #     print(f\"{batch} - {temp_val[:].tolist()}\")\n",
    "print(f\"Average Accuracy: {total_accuracy/total_size*100}%\")"
   ]
  },
  {
   "cell_type": "code",
   "execution_count": 11,
   "id": "d6ac5fb8",
   "metadata": {},
   "outputs": [],
   "source": [
    "# def r2_score(output, target):\n",
    "#     target_mean = torch.mean(target)\n",
    "#     ss_tot = torch.sum((target - target_mean) ** 2)\n",
    "#     ss_res = torch.sum((target - output) ** 2)\n",
    "#     r2 = 1 - ss_res / ss_tot\n",
    "#     return r2"
   ]
  },
  {
   "cell_type": "code",
   "execution_count": 12,
   "id": "ec8c32e3",
   "metadata": {},
   "outputs": [
    {
     "data": {
      "text/plain": [
       "tensor([[ 4.3703],\n",
       "        [ 4.3679],\n",
       "        [ 4.3689],\n",
       "        ...,\n",
       "        [35.3729],\n",
       "        [15.8113],\n",
       "        [-0.1195]])"
      ]
     },
     "execution_count": 12,
     "metadata": {},
     "output_type": "execute_result"
    }
   ],
   "source": [
    "X, X_p, Y = test_dataset[:]\n",
    "X, X_p, Y = X.to(device), X_p.to(device), Y.to(device)\n",
    "\n",
    "x, y, vx, vy = X_p[:, 0], X_p[:,1], X_p[:,2], X_p[:,3]\n",
    "x, y, vx, vy = x.to(device), y.to(device), vx.to(device), vy.to(device)\n",
    "\n",
    "net.eval()\n",
    "with torch.no_grad():\n",
    "    _, Z = net(X, X_p)\n",
    "Z"
   ]
  },
  {
   "cell_type": "code",
   "execution_count": 13,
   "id": "227c202a",
   "metadata": {},
   "outputs": [],
   "source": [
    "X_linear = torch.column_stack([torch.ones((len(x), 1)).float().to(device), x, y, vx, vy])"
   ]
  },
  {
   "cell_type": "code",
   "execution_count": 14,
   "id": "02e99fdf",
   "metadata": {},
   "outputs": [
    {
     "data": {
      "text/plain": [
       "tensor([[  8.4405],\n",
       "        [-22.4669],\n",
       "        [ 23.2198],\n",
       "        [ 11.0024],\n",
       "        [  8.6643]])"
      ]
     },
     "execution_count": 14,
     "metadata": {},
     "output_type": "execute_result"
    }
   ],
   "source": [
    "weight_linear = torch.mm(torch.linalg.pinv(X_linear), Z)\n",
    "weight_linear"
   ]
  },
  {
   "cell_type": "code",
   "execution_count": 15,
   "id": "0638eb6e",
   "metadata": {},
   "outputs": [
    {
     "data": {
      "text/plain": [
       "tensor(0.0426)"
      ]
     },
     "execution_count": 15,
     "metadata": {},
     "output_type": "execute_result"
    }
   ],
   "source": [
    "r2_score(torch.mm(X_linear, weight_linear), Z)"
   ]
  },
  {
   "cell_type": "code",
   "execution_count": 16,
   "id": "91e85137",
   "metadata": {},
   "outputs": [],
   "source": [
    "X_quad = torch.column_stack([torch.ones((len(x), 1)).float().to(device), x, y, vx, vy, x**2, x*y, x*vx, x*vy, y**2, y*vx, y*vy, vx**2, vx*vy, vy**2])"
   ]
  },
  {
   "cell_type": "code",
   "execution_count": 17,
   "id": "e8402eae",
   "metadata": {},
   "outputs": [
    {
     "data": {
      "text/plain": [
       "torch.Size([10000, 15])"
      ]
     },
     "execution_count": 17,
     "metadata": {},
     "output_type": "execute_result"
    }
   ],
   "source": [
    "X_quad.shape"
   ]
  },
  {
   "cell_type": "code",
   "execution_count": 18,
   "id": "339cae37",
   "metadata": {},
   "outputs": [
    {
     "data": {
      "text/plain": [
       "tensor([[ 11.4940],\n",
       "        [-40.1440],\n",
       "        [ 27.6600],\n",
       "        [  8.1105],\n",
       "        [ 15.7209],\n",
       "        [ 22.1006],\n",
       "        [-25.3083],\n",
       "        [ -5.6603],\n",
       "        [-13.9294],\n",
       "        [ 12.1486],\n",
       "        [ 18.1290],\n",
       "        [ 14.1187],\n",
       "        [ -0.3911],\n",
       "        [  3.2751],\n",
       "        [  5.4794]])"
      ]
     },
     "execution_count": 18,
     "metadata": {},
     "output_type": "execute_result"
    }
   ],
   "source": [
    "weight_quad = torch.mm(torch.linalg.pinv(X_quad), Z)\n",
    "weight_quad"
   ]
  },
  {
   "cell_type": "code",
   "execution_count": 19,
   "id": "232def2b",
   "metadata": {},
   "outputs": [
    {
     "data": {
      "text/plain": [
       "tensor(0.8762)"
      ]
     },
     "execution_count": 19,
     "metadata": {},
     "output_type": "execute_result"
    }
   ],
   "source": [
    "r2_score(Z, torch.mm(X_quad, weight_quad))"
   ]
  },
  {
   "cell_type": "code",
   "execution_count": 20,
   "id": "9d33a6ea",
   "metadata": {},
   "outputs": [],
   "source": [
    "class PolyNet(nn.Module):\n",
    "    def __init__(self):\n",
    "        super(PolyNet, self).__init__()\n",
    "        self.model = nn.Sequential(\n",
    "            nn.Linear(14, 1),\n",
    "            nn.ReLU()\n",
    "        )\n",
    "\n",
    "    def forward(self, x):\n",
    "        return self.model(x)"
   ]
  },
  {
   "cell_type": "code",
   "execution_count": 21,
   "id": "36d07cb4",
   "metadata": {},
   "outputs": [],
   "source": [
    "net2 = PolyNet().to(device)"
   ]
  },
  {
   "cell_type": "code",
   "execution_count": 22,
   "id": "96862cff",
   "metadata": {},
   "outputs": [
    {
     "name": "stdout",
     "output_type": "stream",
     "text": [
      "PolyNet(\n",
      "  (model): Sequential(\n",
      "    (0): Linear(in_features=14, out_features=1, bias=True)\n",
      "    (1): ReLU()\n",
      "  )\n",
      ")\n"
     ]
    }
   ],
   "source": [
    "print(net2)"
   ]
  },
  {
   "cell_type": "code",
   "execution_count": 23,
   "id": "6a99da48",
   "metadata": {},
   "outputs": [],
   "source": [
    "criterion = nn.MSELoss()\n",
    "optimizer = torch.optim.Adam(net2.parameters(), lr=1)\n",
    "scheduler = torch.optim.lr_scheduler.ReduceLROnPlateau(optimizer, 'min', patience=3)"
   ]
  },
  {
   "cell_type": "code",
   "execution_count": 24,
   "id": "175c1325",
   "metadata": {},
   "outputs": [],
   "source": [
    "t_train = (0, 10, 50000)\n",
    "t_valid = (0, 10, 5000)\n",
    "\n",
    "train_dataset = Kepler2D(t_train, z0)\n",
    "valid_dataset = Kepler2D(t_valid, z0)\n",
    "\n",
    "train_dataloader = DataLoader(train_dataset, batch_size=500, shuffle=True)\n",
    "valid_dataloader = DataLoader(valid_dataset, batch_size=500)\n",
    "\n",
    "dataloaders_dict = {\n",
    "    \"train\": train_dataloader,\n",
    "    \"val\": valid_dataloader\n",
    "}"
   ]
  },
  {
   "cell_type": "code",
   "execution_count": 25,
   "id": "b046da68",
   "metadata": {},
   "outputs": [],
   "source": [
    "def train(net, net2, dataloaders_dict, criterion, optimizer, num_epochs):\n",
    "    train_loss = []\n",
    "    val_loss = []\n",
    "    net.eval()\n",
    "    for epoch in range(num_epochs):\n",
    "        print(f\"Epoch {epoch+1}/{num_epochs}\")\n",
    "        print(\"----------------------\")\n",
    "        \n",
    "        for phase in ['train', 'val']:\n",
    "            if phase == 'train':\n",
    "                net2.train()\n",
    "            else:\n",
    "                net2.eval()\n",
    "                \n",
    "            epoch_loss = 0.0\n",
    "            epoch_r2 = 0.0\n",
    "            \n",
    "            data = dataloaders_dict[phase]\n",
    "            for batch, samples in enumerate(tqdm(data)):\n",
    "                X, X_p, y = samples\n",
    "                X, X_p, y = X.to(device), X_p.to(device), y.to(device)\n",
    "                \n",
    "                optimizer.zero_grad()\n",
    "                with torch.set_grad_enabled(phase==\"train\"):\n",
    "                    with torch.no_grad():\n",
    "                        _, out = net(X, X_p)\n",
    "                        x, y, vx, vy = X_p[:, 0], X_p[:,1], X_p[:,2], X_p[:,3]\n",
    "                    X_quad = torch.column_stack([x, y, vx, vy, x**2, x*y, x*vx, x*vy, y**2, y*vx, y*vy, vx**2, vx*vy, vy**2])\n",
    "                    Z = net2(X_quad)\n",
    "                    loss = criterion(Z, out)\n",
    "                    \n",
    "                    if phase == \"train\":\n",
    "                        loss.backward()\n",
    "                        optimizer.step()\n",
    "                    \n",
    "                epoch_loss += loss.item() + X.shape[0]\n",
    "                epoch_r2 += r2_score(Z, out)\n",
    "                    \n",
    "            epoch_loss = epoch_loss / len(data.dataset)\n",
    "            epoch_r2 = epoch_r2 / len(data)\n",
    "            \n",
    "            if phase == 'train':\n",
    "                train_loss.append(epoch_loss)\n",
    "            else:\n",
    "                val_loss.append(epoch_loss)\n",
    "                scheduler.step(epoch_loss)\n",
    "                lr = scheduler._last_lr[0]\n",
    "                print(f\" Validation Loss: {epoch_loss:>8f}\")\n",
    "                print(f\" Validation R2  : {epoch_r2:>8f}\")\n",
    "                print(f\" Learning Rate  : {lr:>8f}\\n\")\n",
    "                if lr < 1e-6:\n",
    "                    return train_loss, val_loss\n",
    "            \n",
    "    return train_loss, val_loss"
   ]
  },
  {
   "cell_type": "code",
   "execution_count": 26,
   "id": "6cfe22b5",
   "metadata": {},
   "outputs": [
    {
     "name": "stderr",
     "output_type": "stream",
     "text": [
      "  8%|▊         | 15/200 [00:00<00:01, 148.59it/s]"
     ]
    },
    {
     "name": "stdout",
     "output_type": "stream",
     "text": [
      "Epoch 1/500\n",
      "----------------------\n"
     ]
    },
    {
     "name": "stderr",
     "output_type": "stream",
     "text": [
      "100%|██████████| 200/200 [00:00<00:00, 218.47it/s]\n",
      "100%|██████████| 20/20 [00:00<00:00, 166.16it/s]\n",
      " 11%|█         | 22/200 [00:00<00:00, 218.30it/s]"
     ]
    },
    {
     "name": "stdout",
     "output_type": "stream",
     "text": [
      " Validation Loss: 1.016217\n",
      " Validation R2  : 0.467047\n",
      " Learning Rate  : 1.000000\n",
      "\n",
      "Epoch 2/500\n",
      "----------------------\n"
     ]
    },
    {
     "name": "stderr",
     "output_type": "stream",
     "text": [
      "100%|██████████| 200/200 [00:00<00:00, 224.18it/s]\n",
      "100%|██████████| 20/20 [00:00<00:00, 192.11it/s]\n",
      " 10%|█         | 20/200 [00:00<00:00, 191.89it/s]"
     ]
    },
    {
     "name": "stdout",
     "output_type": "stream",
     "text": [
      " Validation Loss: 1.007447\n",
      " Validation R2  : 0.477931\n",
      " Learning Rate  : 1.000000\n",
      "\n",
      "Epoch 3/500\n",
      "----------------------\n"
     ]
    },
    {
     "name": "stderr",
     "output_type": "stream",
     "text": [
      "100%|██████████| 200/200 [00:00<00:00, 207.74it/s]\n",
      "100%|██████████| 20/20 [00:00<00:00, 227.25it/s]\n",
      " 10%|█         | 21/200 [00:00<00:00, 207.43it/s]"
     ]
    },
    {
     "name": "stdout",
     "output_type": "stream",
     "text": [
      " Validation Loss: 1.005553\n",
      " Validation R2  : 0.474752\n",
      " Learning Rate  : 1.000000\n",
      "\n",
      "Epoch 4/500\n",
      "----------------------\n"
     ]
    },
    {
     "name": "stderr",
     "output_type": "stream",
     "text": [
      "100%|██████████| 200/200 [00:00<00:00, 216.61it/s]\n",
      "100%|██████████| 20/20 [00:00<00:00, 240.03it/s]\n",
      " 12%|█▏        | 23/200 [00:00<00:00, 225.79it/s]"
     ]
    },
    {
     "name": "stdout",
     "output_type": "stream",
     "text": [
      " Validation Loss: 1.005344\n",
      " Validation R2  : 0.477006\n",
      " Learning Rate  : 1.000000\n",
      "\n",
      "Epoch 5/500\n",
      "----------------------\n"
     ]
    },
    {
     "name": "stderr",
     "output_type": "stream",
     "text": [
      "100%|██████████| 200/200 [00:00<00:00, 218.16it/s]\n",
      "100%|██████████| 20/20 [00:00<00:00, 235.10it/s]\n",
      " 12%|█▏        | 23/200 [00:00<00:00, 222.76it/s]"
     ]
    },
    {
     "name": "stdout",
     "output_type": "stream",
     "text": [
      " Validation Loss: 1.005130\n",
      " Validation R2  : 0.483797\n",
      " Learning Rate  : 1.000000\n",
      "\n",
      "Epoch 6/500\n",
      "----------------------\n"
     ]
    },
    {
     "name": "stderr",
     "output_type": "stream",
     "text": [
      "100%|██████████| 200/200 [00:00<00:00, 220.49it/s]\n",
      "100%|██████████| 20/20 [00:00<00:00, 207.36it/s]\n",
      " 11%|█         | 22/200 [00:00<00:00, 218.53it/s]"
     ]
    },
    {
     "name": "stdout",
     "output_type": "stream",
     "text": [
      " Validation Loss: 1.004864\n",
      " Validation R2  : 0.490438\n",
      " Learning Rate  : 1.000000\n",
      "\n",
      "Epoch 7/500\n",
      "----------------------\n"
     ]
    },
    {
     "name": "stderr",
     "output_type": "stream",
     "text": [
      "100%|██████████| 200/200 [00:00<00:00, 212.92it/s]\n",
      "100%|██████████| 20/20 [00:00<00:00, 198.09it/s]\n",
      "  7%|▋         | 14/200 [00:00<00:01, 139.69it/s]"
     ]
    },
    {
     "name": "stdout",
     "output_type": "stream",
     "text": [
      " Validation Loss: 1.005495\n",
      " Validation R2  : 0.490932\n",
      " Learning Rate  : 1.000000\n",
      "\n",
      "Epoch 8/500\n",
      "----------------------\n"
     ]
    },
    {
     "name": "stderr",
     "output_type": "stream",
     "text": [
      "100%|██████████| 200/200 [00:01<00:00, 187.14it/s]\n",
      "100%|██████████| 20/20 [00:00<00:00, 194.18it/s]\n",
      " 10%|█         | 21/200 [00:00<00:00, 204.94it/s]"
     ]
    },
    {
     "name": "stdout",
     "output_type": "stream",
     "text": [
      " Validation Loss: 1.004834\n",
      " Validation R2  : 0.492529\n",
      " Learning Rate  : 1.000000\n",
      "\n",
      "Epoch 9/500\n",
      "----------------------\n"
     ]
    },
    {
     "name": "stderr",
     "output_type": "stream",
     "text": [
      "100%|██████████| 200/200 [00:00<00:00, 200.02it/s]\n",
      "100%|██████████| 20/20 [00:00<00:00, 226.45it/s]\n",
      "  8%|▊         | 16/200 [00:00<00:01, 153.83it/s]"
     ]
    },
    {
     "name": "stdout",
     "output_type": "stream",
     "text": [
      " Validation Loss: 1.005040\n",
      " Validation R2  : 0.484536\n",
      " Learning Rate  : 1.000000\n",
      "\n",
      "Epoch 10/500\n",
      "----------------------\n"
     ]
    },
    {
     "name": "stderr",
     "output_type": "stream",
     "text": [
      "100%|██████████| 200/200 [00:01<00:00, 186.14it/s]\n",
      "100%|██████████| 20/20 [00:00<00:00, 204.58it/s]\n",
      " 10%|▉         | 19/200 [00:00<00:00, 187.86it/s]"
     ]
    },
    {
     "name": "stdout",
     "output_type": "stream",
     "text": [
      " Validation Loss: 1.005344\n",
      " Validation R2  : 0.462035\n",
      " Learning Rate  : 0.100000\n",
      "\n",
      "Epoch 11/500\n",
      "----------------------\n"
     ]
    },
    {
     "name": "stderr",
     "output_type": "stream",
     "text": [
      "100%|██████████| 200/200 [00:01<00:00, 176.62it/s]\n",
      "100%|██████████| 20/20 [00:00<00:00, 223.24it/s]\n",
      " 10%|█         | 21/200 [00:00<00:00, 206.49it/s]"
     ]
    },
    {
     "name": "stdout",
     "output_type": "stream",
     "text": [
      " Validation Loss: 1.004650\n",
      " Validation R2  : 0.491976\n",
      " Learning Rate  : 0.100000\n",
      "\n",
      "Epoch 12/500\n",
      "----------------------\n"
     ]
    },
    {
     "name": "stderr",
     "output_type": "stream",
     "text": [
      "100%|██████████| 200/200 [00:00<00:00, 201.28it/s]\n",
      "100%|██████████| 20/20 [00:00<00:00, 173.69it/s]\n",
      " 10%|█         | 21/200 [00:00<00:00, 201.39it/s]"
     ]
    },
    {
     "name": "stdout",
     "output_type": "stream",
     "text": [
      " Validation Loss: 1.004660\n",
      " Validation R2  : 0.493066\n",
      " Learning Rate  : 0.100000\n",
      "\n",
      "Epoch 13/500\n",
      "----------------------\n"
     ]
    },
    {
     "name": "stderr",
     "output_type": "stream",
     "text": [
      "100%|██████████| 200/200 [00:01<00:00, 196.12it/s]\n",
      "100%|██████████| 20/20 [00:00<00:00, 219.56it/s]\n",
      " 10%|█         | 21/200 [00:00<00:00, 201.27it/s]"
     ]
    },
    {
     "name": "stdout",
     "output_type": "stream",
     "text": [
      " Validation Loss: 1.004656\n",
      " Validation R2  : 0.492159\n",
      " Learning Rate  : 0.100000\n",
      "\n",
      "Epoch 14/500\n",
      "----------------------\n"
     ]
    },
    {
     "name": "stderr",
     "output_type": "stream",
     "text": [
      "100%|██████████| 200/200 [00:01<00:00, 198.48it/s]\n",
      "100%|██████████| 20/20 [00:00<00:00, 197.91it/s]\n",
      " 10%|█         | 20/200 [00:00<00:00, 195.22it/s]"
     ]
    },
    {
     "name": "stdout",
     "output_type": "stream",
     "text": [
      " Validation Loss: 1.004663\n",
      " Validation R2  : 0.492545\n",
      " Learning Rate  : 0.100000\n",
      "\n",
      "Epoch 15/500\n",
      "----------------------\n"
     ]
    },
    {
     "name": "stderr",
     "output_type": "stream",
     "text": [
      "100%|██████████| 200/200 [00:01<00:00, 194.34it/s]\n",
      "100%|██████████| 20/20 [00:00<00:00, 184.72it/s]\n",
      " 10%|▉         | 19/200 [00:00<00:01, 157.61it/s]"
     ]
    },
    {
     "name": "stdout",
     "output_type": "stream",
     "text": [
      " Validation Loss: 1.004676\n",
      " Validation R2  : 0.489673\n",
      " Learning Rate  : 0.010000\n",
      "\n",
      "Epoch 16/500\n",
      "----------------------\n"
     ]
    },
    {
     "name": "stderr",
     "output_type": "stream",
     "text": [
      "100%|██████████| 200/200 [00:01<00:00, 192.70it/s]\n",
      "100%|██████████| 20/20 [00:00<00:00, 185.99it/s]\n",
      "  8%|▊         | 17/200 [00:00<00:01, 164.42it/s]"
     ]
    },
    {
     "name": "stdout",
     "output_type": "stream",
     "text": [
      " Validation Loss: 1.004629\n",
      " Validation R2  : 0.492456\n",
      " Learning Rate  : 0.010000\n",
      "\n",
      "Epoch 17/500\n",
      "----------------------\n"
     ]
    },
    {
     "name": "stderr",
     "output_type": "stream",
     "text": [
      "100%|██████████| 200/200 [00:00<00:00, 218.61it/s]\n",
      "100%|██████████| 20/20 [00:00<00:00, 214.26it/s]\n",
      "  8%|▊         | 17/200 [00:00<00:01, 166.33it/s]"
     ]
    },
    {
     "name": "stdout",
     "output_type": "stream",
     "text": [
      " Validation Loss: 1.004626\n",
      " Validation R2  : 0.492881\n",
      " Learning Rate  : 0.010000\n",
      "\n",
      "Epoch 18/500\n",
      "----------------------\n"
     ]
    },
    {
     "name": "stderr",
     "output_type": "stream",
     "text": [
      "100%|██████████| 200/200 [00:00<00:00, 217.49it/s]\n",
      "100%|██████████| 20/20 [00:00<00:00, 237.65it/s]\n",
      "  8%|▊         | 17/200 [00:00<00:01, 166.39it/s]"
     ]
    },
    {
     "name": "stdout",
     "output_type": "stream",
     "text": [
      " Validation Loss: 1.004620\n",
      " Validation R2  : 0.492250\n",
      " Learning Rate  : 0.010000\n",
      "\n",
      "Epoch 19/500\n",
      "----------------------\n"
     ]
    },
    {
     "name": "stderr",
     "output_type": "stream",
     "text": [
      "100%|██████████| 200/200 [00:00<00:00, 219.02it/s]\n",
      "100%|██████████| 20/20 [00:00<00:00, 198.16it/s]\n",
      "  6%|▋         | 13/200 [00:00<00:01, 128.97it/s]"
     ]
    },
    {
     "name": "stdout",
     "output_type": "stream",
     "text": [
      " Validation Loss: 1.004621\n",
      " Validation R2  : 0.492398\n",
      " Learning Rate  : 0.001000\n",
      "\n",
      "Epoch 20/500\n",
      "----------------------\n"
     ]
    },
    {
     "name": "stderr",
     "output_type": "stream",
     "text": [
      "100%|██████████| 200/200 [00:00<00:00, 208.43it/s]\n",
      "100%|██████████| 20/20 [00:00<00:00, 185.65it/s]\n",
      " 11%|█         | 22/200 [00:00<00:00, 216.26it/s]"
     ]
    },
    {
     "name": "stdout",
     "output_type": "stream",
     "text": [
      " Validation Loss: 1.004617\n",
      " Validation R2  : 0.492828\n",
      " Learning Rate  : 0.001000\n",
      "\n",
      "Epoch 21/500\n",
      "----------------------\n"
     ]
    },
    {
     "name": "stderr",
     "output_type": "stream",
     "text": [
      "100%|██████████| 200/200 [00:00<00:00, 220.88it/s]\n",
      "100%|██████████| 20/20 [00:00<00:00, 178.43it/s]\n",
      " 11%|█         | 22/200 [00:00<00:00, 214.17it/s]"
     ]
    },
    {
     "name": "stdout",
     "output_type": "stream",
     "text": [
      " Validation Loss: 1.004617\n",
      " Validation R2  : 0.492803\n",
      " Learning Rate  : 0.001000\n",
      "\n",
      "Epoch 22/500\n",
      "----------------------\n"
     ]
    },
    {
     "name": "stderr",
     "output_type": "stream",
     "text": [
      "100%|██████████| 200/200 [00:00<00:00, 219.61it/s]\n",
      "100%|██████████| 20/20 [00:00<00:00, 157.88it/s]\n",
      " 10%|▉         | 19/200 [00:00<00:00, 185.58it/s]"
     ]
    },
    {
     "name": "stdout",
     "output_type": "stream",
     "text": [
      " Validation Loss: 1.004617\n",
      " Validation R2  : 0.492777\n",
      " Learning Rate  : 0.001000\n",
      "\n",
      "Epoch 23/500\n",
      "----------------------\n"
     ]
    },
    {
     "name": "stderr",
     "output_type": "stream",
     "text": [
      "100%|██████████| 200/200 [00:01<00:00, 193.46it/s]\n",
      "100%|██████████| 20/20 [00:00<00:00, 167.46it/s]\n",
      " 10%|█         | 20/200 [00:00<00:00, 192.75it/s]"
     ]
    },
    {
     "name": "stdout",
     "output_type": "stream",
     "text": [
      " Validation Loss: 1.004616\n",
      " Validation R2  : 0.492685\n",
      " Learning Rate  : 0.000100\n",
      "\n",
      "Epoch 24/500\n",
      "----------------------\n"
     ]
    },
    {
     "name": "stderr",
     "output_type": "stream",
     "text": [
      "100%|██████████| 200/200 [00:01<00:00, 197.17it/s]\n",
      "100%|██████████| 20/20 [00:00<00:00, 164.16it/s]\n",
      "  8%|▊         | 17/200 [00:00<00:01, 164.13it/s]"
     ]
    },
    {
     "name": "stdout",
     "output_type": "stream",
     "text": [
      " Validation Loss: 1.004616\n",
      " Validation R2  : 0.492805\n",
      " Learning Rate  : 0.000100\n",
      "\n",
      "Epoch 25/500\n",
      "----------------------\n"
     ]
    },
    {
     "name": "stderr",
     "output_type": "stream",
     "text": [
      "100%|██████████| 200/200 [00:01<00:00, 196.98it/s]\n",
      "100%|██████████| 20/20 [00:00<00:00, 221.71it/s]\n",
      " 10%|█         | 21/200 [00:00<00:00, 203.85it/s]"
     ]
    },
    {
     "name": "stdout",
     "output_type": "stream",
     "text": [
      " Validation Loss: 1.004616\n",
      " Validation R2  : 0.492817\n",
      " Learning Rate  : 0.000100\n",
      "\n",
      "Epoch 26/500\n",
      "----------------------\n"
     ]
    },
    {
     "name": "stderr",
     "output_type": "stream",
     "text": [
      "100%|██████████| 200/200 [00:00<00:00, 213.85it/s]\n",
      "100%|██████████| 20/20 [00:00<00:00, 236.39it/s]\n",
      " 11%|█         | 22/200 [00:00<00:00, 216.32it/s]"
     ]
    },
    {
     "name": "stdout",
     "output_type": "stream",
     "text": [
      " Validation Loss: 1.004616\n",
      " Validation R2  : 0.492818\n",
      " Learning Rate  : 0.000100\n",
      "\n",
      "Epoch 27/500\n",
      "----------------------\n"
     ]
    },
    {
     "name": "stderr",
     "output_type": "stream",
     "text": [
      "100%|██████████| 200/200 [00:00<00:00, 213.44it/s]\n",
      "100%|██████████| 20/20 [00:00<00:00, 232.79it/s]\n",
      " 11%|█         | 22/200 [00:00<00:00, 212.51it/s]"
     ]
    },
    {
     "name": "stdout",
     "output_type": "stream",
     "text": [
      " Validation Loss: 1.004616\n",
      " Validation R2  : 0.492816\n",
      " Learning Rate  : 0.000010\n",
      "\n",
      "Epoch 28/500\n",
      "----------------------\n"
     ]
    },
    {
     "name": "stderr",
     "output_type": "stream",
     "text": [
      "100%|██████████| 200/200 [00:00<00:00, 210.07it/s]\n",
      "100%|██████████| 20/20 [00:00<00:00, 189.73it/s]\n",
      " 10%|▉         | 19/200 [00:00<00:00, 181.78it/s]"
     ]
    },
    {
     "name": "stdout",
     "output_type": "stream",
     "text": [
      " Validation Loss: 1.004616\n",
      " Validation R2  : 0.492816\n",
      " Learning Rate  : 0.000010\n",
      "\n",
      "Epoch 29/500\n",
      "----------------------\n"
     ]
    },
    {
     "name": "stderr",
     "output_type": "stream",
     "text": [
      "100%|██████████| 200/200 [00:01<00:00, 184.44it/s]\n",
      "100%|██████████| 20/20 [00:00<00:00, 212.83it/s]\n",
      " 10%|█         | 20/200 [00:00<00:00, 192.43it/s]"
     ]
    },
    {
     "name": "stdout",
     "output_type": "stream",
     "text": [
      " Validation Loss: 1.004616\n",
      " Validation R2  : 0.492816\n",
      " Learning Rate  : 0.000010\n",
      "\n",
      "Epoch 30/500\n",
      "----------------------\n"
     ]
    },
    {
     "name": "stderr",
     "output_type": "stream",
     "text": [
      "100%|██████████| 200/200 [00:01<00:00, 186.19it/s]\n",
      "100%|██████████| 20/20 [00:00<00:00, 184.66it/s]\n",
      "  8%|▊         | 17/200 [00:00<00:01, 161.04it/s]"
     ]
    },
    {
     "name": "stdout",
     "output_type": "stream",
     "text": [
      " Validation Loss: 1.004616\n",
      " Validation R2  : 0.492816\n",
      " Learning Rate  : 0.000010\n",
      "\n",
      "Epoch 31/500\n",
      "----------------------\n"
     ]
    },
    {
     "name": "stderr",
     "output_type": "stream",
     "text": [
      "100%|██████████| 200/200 [00:00<00:00, 204.50it/s]\n",
      "100%|██████████| 20/20 [00:00<00:00, 206.89it/s]\n",
      " 12%|█▏        | 23/200 [00:00<00:00, 221.98it/s]"
     ]
    },
    {
     "name": "stdout",
     "output_type": "stream",
     "text": [
      " Validation Loss: 1.004616\n",
      " Validation R2  : 0.492816\n",
      " Learning Rate  : 0.000001\n",
      "\n",
      "Epoch 32/500\n",
      "----------------------\n"
     ]
    },
    {
     "name": "stderr",
     "output_type": "stream",
     "text": [
      "100%|██████████| 200/200 [00:00<00:00, 216.41it/s]\n",
      "100%|██████████| 20/20 [00:00<00:00, 240.42it/s]\n",
      " 11%|█         | 22/200 [00:00<00:00, 216.58it/s]"
     ]
    },
    {
     "name": "stdout",
     "output_type": "stream",
     "text": [
      " Validation Loss: 1.004616\n",
      " Validation R2  : 0.492816\n",
      " Learning Rate  : 0.000001\n",
      "\n",
      "Epoch 33/500\n",
      "----------------------\n"
     ]
    },
    {
     "name": "stderr",
     "output_type": "stream",
     "text": [
      "100%|██████████| 200/200 [00:00<00:00, 217.19it/s]\n",
      "100%|██████████| 20/20 [00:00<00:00, 230.76it/s]\n",
      " 11%|█         | 22/200 [00:00<00:00, 218.41it/s]"
     ]
    },
    {
     "name": "stdout",
     "output_type": "stream",
     "text": [
      " Validation Loss: 1.004616\n",
      " Validation R2  : 0.492816\n",
      " Learning Rate  : 0.000001\n",
      "\n",
      "Epoch 34/500\n",
      "----------------------\n"
     ]
    },
    {
     "name": "stderr",
     "output_type": "stream",
     "text": [
      "100%|██████████| 200/200 [00:00<00:00, 213.58it/s]\n",
      "100%|██████████| 20/20 [00:00<00:00, 233.18it/s]\n",
      " 11%|█         | 22/200 [00:00<00:00, 217.56it/s]"
     ]
    },
    {
     "name": "stdout",
     "output_type": "stream",
     "text": [
      " Validation Loss: 1.004616\n",
      " Validation R2  : 0.492816\n",
      " Learning Rate  : 0.000001\n",
      "\n",
      "Epoch 35/500\n",
      "----------------------\n"
     ]
    },
    {
     "name": "stderr",
     "output_type": "stream",
     "text": [
      "100%|██████████| 200/200 [00:00<00:00, 210.31it/s]\n",
      "100%|██████████| 20/20 [00:00<00:00, 234.66it/s]"
     ]
    },
    {
     "name": "stdout",
     "output_type": "stream",
     "text": [
      " Validation Loss: 1.004616\n",
      " Validation R2  : 0.492816\n",
      " Learning Rate  : 0.000000\n",
      "\n"
     ]
    },
    {
     "name": "stderr",
     "output_type": "stream",
     "text": [
      "\n"
     ]
    }
   ],
   "source": [
    "train_loss, val_loss = train(net, net2, dataloaders_dict, criterion, optimizer, 500)"
   ]
  },
  {
   "cell_type": "code",
   "execution_count": 27,
   "id": "0c52b4cd",
   "metadata": {},
   "outputs": [
    {
     "name": "stdout",
     "output_type": "stream",
     "text": [
      "tensor([[-68.2788,  68.6905,  23.9189,  21.4220,  -4.4763,  16.5250,   6.2225,\n",
      "          29.3288, -17.8976,   0.8268,   0.8307,  -6.1494,  -0.6243,   0.9340]])\n",
      "tensor([4.5361])\n"
     ]
    }
   ],
   "source": [
    "for param in net2.parameters():\n",
    "  print(param.data)"
   ]
  },
  {
   "cell_type": "code",
   "execution_count": 28,
   "id": "6edfd8d0",
   "metadata": {},
   "outputs": [
    {
     "data": {
      "text/plain": [
       "[<matplotlib.lines.Line2D at 0x7f8724bb03d0>]"
      ]
     },
     "execution_count": 28,
     "metadata": {},
     "output_type": "execute_result"
    },
    {
     "data": {
      "image/png": "[encoded data removed]",
      "text/plain": [
       "<Figure size 432x288 with 1 Axes>"
      ]
     },
     "metadata": {
      "needs_background": "light"
     },
     "output_type": "display_data"
    }
   ],
   "source": [
    "plt.plot(train_loss)"
   ]
  },
  {
   "cell_type": "code",
   "execution_count": 29,
   "id": "c8fa3c1f",
   "metadata": {},
   "outputs": [
    {
     "data": {
      "text/plain": [
       "[<matplotlib.lines.Line2D at 0x7f8724de0700>]"
      ]
     },
     "execution_count": 29,
     "metadata": {},
     "output_type": "execute_result"
    },
    {
     "data": {
      "image/png": "[encoded data removed]",
      "text/plain": [
       "<Figure size 432x288 with 1 Axes>"
      ]
     },
     "metadata": {
      "needs_background": "light"
     },
     "output_type": "display_data"
    }
   ],
   "source": [
    "plt.plot(val_loss)"
   ]
  },
  {
   "cell_type": "code",
   "execution_count": 30,
   "id": "fae006a2",
   "metadata": {},
   "outputs": [
    {
     "data": {
      "text/plain": [
       "tensor([[ 1.0000,  1.0000, -0.3000,  0.3000],\n",
       "        [ 0.9997,  1.0003, -0.3004,  0.2996],\n",
       "        [ 0.9994,  1.0006, -0.3007,  0.2993],\n",
       "        ...,\n",
       "        [ 0.8459,  1.0927, -0.4394,  0.1417],\n",
       "        [ 0.8454,  1.0928, -0.4397,  0.1413],\n",
       "        [ 0.8450,  1.0929, -0.4400,  0.1409]])"
      ]
     },
     "execution_count": 30,
     "metadata": {},
     "output_type": "execute_result"
    }
   ],
   "source": [
    "X[:5000]"
   ]
  },
  {
   "cell_type": "code",
   "execution_count": 31,
   "id": "b2a287fa",
   "metadata": {},
   "outputs": [
    {
     "data": {
      "text/plain": [
       "tensor([[ 0.2367,  0.9646, -0.7401, -0.4814],\n",
       "        [ 0.5279, -0.1628,  1.3698,  0.7141],\n",
       "        [ 1.1099,  0.7715, -0.0728,  0.4900],\n",
       "        ...,\n",
       "        [ 0.1414, -0.2611,  2.3442, -0.0850],\n",
       "        [ 0.9153,  1.0630, -0.3845,  0.2090],\n",
       "        [ 0.9922,  1.0075, -0.3090,  0.2909]])"
      ]
     },
     "execution_count": 31,
     "metadata": {},
     "output_type": "execute_result"
    }
   ],
   "source": [
    "X_p[:5000]"
   ]
  },
  {
   "cell_type": "code",
   "execution_count": 32,
   "id": "3a267b2d",
   "metadata": {},
   "outputs": [
    {
     "data": {
      "text/plain": [
       "tensor([[ 1.0000,  1.0000, -0.3000,  0.3000],\n",
       "        [ 0.9997,  1.0003, -0.3004,  0.2996],\n",
       "        [ 0.9994,  1.0006, -0.3007,  0.2993],\n",
       "        ...,\n",
       "        [ 0.8459,  1.0927, -0.4394,  0.1417],\n",
       "        [ 0.8454,  1.0928, -0.4397,  0.1413],\n",
       "        [ 0.8450,  1.0929, -0.4400,  0.1409]])"
      ]
     },
     "execution_count": 32,
     "metadata": {},
     "output_type": "execute_result"
    }
   ],
   "source": [
    "X[5000:]"
   ]
  },
  {
   "cell_type": "code",
   "execution_count": 33,
   "id": "39a10a97",
   "metadata": {},
   "outputs": [
    {
     "data": {
      "text/plain": [
       "tensor([[ 1.0000,  1.0000,  0.3274,  0.3000],\n",
       "        [ 0.9997,  1.0003, -0.3004,  0.0685],\n",
       "        [ 0.9275,  1.0006, -0.3007,  0.2993],\n",
       "        ...,\n",
       "        [ 0.8459,  1.0927, -0.4394,  0.7793],\n",
       "        [ 0.6565,  1.0928, -0.4397,  0.1413],\n",
       "        [ 0.8450,  1.0929, -0.4400, -0.2485]])"
      ]
     },
     "execution_count": 33,
     "metadata": {},
     "output_type": "execute_result"
    }
   ],
   "source": [
    "X_p[5000:]"
   ]
  },
  {
   "cell_type": "code",
   "execution_count": null,
   "id": "8bdd658b",
   "metadata": {},
   "outputs": [],
   "source": []
  }
 ],
 "metadata": {
  "kernelspec": {
   "display_name": "Python 3",
   "language": "python",
   "name": "python3"
  },
  "language_info": {
   "codemirror_mode": {
    "name": "ipython",
    "version": 3
   },
   "file_extension": ".py",
   "mimetype": "text/x-python",
   "name": "python",
   "nbconvert_exporter": "python",
   "pygments_lexer": "ipython3",
   "version": "3.9.6"
  }
 },
 "nbformat": 4,
 "nbformat_minor": 5
}
