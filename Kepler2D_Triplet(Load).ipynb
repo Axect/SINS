{
 "cells": [
  {
   "cell_type": "code",
   "execution_count": 1,
   "id": "4f8948e1",
   "metadata": {},
   "outputs": [],
   "source": [
    "import torch\n",
    "from torch import nn, optim\n",
    "from torch.utils.data import Dataset, DataLoader\n",
    "import torch.nn.functional as F\n",
    "from torch.distributions.uniform import Uniform\n",
    "import numpy as np\n",
    "import matplotlib.pyplot as plt\n",
    "from tqdm import tqdm\n",
    "\n",
    "from scipy.integrate import odeint\n",
    "\n",
    "import shap"
   ]
  },
  {
   "cell_type": "code",
   "execution_count": 2,
   "id": "338fc53f",
   "metadata": {},
   "outputs": [
    {
     "data": {
      "text/plain": [
       "'cpu'"
      ]
     },
     "execution_count": 2,
     "metadata": {},
     "output_type": "execute_result"
    }
   ],
   "source": [
    "torch.manual_seed(8407)\n",
    "device = 'cuda' if torch.cuda.is_available() else 'cpu'\n",
    "device"
   ]
  },
  {
   "cell_type": "code",
   "execution_count": 3,
   "id": "ce33df0e",
   "metadata": {},
   "outputs": [],
   "source": [
    "class Kepler2D(Dataset):\n",
    "    def __init__(self, t, z0, G=1, M=1):\n",
    "        tmin, tmax, tnum = t\n",
    "        \n",
    "        def eom(z, t):\n",
    "            x, y, vx, vy = z\n",
    "            dxdt = vx\n",
    "            dydt = vy\n",
    "            dvxdt = - G * M / (x**2 + y**2)**(3/2) * x\n",
    "            dvydt = - G * M / (x**2 + y**2)**(3/2) * y\n",
    "            return [dxdt, dydt, dvxdt, dvydt]\n",
    "        \n",
    "        t = torch.linspace(tmin, tmax, tnum)\n",
    "        X = torch.Tensor(odeint(eom, z0, t)).float()\n",
    "        \n",
    "        # Positive Pair\n",
    "        idx = torch.randperm(len(t))\n",
    "        X_p = X[idx, :]\n",
    "        \n",
    "        # Negative Pair - 1. x\n",
    "        idx_x = torch.randperm(len(t))\n",
    "        X_x = X.clone()\n",
    "        X_x[:,0] = X_x[idx_x, 0]\n",
    "        \n",
    "        # Negative Pair - 2. y\n",
    "        idx_y = torch.randperm(len(t))\n",
    "        X_y = X.clone()\n",
    "        X_y[:,1] = X_y[idx_y, 1]\n",
    "        \n",
    "        # Negative Pair - 3. vx\n",
    "        idx_vx = torch.randperm(len(t))\n",
    "        X_vx = X.clone()\n",
    "        X_vx[:,2] = X_vx[idx_vx, 2]\n",
    "        \n",
    "        # Negative Pair - 4. vy\n",
    "        idx_vy = torch.randperm(len(t))\n",
    "        X_vy = X.clone()\n",
    "        X_vy[:,3] = X_y[idx_vy, 3]\n",
    "        \n",
    "        # Mix Negative Pair\n",
    "        X_n_tot = torch.stack([X_x, X_y, X_vx, X_vy], dim=2)\n",
    "        idx_neg = torch.randint(4, (len(t),))\n",
    "        X_n = torch.Tensor(X.shape[0], X.shape[1]).float()\n",
    "        for i in range(X.shape[0]):\n",
    "            X_n[i, :] = X_n_tot[i, :, idx_neg[i]]\n",
    "            \n",
    "        self.X = X\n",
    "        self.X_p = X_p\n",
    "        self.X_n = X_n\n",
    "        \n",
    "    def __len__(self):\n",
    "        return self.X.shape[0]\n",
    "    \n",
    "    def __getitem__(self, idx):\n",
    "        x = torch.Tensor(self.X[idx])\n",
    "        x_p = torch.Tensor(self.X_p[idx])\n",
    "        x_n = torch.Tensor(self.X_n[idx])\n",
    "        return x, x_p, x_n"
   ]
  },
  {
   "cell_type": "code",
   "execution_count": 5,
   "id": "3529569f",
   "metadata": {},
   "outputs": [],
   "source": [
    "class SNN(nn.Module):\n",
    "    def __init__(self):\n",
    "        super(SNN, self).__init__()\n",
    "        self.linear_relu = nn.Sequential(\n",
    "            nn.Linear(4,100),\n",
    "            nn.ReLU(),\n",
    "            nn.Linear(100,1),\n",
    "            nn.ReLU()\n",
    "        )\n",
    "\n",
    "#     def forward(self, x, x_p, x_n):\n",
    "#         out1 = self.linear_relu(x)\n",
    "#         out2 = self.linear_relu(x_p)\n",
    "#         out3 = self.linear_relu(x_n)\n",
    "#         return out1, out2, out3\n",
    "    def forward(self, x):\n",
    "        out = self.linear_relu(x)\n",
    "        return out"
   ]
  },
  {
   "cell_type": "code",
   "execution_count": 6,
   "id": "d86003f1",
   "metadata": {},
   "outputs": [],
   "source": [
    "def r2_score(target, output):\n",
    "    target_mean = torch.mean(target)\n",
    "    ss_tot = torch.sum((target - target_mean) ** 2)\n",
    "    ss_res = torch.sum((target - output) ** 2)\n",
    "    r2 = 1 - ss_res / ss_tot\n",
    "    return r2"
   ]
  },
  {
   "cell_type": "code",
   "execution_count": 7,
   "id": "f0ed37b6",
   "metadata": {},
   "outputs": [
    {
     "name": "stdout",
     "output_type": "stream",
     "text": [
      "[1.3, 1.9, -0.23, 0.17]\n"
     ]
    }
   ],
   "source": [
    "z0 = [1.3, 1.9, -0.23, 0.17]\n",
    "print(z0)\n",
    "t_test = (0, 10, 5000)"
   ]
  },
  {
   "cell_type": "code",
   "execution_count": 8,
   "id": "59a96654",
   "metadata": {},
   "outputs": [],
   "source": [
    "test_dataset = Kepler2D(t_test, z0)\n",
    "test_dataloader = DataLoader(test_dataset, batch_size=500)"
   ]
  },
  {
   "cell_type": "code",
   "execution_count": 22,
   "id": "1df2d091",
   "metadata": {},
   "outputs": [
    {
     "data": {
      "text/plain": [
       "tensor([[ 1.3000,  1.9000, -0.2300,  0.1700],\n",
       "        [ 1.2995,  1.9003, -0.2302,  0.1697],\n",
       "        [ 1.2991,  1.9007, -0.2304,  0.1694],\n",
       "        ...,\n",
       "        [ 1.0211,  1.9893, -0.3278,  0.0058],\n",
       "        [ 1.0204,  1.9893, -0.3280,  0.0055],\n",
       "        [ 1.0198,  1.9894, -0.3281,  0.0051]])"
      ]
     },
     "execution_count": 22,
     "metadata": {},
     "output_type": "execute_result"
    }
   ],
   "source": [
    "test_dataset[:][0]"
   ]
  },
  {
   "cell_type": "code",
   "execution_count": 42,
   "id": "65f910c7",
   "metadata": {},
   "outputs": [],
   "source": [
    "net = torch.load(\"model/snn_kepl2d_trip_02.pt\").to(device)\n",
    "criterion = nn.TripletMarginLoss()"
   ]
  },
  {
   "cell_type": "code",
   "execution_count": 43,
   "id": "f934def6",
   "metadata": {},
   "outputs": [
    {
     "name": "stdout",
     "output_type": "stream",
     "text": [
      "Average Accuracy: 99.83999999999999%\n"
     ]
    }
   ],
   "source": [
    "total_accuracy = 0\n",
    "total_size = len(test_dataloader.dataset)\n",
    "for batch, samples in enumerate(test_dataloader):\n",
    "    x, x_p, x_n = samples\n",
    "    x, x_p, x_n = x.to(device), x_p.to(device), x_n.to(device)\n",
    "    with torch.no_grad():\n",
    "#         out1, out2, out3 = net(x, x_p, x_n)\n",
    "        out1 = net(x)\n",
    "        out2 = net(x_p)\n",
    "        out3 = net(x_n)\n",
    "        acc = torch.count_nonzero(torch.abs(out1 - out2) <= torch.abs(out1 - out3)).item()\n",
    "        # print(f\"Accuracy: {100-acc}%\")\n",
    "        total_accuracy += acc\n",
    "        # temp = torch.column_stack([pred1, pred2, y])\n",
    "        # temp_val = temp[idx]\n",
    "        # if len(temp_val) != 0:\n",
    "        #     print(f\"{batch} - {temp_val[:].tolist()}\")\n",
    "print(f\"Average Accuracy: {total_accuracy/total_size*100}%\")"
   ]
  },
  {
   "cell_type": "code",
   "execution_count": 25,
   "id": "89c6daf9",
   "metadata": {},
   "outputs": [],
   "source": [
    "explainer_shap = shap.DeepExplainer(net, test_dataset[:][0])"
   ]
  },
  {
   "cell_type": "code",
   "execution_count": 26,
   "id": "dfc90815",
   "metadata": {},
   "outputs": [
    {
     "name": "stderr",
     "output_type": "stream",
     "text": [
      "Using a non-full backward hook when the forward contains multiple autograd Nodes is deprecated and will be removed in future versions. This hook will be missing some grad_input. Please use register_full_backward_hook to get the documented behavior.\n"
     ]
    }
   ],
   "source": [
    "shap_values = explainer_shap.shap_values(test_dataset[:][0])"
   ]
  },
  {
   "cell_type": "code",
   "execution_count": 31,
   "id": "c89ba414",
   "metadata": {},
   "outputs": [
    {
     "data": {
      "text/plain": [
       "torch.Tensor"
      ]
     },
     "execution_count": 31,
     "metadata": {},
     "output_type": "execute_result"
    }
   ],
   "source": [
    "type(test_dataset[:][0])"
   ]
  },
  {
   "cell_type": "code",
   "execution_count": 36,
   "id": "56475d5a",
   "metadata": {},
   "outputs": [],
   "source": [
    "test_data_numpy = test_dataset[:][0].numpy()"
   ]
  },
  {
   "cell_type": "code",
   "execution_count": 37,
   "id": "fa6f0e84",
   "metadata": {},
   "outputs": [
    {
     "data": {
      "image/png": "[encoded data removed]",
      "text/plain": [
       "<Figure size 576x223.2 with 1 Axes>"
      ]
     },
     "metadata": {
      "needs_background": "light"
     },
     "output_type": "display_data"
    }
   ],
   "source": [
    "shap.decision_plot(\n",
    "    explainer_shap.expected_value[:10],\n",
    "    shap_values[:10],\n",
    "    test_data_numpy,\n",
    "    feature_names=[\"x\", \"y\", \"vx\", \"vy\"]\n",
    ")"
   ]
  },
  {
   "cell_type": "code",
   "execution_count": 41,
   "id": "7ac21245",
   "metadata": {},
   "outputs": [
    {
     "data": {
      "image/png": "[encoded data removed]",
      "text/plain": [
       "<Figure size 576x223.2 with 2 Axes>"
      ]
     },
     "metadata": {
      "needs_background": "light"
     },
     "output_type": "display_data"
    }
   ],
   "source": [
    "shap.summary_plot(shap_values, test_data_numpy[:], feature_names=[\"x\", \"y\", \"vx\", \"vy\"])"
   ]
  },
  {
   "cell_type": "code",
   "execution_count": 42,
   "id": "19ecaf6a",
   "metadata": {},
   "outputs": [
    {
     "data": {
      "image/png": "[encoded data removed]",
      "text/plain": [
       "<Figure size 576x223.2 with 1 Axes>"
      ]
     },
     "metadata": {
      "needs_background": "light"
     },
     "output_type": "display_data"
    }
   ],
   "source": [
    "shap.summary_plot(shap_values,test_data_numpy[:], feature_names=[\"x\", \"y\", \"vx\", \"vy\"], plot_type=\"bar\")"
   ]
  },
  {
   "cell_type": "code",
   "execution_count": 46,
   "id": "1af18298",
   "metadata": {},
   "outputs": [
    {
     "data": {
      "image/png": "[encoded data removed]",
      "text/plain": [
       "<Figure size 540x360 with 2 Axes>"
      ]
     },
     "metadata": {
      "needs_background": "light"
     },
     "output_type": "display_data"
    }
   ],
   "source": [
    "#shap.dependence_plot(3, shap_values, test_data_numpy)"
   ]
  },
  {
   "cell_type": "code",
   "execution_count": 11,
   "id": "d6ac5fb8",
   "metadata": {},
   "outputs": [],
   "source": [
    "def r2_score(output, target):\n",
    "    target_mean = torch.mean(target)\n",
    "    ss_tot = torch.sum((target - target_mean) ** 2)\n",
    "    ss_res = torch.sum((target - output) ** 2)\n",
    "    r2 = 1 - ss_res / ss_tot\n",
    "    return r2"
   ]
  },
  {
   "cell_type": "code",
   "execution_count": 44,
   "id": "ec8c32e3",
   "metadata": {},
   "outputs": [
    {
     "data": {
      "text/plain": [
       "tensor([[14.1368],\n",
       "        [14.1370],\n",
       "        [14.1372],\n",
       "        ...,\n",
       "        [40.4385],\n",
       "        [17.2805],\n",
       "        [34.4681]])"
      ]
     },
     "execution_count": 44,
     "metadata": {},
     "output_type": "execute_result"
    }
   ],
   "source": [
    "X, X_p, X_n = test_dataset[:]\n",
    "X, X_p, X_n = X.to(device), X_p.to(device), X_n.to(device)\n",
    "\n",
    "x, y, vx, vy = X[:, 0], X[:,1], X[:,2], X[:,3]\n",
    "x, y, vx, vy = x.to(device), y.to(device), vx.to(device), vy.to(device)\n",
    "\n",
    "x_n, y_n, vx_n, vy_n = X_n[:, 0], X_n[:,1], X_n[:,2], X_n[:,3]\n",
    "\n",
    "x = torch.cat([x, x_n])\n",
    "y = torch.cat([y, y_n])\n",
    "vx = torch.cat([vx, vx_n])\n",
    "vy = torch.cat([vy, vy_n])\n",
    "\n",
    "net.eval()\n",
    "with torch.no_grad():\n",
    "    Z1 = net(X)\n",
    "    Z2 = net(X_n)\n",
    "    Z = torch.vstack([Z1, Z2])\n",
    "#     Z, _, _ = net(X, X_p, X_n)\n",
    "Z"
   ]
  },
  {
   "cell_type": "code",
   "execution_count": 45,
   "id": "032eaa23",
   "metadata": {},
   "outputs": [
    {
     "data": {
      "text/plain": [
       "torch.Size([10000, 1])"
      ]
     },
     "execution_count": 45,
     "metadata": {},
     "output_type": "execute_result"
    }
   ],
   "source": [
    "Z.shape"
   ]
  },
  {
   "cell_type": "code",
   "execution_count": 46,
   "id": "f55fa438",
   "metadata": {},
   "outputs": [
    {
     "data": {
      "text/plain": [
       "torch.Size([10000])"
      ]
     },
     "execution_count": 46,
     "metadata": {},
     "output_type": "execute_result"
    }
   ],
   "source": [
    "x.shape"
   ]
  },
  {
   "cell_type": "code",
   "execution_count": 47,
   "id": "227c202a",
   "metadata": {},
   "outputs": [],
   "source": [
    "X_linear = torch.column_stack([torch.ones((len(x), 1)).float().to(device), x, y, vx, vy])"
   ]
  },
  {
   "cell_type": "code",
   "execution_count": 48,
   "id": "02e99fdf",
   "metadata": {},
   "outputs": [
    {
     "data": {
      "text/plain": [
       "tensor([[19.8809],\n",
       "        [-9.6470],\n",
       "        [ 1.9947],\n",
       "        [-2.3864],\n",
       "        [ 9.5734]])"
      ]
     },
     "execution_count": 48,
     "metadata": {},
     "output_type": "execute_result"
    }
   ],
   "source": [
    "weight_linear = torch.mm(torch.linalg.pinv(X_linear), Z)\n",
    "weight_linear"
   ]
  },
  {
   "cell_type": "code",
   "execution_count": 49,
   "id": "0638eb6e",
   "metadata": {},
   "outputs": [
    {
     "data": {
      "text/plain": [
       "tensor(0.5224)"
      ]
     },
     "execution_count": 49,
     "metadata": {},
     "output_type": "execute_result"
    }
   ],
   "source": [
    "r2_score(torch.mm(X_linear, weight_linear), Z)"
   ]
  },
  {
   "cell_type": "code",
   "execution_count": 54,
   "id": "91e85137",
   "metadata": {},
   "outputs": [],
   "source": [
    "X_quad = torch.column_stack([torch.ones((len(x), 1)).float().to(device), x*vy, y*vx])"
   ]
  },
  {
   "cell_type": "code",
   "execution_count": 55,
   "id": "e8402eae",
   "metadata": {},
   "outputs": [
    {
     "data": {
      "text/plain": [
       "torch.Size([10000, 3])"
      ]
     },
     "execution_count": 55,
     "metadata": {},
     "output_type": "execute_result"
    }
   ],
   "source": [
    "X_quad.shape"
   ]
  },
  {
   "cell_type": "code",
   "execution_count": 56,
   "id": "339cae37",
   "metadata": {},
   "outputs": [
    {
     "data": {
      "text/plain": [
       "tensor([[11.3078],\n",
       "        [ 6.9114],\n",
       "        [-4.2181]])"
      ]
     },
     "execution_count": 56,
     "metadata": {},
     "output_type": "execute_result"
    }
   ],
   "source": [
    "weight_quad = torch.mm(torch.linalg.pinv(X_quad), Z)\n",
    "weight_quad"
   ]
  },
  {
   "cell_type": "code",
   "execution_count": 57,
   "id": "232def2b",
   "metadata": {},
   "outputs": [
    {
     "data": {
      "text/plain": [
       "tensor(-2.2957)"
      ]
     },
     "execution_count": 57,
     "metadata": {},
     "output_type": "execute_result"
    }
   ],
   "source": [
    "r2_score(Z, torch.mm(X_quad, weight_quad))"
   ]
  },
  {
   "cell_type": "code",
   "execution_count": null,
   "id": "9d33a6ea",
   "metadata": {},
   "outputs": [],
   "source": [
    "class PolyNet(nn.Module):\n",
    "    def __init__(self):\n",
    "        super(PolyNet, self).__init__()\n",
    "        self.model = nn.Sequential(\n",
    "            nn.Linear(14, 1),\n",
    "            nn.LeakyReLU()\n",
    "        )\n",
    "\n",
    "    def forward(self, x):\n",
    "        return self.model(x)"
   ]
  },
  {
   "cell_type": "code",
   "execution_count": null,
   "id": "36d07cb4",
   "metadata": {},
   "outputs": [],
   "source": [
    "net2 = PolyNet().to(device)"
   ]
  },
  {
   "cell_type": "code",
   "execution_count": null,
   "id": "96862cff",
   "metadata": {},
   "outputs": [],
   "source": [
    "print(net2)"
   ]
  },
  {
   "cell_type": "code",
   "execution_count": null,
   "id": "6a99da48",
   "metadata": {},
   "outputs": [],
   "source": [
    "criterion = nn.MSELoss()\n",
    "optimizer = torch.optim.Adam(net2.parameters(), lr=1)\n",
    "scheduler = torch.optim.lr_scheduler.ReduceLROnPlateau(optimizer, 'min', patience=3)"
   ]
  },
  {
   "cell_type": "code",
   "execution_count": null,
   "id": "175c1325",
   "metadata": {},
   "outputs": [],
   "source": [
    "t_train = (0, 10, 50000)\n",
    "t_valid = (0, 10, 5000)\n",
    "\n",
    "train_dataset = Kepler2D(t_train, z0)\n",
    "valid_dataset = Kepler2D(t_valid, z0)\n",
    "\n",
    "train_dataloader = DataLoader(train_dataset, batch_size=500, shuffle=True)\n",
    "valid_dataloader = DataLoader(valid_dataset, batch_size=500)\n",
    "\n",
    "dataloaders_dict = {\n",
    "    \"train\": train_dataloader,\n",
    "    \"val\": valid_dataloader\n",
    "}"
   ]
  },
  {
   "cell_type": "code",
   "execution_count": null,
   "id": "b046da68",
   "metadata": {},
   "outputs": [],
   "source": [
    "def train(net, net2, dataloaders_dict, criterion, optimizer, num_epochs):\n",
    "    train_loss = []\n",
    "    val_loss = []\n",
    "    net.eval()\n",
    "    for epoch in range(num_epochs):\n",
    "        print(f\"Epoch {epoch+1}/{num_epochs}\")\n",
    "        print(\"----------------------\")\n",
    "        \n",
    "        for phase in ['train', 'val']:\n",
    "            if phase == 'train':\n",
    "                net2.train()\n",
    "            else:\n",
    "                net2.eval()\n",
    "                \n",
    "            epoch_loss = 0.0\n",
    "            epoch_r2 = 0.0\n",
    "            \n",
    "            data = dataloaders_dict[phase]\n",
    "            for batch, samples in enumerate(tqdm(data)):\n",
    "                X, X_p, X_n = samples\n",
    "                X, X_p, X_n = X.to(device), X_p.to(device), X_n.to(device)\n",
    "                \n",
    "                optimizer.zero_grad()\n",
    "                with torch.set_grad_enabled(phase==\"train\"):\n",
    "                    with torch.no_grad():\n",
    "                        _, _, out = net(X, X_p, X_n)\n",
    "                        x, y, vx, vy = X_n[:, 0], X_n[:,1], X_n[:,2], X_n[:,3]\n",
    "                    X_quad = torch.column_stack([x, y, vx, vy, x**2, x*y, x*vx, x*vy, y**2, y*vx, y*vy, vx**2, vx*vy, vy**2])\n",
    "                    Z = net2(X_quad)\n",
    "                    loss = criterion(Z, out)\n",
    "                    \n",
    "                    if phase == \"train\":\n",
    "                        loss.backward()\n",
    "                        optimizer.step()\n",
    "                    \n",
    "                epoch_loss += loss.item() + X.shape[0]\n",
    "                epoch_r2 += r2_score(Z, out) * batch\n",
    "                    \n",
    "            epoch_loss = epoch_loss / len(data.dataset)\n",
    "            epoch_r2 = epoch_r2 / len(data.dataset) * 100\n",
    "            \n",
    "            if phase == 'train':\n",
    "                train_loss.append(epoch_loss)\n",
    "            else:\n",
    "                val_loss.append(epoch_loss)\n",
    "                scheduler.step(epoch_loss)\n",
    "                lr = scheduler._last_lr[0]\n",
    "                print(f\" Validation Loss: {epoch_loss:>8f}\")\n",
    "                print(f\" Validation R2  : {epoch_r2:>8f}\")\n",
    "                print(f\" Learning Rate  : {lr:>8f}\\n\")\n",
    "                if lr < 1e-6:\n",
    "                    return train_loss, val_loss\n",
    "            \n",
    "    return train_loss, val_loss"
   ]
  },
  {
   "cell_type": "code",
   "execution_count": null,
   "id": "6cfe22b5",
   "metadata": {},
   "outputs": [],
   "source": [
    "train_loss, val_loss = train(net, net2, dataloaders_dict, criterion, optimizer, 500)"
   ]
  },
  {
   "cell_type": "code",
   "execution_count": null,
   "id": "0c52b4cd",
   "metadata": {},
   "outputs": [],
   "source": [
    "for param in net2.parameters():\n",
    "  print(param.data)"
   ]
  },
  {
   "cell_type": "code",
   "execution_count": null,
   "id": "6edfd8d0",
   "metadata": {},
   "outputs": [],
   "source": [
    "plt.plot(train_loss)"
   ]
  },
  {
   "cell_type": "code",
   "execution_count": null,
   "id": "c8fa3c1f",
   "metadata": {},
   "outputs": [],
   "source": [
    "plt.plot(val_loss)"
   ]
  }
 ],
 "metadata": {
  "kernelspec": {
   "display_name": "Python 3",
   "language": "python",
   "name": "python3"
  },
  "language_info": {
   "codemirror_mode": {
    "name": "ipython",
    "version": 3
   },
   "file_extension": ".py",
   "mimetype": "text/x-python",
   "name": "python",
   "nbconvert_exporter": "python",
   "pygments_lexer": "ipython3",
   "version": "3.9.6"
  }
 },
 "nbformat": 4,
 "nbformat_minor": 5
}
